{
 "cells": [
  {
   "cell_type": "code",
   "execution_count": 1,
   "metadata": {},
   "outputs": [],
   "source": [
    "import os\n",
    "\n",
    "import pandas as pd\n",
    "import numpy as np\n",
    "import matplotlib.pyplot as plt\n",
    "import seaborn as sns \n",
    "import pandas as pd\n",
    "import pyarrow.parquet as pq\n",
    "import scipy.stats\n",
    "\n",
    "from s3fs.core import S3FileSystem\n",
    "from bs4 import BeautifulSoup\n",
    "from sklearn.metrics import mean_absolute_error\n",
    "from sklearn.model_selection import GridSearchCV\n",
    "from sklearn.metrics import make_scorer"
   ]
  },
  {
   "cell_type": "code",
   "execution_count": 2,
   "metadata": {},
   "outputs": [],
   "source": [
    "def read_parquet_from_s3(key):\n",
    "    return pq.ParquetDataset('s3://spark-lrng-d.sei/{}'.format(key), filesystem=S3FileSystem(anon=False)).read_pandas().to_pandas()\n",
    "\n",
    "def read_csv_from_s3(key, header=0, engine='python'):\n",
    "    return pd.read_csv('s3://spark-lrng-d.sei/{}'.format(key),  header=0, engine='python', encoding='ISO-8859-1')"
   ]
  },
  {
   "cell_type": "code",
   "execution_count": 24,
   "metadata": {
    "scrolled": true
   },
   "outputs": [
    {
     "name": "stdout",
     "output_type": "stream",
     "text": [
      "CPU times: user 25.2 s, sys: 8.76 s, total: 34 s\n",
      "Wall time: 4min 27s\n"
     ]
    }
   ],
   "source": [
    "%%time\n",
    "answers_df = read_csv_from_s3('data/Answers.csv')"
   ]
  },
  {
   "cell_type": "code",
   "execution_count": 30,
   "metadata": {},
   "outputs": [
    {
     "data": {
      "text/html": [
       "<div>\n",
       "<style scoped>\n",
       "    .dataframe tbody tr th:only-of-type {\n",
       "        vertical-align: middle;\n",
       "    }\n",
       "\n",
       "    .dataframe tbody tr th {\n",
       "        vertical-align: top;\n",
       "    }\n",
       "\n",
       "    .dataframe thead th {\n",
       "        text-align: right;\n",
       "    }\n",
       "</style>\n",
       "<table border=\"1\" class=\"dataframe\">\n",
       "  <thead>\n",
       "    <tr style=\"text-align: right;\">\n",
       "      <th></th>\n",
       "      <th>Id</th>\n",
       "      <th>OwnerUserId</th>\n",
       "      <th>ParentId</th>\n",
       "      <th>Score</th>\n",
       "    </tr>\n",
       "  </thead>\n",
       "  <tbody>\n",
       "    <tr>\n",
       "      <th>count</th>\n",
       "      <td>9.831310e+05</td>\n",
       "      <td>9.778030e+05</td>\n",
       "      <td>9.831310e+05</td>\n",
       "      <td>983131.000000</td>\n",
       "    </tr>\n",
       "    <tr>\n",
       "      <th>mean</th>\n",
       "      <td>2.166481e+07</td>\n",
       "      <td>1.594285e+06</td>\n",
       "      <td>2.059368e+07</td>\n",
       "      <td>2.304567</td>\n",
       "    </tr>\n",
       "    <tr>\n",
       "      <th>std</th>\n",
       "      <td>1.177363e+07</td>\n",
       "      <td>1.650458e+06</td>\n",
       "      <td>1.193477e+07</td>\n",
       "      <td>4.858901</td>\n",
       "    </tr>\n",
       "    <tr>\n",
       "      <th>min</th>\n",
       "      <td>4.970000e+02</td>\n",
       "      <td>1.000000e+00</td>\n",
       "      <td>4.690000e+02</td>\n",
       "      <td>-38.000000</td>\n",
       "    </tr>\n",
       "    <tr>\n",
       "      <th>25%</th>\n",
       "      <td>1.153828e+07</td>\n",
       "      <td>2.642150e+05</td>\n",
       "      <td>1.006664e+07</td>\n",
       "      <td>0.000000</td>\n",
       "    </tr>\n",
       "    <tr>\n",
       "      <th>50%</th>\n",
       "      <td>2.260948e+07</td>\n",
       "      <td>9.722080e+05</td>\n",
       "      <td>2.110750e+07</td>\n",
       "      <td>1.000000</td>\n",
       "    </tr>\n",
       "    <tr>\n",
       "      <th>75%</th>\n",
       "      <td>3.208662e+07</td>\n",
       "      <td>2.443062e+06</td>\n",
       "      <td>3.118924e+07</td>\n",
       "      <td>2.000000</td>\n",
       "    </tr>\n",
       "    <tr>\n",
       "      <th>max</th>\n",
       "      <td>4.014337e+07</td>\n",
       "      <td>7.044747e+06</td>\n",
       "      <td>4.014319e+07</td>\n",
       "      <td>66.000000</td>\n",
       "    </tr>\n",
       "  </tbody>\n",
       "</table>\n",
       "</div>"
      ],
      "text/plain": [
       "                 Id   OwnerUserId      ParentId          Score\n",
       "count  9.831310e+05  9.778030e+05  9.831310e+05  983131.000000\n",
       "mean   2.166481e+07  1.594285e+06  2.059368e+07       2.304567\n",
       "std    1.177363e+07  1.650458e+06  1.193477e+07       4.858901\n",
       "min    4.970000e+02  1.000000e+00  4.690000e+02     -38.000000\n",
       "25%    1.153828e+07  2.642150e+05  1.006664e+07       0.000000\n",
       "50%    2.260948e+07  9.722080e+05  2.110750e+07       1.000000\n",
       "75%    3.208662e+07  2.443062e+06  3.118924e+07       2.000000\n",
       "max    4.014337e+07  7.044747e+06  4.014319e+07      66.000000"
      ]
     },
     "execution_count": 30,
     "metadata": {},
     "output_type": "execute_result"
    }
   ],
   "source": [
    "answers_df.describe()"
   ]
  },
  {
   "cell_type": "markdown",
   "metadata": {},
   "source": [
    "## Check  target variable distribution"
   ]
  },
  {
   "cell_type": "code",
   "execution_count": 17,
   "metadata": {
    "scrolled": true
   },
   "outputs": [],
   "source": [
    "def show_score_distribution():\n",
    "    fig, ax = plt.subplots()\n",
    "    fig.set_size_inches(8, 8)\n",
    "\n",
    "    sns.distplot(answers_df['Score']);\n",
    "    plt.legend(['Score'],loc='best')\n",
    "    plt.title('Score distribution')"
   ]
  },
  {
   "cell_type": "code",
   "execution_count": 18,
   "metadata": {
    "scrolled": true
   },
   "outputs": [
    {
     "data": {
      "image/png": "[encoded data removed]",
      "text/plain": [
       "<Figure size 576x576 with 1 Axes>"
      ]
     },
     "metadata": {},
     "output_type": "display_data"
    }
   ],
   "source": [
    "show_score_distribution()"
   ]
  },
  {
   "cell_type": "markdown",
   "metadata": {},
   "source": [
    "#### Remove outliers"
   ]
  },
  {
   "cell_type": "code",
   "execution_count": 29,
   "metadata": {},
   "outputs": [
    {
     "data": {
      "image/png": "[encoded data removed]",
      "text/plain": [
       "<Figure size 576x576 with 1 Axes>"
      ]
     },
     "metadata": {},
     "output_type": "display_data"
    }
   ],
   "source": [
    "from scipy import stats\n",
    "\n",
    "answers_df = answers_df[(np.abs(stats.zscore(answers_df['Score'])) < 3)]\n",
    "show_score_distribution()"
   ]
  },
  {
   "cell_type": "code",
   "execution_count": 31,
   "metadata": {
    "scrolled": true
   },
   "outputs": [
    {
     "data": {
      "text/html": [
       "<div>\n",
       "<style scoped>\n",
       "    .dataframe tbody tr th:only-of-type {\n",
       "        vertical-align: middle;\n",
       "    }\n",
       "\n",
       "    .dataframe tbody tr th {\n",
       "        vertical-align: top;\n",
       "    }\n",
       "\n",
       "    .dataframe thead th {\n",
       "        text-align: right;\n",
       "    }\n",
       "</style>\n",
       "<table border=\"1\" class=\"dataframe\">\n",
       "  <thead>\n",
       "    <tr style=\"text-align: right;\">\n",
       "      <th></th>\n",
       "      <th>Id</th>\n",
       "      <th>OwnerUserId</th>\n",
       "      <th>ParentId</th>\n",
       "      <th>Score</th>\n",
       "    </tr>\n",
       "  </thead>\n",
       "  <tbody>\n",
       "    <tr>\n",
       "      <th>count</th>\n",
       "      <td>9.831310e+05</td>\n",
       "      <td>9.778030e+05</td>\n",
       "      <td>9.831310e+05</td>\n",
       "      <td>983131.000000</td>\n",
       "    </tr>\n",
       "    <tr>\n",
       "      <th>mean</th>\n",
       "      <td>2.166481e+07</td>\n",
       "      <td>1.594285e+06</td>\n",
       "      <td>2.059368e+07</td>\n",
       "      <td>2.304567</td>\n",
       "    </tr>\n",
       "    <tr>\n",
       "      <th>std</th>\n",
       "      <td>1.177363e+07</td>\n",
       "      <td>1.650458e+06</td>\n",
       "      <td>1.193477e+07</td>\n",
       "      <td>4.858901</td>\n",
       "    </tr>\n",
       "    <tr>\n",
       "      <th>min</th>\n",
       "      <td>4.970000e+02</td>\n",
       "      <td>1.000000e+00</td>\n",
       "      <td>4.690000e+02</td>\n",
       "      <td>-38.000000</td>\n",
       "    </tr>\n",
       "    <tr>\n",
       "      <th>25%</th>\n",
       "      <td>1.153828e+07</td>\n",
       "      <td>2.642150e+05</td>\n",
       "      <td>1.006664e+07</td>\n",
       "      <td>0.000000</td>\n",
       "    </tr>\n",
       "    <tr>\n",
       "      <th>50%</th>\n",
       "      <td>2.260948e+07</td>\n",
       "      <td>9.722080e+05</td>\n",
       "      <td>2.110750e+07</td>\n",
       "      <td>1.000000</td>\n",
       "    </tr>\n",
       "    <tr>\n",
       "      <th>75%</th>\n",
       "      <td>3.208662e+07</td>\n",
       "      <td>2.443062e+06</td>\n",
       "      <td>3.118924e+07</td>\n",
       "      <td>2.000000</td>\n",
       "    </tr>\n",
       "    <tr>\n",
       "      <th>max</th>\n",
       "      <td>4.014337e+07</td>\n",
       "      <td>7.044747e+06</td>\n",
       "      <td>4.014319e+07</td>\n",
       "      <td>66.000000</td>\n",
       "    </tr>\n",
       "  </tbody>\n",
       "</table>\n",
       "</div>"
      ],
      "text/plain": [
       "                 Id   OwnerUserId      ParentId          Score\n",
       "count  9.831310e+05  9.778030e+05  9.831310e+05  983131.000000\n",
       "mean   2.166481e+07  1.594285e+06  2.059368e+07       2.304567\n",
       "std    1.177363e+07  1.650458e+06  1.193477e+07       4.858901\n",
       "min    4.970000e+02  1.000000e+00  4.690000e+02     -38.000000\n",
       "25%    1.153828e+07  2.642150e+05  1.006664e+07       0.000000\n",
       "50%    2.260948e+07  9.722080e+05  2.110750e+07       1.000000\n",
       "75%    3.208662e+07  2.443062e+06  3.118924e+07       2.000000\n",
       "max    4.014337e+07  7.044747e+06  4.014319e+07      66.000000"
      ]
     },
     "execution_count": 31,
     "metadata": {},
     "output_type": "execute_result"
    }
   ],
   "source": [
    "answers_df.describe()"
   ]
  },
  {
   "cell_type": "code",
   "execution_count": 35,
   "metadata": {
    "scrolled": true
   },
   "outputs": [
    {
     "name": "stdout",
     "output_type": "stream",
     "text": [
      "<class 'pandas.core.frame.DataFrame'>\n",
      "Int64Index: 983131 entries, 0 to 987121\n",
      "Data columns (total 6 columns):\n",
      "Id              983131 non-null int64\n",
      "OwnerUserId     977803 non-null float64\n",
      "CreationDate    983131 non-null object\n",
      "ParentId        983131 non-null int64\n",
      "Score           983131 non-null int64\n",
      "Body            983131 non-null object\n",
      "dtypes: float64(1), int64(3), object(2)\n",
      "memory usage: 52.5+ MB\n"
     ]
    }
   ],
   "source": [
    "answers_df.info()"
   ]
  },
  {
   "cell_type": "code",
   "execution_count": null,
   "metadata": {},
   "outputs": [],
   "source": []
  },
  {
   "cell_type": "markdown",
   "metadata": {
    "colab_type": "text",
    "id": "oWFmnz2xsdjp"
   },
   "source": [
    "##  Create new features "
   ]
  },
  {
   "cell_type": "markdown",
   "metadata": {
    "colab_type": "text",
    "id": "oWFmnz2xsdjp"
   },
   "source": [
    "#### Code len"
   ]
  },
  {
   "cell_type": "code",
   "execution_count": null,
   "metadata": {
    "scrolled": true
   },
   "outputs": [],
   "source": [
    "def get_code_len(html):\n",
    "    pre_body = BeautifulSoup(html, 'html.parser').pre\n",
    "    if not pre_body or not pre_body.code:\n",
    "        return 0\n",
    "    code = pre_body.code.text\n",
    "    return len(code) if code else 0"
   ]
  },
  {
   "cell_type": "code",
   "execution_count": 38,
   "metadata": {},
   "outputs": [
    {
     "name": "stdout",
     "output_type": "stream",
     "text": [
      "CPU times: user 5min 23s, sys: 0 ns, total: 5min 23s\n",
      "Wall time: 5min 23s\n"
     ]
    }
   ],
   "source": [
    "%%time\n",
    "code_len = answers_df['Body'].apply(get_code_len)"
   ]
  },
  {
   "cell_type": "code",
   "execution_count": 49,
   "metadata": {
    "scrolled": true
   },
   "outputs": [
    {
     "data": {
      "image/png": "[encoded data removed]",
      "text/plain": [
       "<Figure size 720x288 with 1 Axes>"
      ]
     },
     "metadata": {},
     "output_type": "display_data"
    }
   ],
   "source": [
    "plt.figure(figsize=(10,4))\n",
    "sns.scatterplot(x=code_len, y=answers_df['Score'])\n",
    "plt.xlabel('Code length')\n",
    "plt.ylabel('Score');"
   ]
  },
  {
   "cell_type": "markdown",
   "metadata": {},
   "source": [
    "With increasing of amount of code lines the probability to get high score is reducing "
   ]
  },
  {
   "cell_type": "markdown",
   "metadata": {
    "colab_type": "text",
    "id": "oWFmnz2xsdjp"
   },
   "source": [
    "#### Experts"
   ]
  },
  {
   "cell_type": "markdown",
   "metadata": {},
   "source": [
    "#### Информация о наборе данных\n",
    "Адресс нахождения данных: http://s3://spark-lrng-d.sei/out/experts\n",
    "\n",
    "<b>id</b> - Номер обеъкта\n",
    "\n",
    "\n",
    "<b>date</b> - Дата продажи объекта неджвижимости\n",
    "\n",
    "\n",
    "<b>price</b>- Цена продажи\n",
    "\n",
    "\n",
    "<b>bedrooms</b> - Кол-во спален\n",
    "\n",
    "\n",
    "<b>bathrooms</b> - Кол-во ванных+сан.узлов\n"
   ]
  },
  {
   "cell_type": "code",
   "execution_count": 46,
   "metadata": {},
   "outputs": [],
   "source": [
    "experts_df = read_parquet_from_s3('out/experts')\n",
    "experts  = answers_df['OwnerUserId'].isin(experts_df['ownerUserId']).apply(lambda e: 1 if e else 0)"
   ]
  },
  {
   "cell_type": "code",
   "execution_count": 54,
   "metadata": {
    "scrolled": true
   },
   "outputs": [
    {
     "data": {
      "text/plain": [
       "<matplotlib.axes._subplots.AxesSubplot at 0x7f609bc13978>"
      ]
     },
     "execution_count": 54,
     "metadata": {},
     "output_type": "execute_result"
    },
    {
     "data": {
      "image/png": "[encoded data removed]",
      "text/plain": [
       "<Figure size 432x288 with 1 Axes>"
      ]
     },
     "metadata": {},
     "output_type": "display_data"
    }
   ],
   "source": [
    "answers_df['Score'].groupby(experts).mean().plot(kind='bar')"
   ]
  },
  {
   "cell_type": "markdown",
   "metadata": {},
   "source": [
    "In avg users 'experts' get higher score thn others"
   ]
  },
  {
   "cell_type": "markdown",
   "metadata": {
    "colab_type": "text",
    "id": "oWFmnz2xsdjp"
   },
   "source": [
    "#### Contains link"
   ]
  },
  {
   "cell_type": "code",
   "execution_count": 61,
   "metadata": {},
   "outputs": [],
   "source": [
    "def does_html_contain_link(html_doc):\n",
    "    soup = BeautifulSoup(html_doc, 'html.parser')\n",
    "    links = soup.find_all('a')\n",
    "    return 1 if links else 0"
   ]
  },
  {
   "cell_type": "code",
   "execution_count": 62,
   "metadata": {},
   "outputs": [],
   "source": [
    "contains_link = answers_df['Body'].apply(does_html_contain_link)"
   ]
  },
  {
   "cell_type": "code",
   "execution_count": 63,
   "metadata": {},
   "outputs": [
    {
     "data": {
      "text/plain": [
       "<matplotlib.axes._subplots.AxesSubplot at 0x7f609a514240>"
      ]
     },
     "execution_count": 63,
     "metadata": {},
     "output_type": "execute_result"
    },
    {
     "data": {
      "image/png": "[encoded data removed]",
      "text/plain": [
       "<Figure size 432x288 with 1 Axes>"
      ]
     },
     "metadata": {},
     "output_type": "display_data"
    }
   ],
   "source": [
    "answers_df['Score'].groupby(contains_link).mean().plot(kind='bar')"
   ]
  },
  {
   "cell_type": "markdown",
   "metadata": {},
   "source": [
    "#### Answer's body without html tags"
   ]
  },
  {
   "cell_type": "code",
   "execution_count": 65,
   "metadata": {
    "scrolled": true
   },
   "outputs": [],
   "source": [
    "def get_body_from_html(raw_html):\n",
    "    return BeautifulSoup(raw_html, \"lxml\").text\n",
    "\n",
    "answer_body = answers_df['Body'].map(get_body_from_html)"
   ]
  },
  {
   "cell_type": "code",
   "execution_count": 66,
   "metadata": {
    "scrolled": false
   },
   "outputs": [
    {
     "data": {
      "text/html": [
       "<div>\n",
       "<style scoped>\n",
       "    .dataframe tbody tr th:only-of-type {\n",
       "        vertical-align: middle;\n",
       "    }\n",
       "\n",
       "    .dataframe tbody tr th {\n",
       "        vertical-align: top;\n",
       "    }\n",
       "\n",
       "    .dataframe thead th {\n",
       "        text-align: right;\n",
       "    }\n",
       "</style>\n",
       "<table border=\"1\" class=\"dataframe\">\n",
       "  <thead>\n",
       "    <tr style=\"text-align: right;\">\n",
       "      <th></th>\n",
       "      <th>Id</th>\n",
       "      <th>OwnerUserId</th>\n",
       "      <th>CreationDate</th>\n",
       "      <th>ParentId</th>\n",
       "      <th>Score</th>\n",
       "      <th>Body</th>\n",
       "    </tr>\n",
       "  </thead>\n",
       "  <tbody>\n",
       "    <tr>\n",
       "      <th>0</th>\n",
       "      <td>497</td>\n",
       "      <td>50.0</td>\n",
       "      <td>2008-08-02T16:56:53Z</td>\n",
       "      <td>469</td>\n",
       "      <td>4</td>\n",
       "      <td>&lt;p&gt;open up a terminal (Applications-&amp;gt;Utilit...</td>\n",
       "    </tr>\n",
       "    <tr>\n",
       "      <th>1</th>\n",
       "      <td>518</td>\n",
       "      <td>153.0</td>\n",
       "      <td>2008-08-02T17:42:28Z</td>\n",
       "      <td>469</td>\n",
       "      <td>2</td>\n",
       "      <td>&lt;p&gt;I haven't been able to find anything that d...</td>\n",
       "    </tr>\n",
       "    <tr>\n",
       "      <th>2</th>\n",
       "      <td>536</td>\n",
       "      <td>161.0</td>\n",
       "      <td>2008-08-02T18:49:07Z</td>\n",
       "      <td>502</td>\n",
       "      <td>9</td>\n",
       "      <td>&lt;p&gt;You can use ImageMagick's convert utility f...</td>\n",
       "    </tr>\n",
       "    <tr>\n",
       "      <th>3</th>\n",
       "      <td>538</td>\n",
       "      <td>156.0</td>\n",
       "      <td>2008-08-02T18:56:56Z</td>\n",
       "      <td>535</td>\n",
       "      <td>23</td>\n",
       "      <td>&lt;p&gt;One possibility is Hudson.  It's written in...</td>\n",
       "    </tr>\n",
       "    <tr>\n",
       "      <th>4</th>\n",
       "      <td>541</td>\n",
       "      <td>157.0</td>\n",
       "      <td>2008-08-02T19:06:40Z</td>\n",
       "      <td>535</td>\n",
       "      <td>20</td>\n",
       "      <td>&lt;p&gt;We run &lt;a href=\"http://buildbot.net/trac\"&gt;B...</td>\n",
       "    </tr>\n",
       "  </tbody>\n",
       "</table>\n",
       "</div>"
      ],
      "text/plain": [
       "    Id  OwnerUserId          CreationDate  ParentId  Score  \\\n",
       "0  497         50.0  2008-08-02T16:56:53Z       469      4   \n",
       "1  518        153.0  2008-08-02T17:42:28Z       469      2   \n",
       "2  536        161.0  2008-08-02T18:49:07Z       502      9   \n",
       "3  538        156.0  2008-08-02T18:56:56Z       535     23   \n",
       "4  541        157.0  2008-08-02T19:06:40Z       535     20   \n",
       "\n",
       "                                                Body  \n",
       "0  <p>open up a terminal (Applications-&gt;Utilit...  \n",
       "1  <p>I haven't been able to find anything that d...  \n",
       "2  <p>You can use ImageMagick's convert utility f...  \n",
       "3  <p>One possibility is Hudson.  It's written in...  \n",
       "4  <p>We run <a href=\"http://buildbot.net/trac\">B...  "
      ]
     },
     "execution_count": 66,
     "metadata": {},
     "output_type": "execute_result"
    }
   ],
   "source": [
    "answers_df.head()"
   ]
  },
  {
   "cell_type": "markdown",
   "metadata": {},
   "source": [
    "## Data preprocessing"
   ]
  },
  {
   "cell_type": "code",
   "execution_count": 72,
   "metadata": {},
   "outputs": [],
   "source": [
    "pd.DataFrame?"
   ]
  },
  {
   "cell_type": "code",
   "execution_count": 67,
   "metadata": {},
   "outputs": [
    {
     "ename": "NameError",
     "evalue": "name 'df' is not defined",
     "output_type": "error",
     "traceback": [
      "\u001b[0;31m---------------------------------------------------------------------------\u001b[0m",
      "\u001b[0;31mNameError\u001b[0m                                 Traceback (most recent call last)",
      "\u001b[0;32m<ipython-input-67-1ba0da30b89f>\u001b[0m in \u001b[0;36m<module>\u001b[0;34m()\u001b[0m\n\u001b[1;32m      2\u001b[0m \u001b[0;34m\u001b[0m\u001b[0m\n\u001b[1;32m      3\u001b[0m X, X_holdout, y_train,  y_holdout = train_test_split(\n\u001b[0;32m----> 4\u001b[0;31m     \u001b[0mdf\u001b[0m\u001b[0;34m.\u001b[0m\u001b[0mdrop\u001b[0m\u001b[0;34m(\u001b[0m\u001b[0mcolumns\u001b[0m\u001b[0;34m=\u001b[0m\u001b[0;34m'Score'\u001b[0m\u001b[0;34m)\u001b[0m\u001b[0;34m,\u001b[0m\u001b[0;34m\u001b[0m\u001b[0;34m\u001b[0m\u001b[0m\n\u001b[0m\u001b[1;32m      5\u001b[0m     \u001b[0mdf\u001b[0m\u001b[0;34m[\u001b[0m\u001b[0;34m'Score'\u001b[0m\u001b[0;34m]\u001b[0m\u001b[0;34m,\u001b[0m\u001b[0;34m\u001b[0m\u001b[0;34m\u001b[0m\u001b[0m\n\u001b[1;32m      6\u001b[0m     \u001b[0mtest_size\u001b[0m\u001b[0;34m=\u001b[0m\u001b[0;36m0.3\u001b[0m\u001b[0;34m,\u001b[0m\u001b[0;34m\u001b[0m\u001b[0;34m\u001b[0m\u001b[0m\n",
      "\u001b[0;31mNameError\u001b[0m: name 'df' is not defined"
     ]
    }
   ],
   "source": [
    "from sklearn.model_selection import train_test_split, cross_val_score  \n",
    "\n",
    "X, X_holdout, y_train,  y_holdout = train_test_split(\n",
    "    df.drop(columns='Score'),\n",
    "    df['Score'], \n",
    "    test_size=0.3,\n",
    "    shuffle = False\n",
    ")"
   ]
  },
  {
   "cell_type": "code",
   "execution_count": 19,
   "metadata": {},
   "outputs": [],
   "source": [
    "from sklearn.preprocessing import StandardScaler\n",
    "\n",
    "sc = StandardScaler()\n",
    "numeric_columns = ['CodeLen']\n",
    "X_numeric_scaled = sc.fit_transform(X[numeric_columns])\n",
    "X_holdout_numeric_scaled = sc.transform(X_holdout[numeric_columns])"
   ]
  },
  {
   "cell_type": "code",
   "execution_count": 20,
   "metadata": {},
   "outputs": [],
   "source": [
    "from sklearn.feature_extraction.text import TfidfVectorizer\n",
    "from nltk.corpus import stopwords\n",
    "\n",
    "tf_id_vectorizer = TfidfVectorizer(\n",
    "        stop_words=stopwords.words('english'),\n",
    "        ngram_range=(1,2),\n",
    "        max_features=50000\n",
    ")\n",
    "    \n",
    "X_body_vectorized = tf_id_vectorizer.fit_transform(X['Body'])\n",
    "X_holdout_body_vectorized = tf_id_vectorizer.transform(X_holdout['Body'])"
   ]
  },
  {
   "cell_type": "code",
   "execution_count": 21,
   "metadata": {},
   "outputs": [
    {
     "data": {
      "text/plain": [
       "<690985x50000 sparse matrix of type '<class 'numpy.float64'>'\n",
       "\twith 31951380 stored elements in Compressed Sparse Row format>"
      ]
     },
     "execution_count": 21,
     "metadata": {},
     "output_type": "execute_result"
    }
   ],
   "source": [
    "X_body_vectorized"
   ]
  },
  {
   "cell_type": "code",
   "execution_count": 22,
   "metadata": {},
   "outputs": [],
   "source": [
    "from scipy.sparse import hstack\n",
    "\n",
    "categorical_cols = ['IsOwnerExpert', 'ContainsLink']\n",
    "\n",
    "X_train = hstack([X[categorical_cols], X_numeric_scaled, X_body_vectorized])\n",
    "X_test = hstack([X_holdout[categorical_cols], X_holdout_numeric_scaled, X_holdout_body_vectorized])"
   ]
  },
  {
   "cell_type": "code",
   "execution_count": 23,
   "metadata": {},
   "outputs": [],
   "source": [
    "from sklearn.linear_model import Ridge\n",
    "from sklearn.linear_model import Lasso\n",
    "\n",
    "params = {'alpha': [0.1, 1.0, 10]}\n",
    "\n",
    "linear_cvs = []\n",
    "for e in [Ridge(), Lasso()]:\n",
    "    cv = GridSearchCV(estimator=e, param_grid=params, n_jobs=-1, scoring=make_scorer(mean_absolute_error))\n",
    "    cv.fit(X_train, y_train)\n",
    "    linear_cvs.append(cv)"
   ]
  },
  {
   "cell_type": "code",
   "execution_count": 24,
   "metadata": {
    "scrolled": false
   },
   "outputs": [],
   "source": [
    "map(lambda cv: cv.best_estimator_, linear_cvs);"
   ]
  },
  {
   "cell_type": "code",
   "execution_count": 25,
   "metadata": {
    "scrolled": true
   },
   "outputs": [
    {
     "data": {
      "text/plain": [
       "[7.018959184880442, 4.517901984490715]"
      ]
     },
     "execution_count": 25,
     "metadata": {},
     "output_type": "execute_result"
    }
   ],
   "source": [
    "[cv.best_score_ for cv in linear_cvs]"
   ]
  },
  {
   "cell_type": "code",
   "execution_count": 26,
   "metadata": {},
   "outputs": [
    {
     "data": {
      "text/plain": [
       "[5.216800345148901, 3.0299428077982027]"
      ]
     },
     "execution_count": 26,
     "metadata": {},
     "output_type": "execute_result"
    }
   ],
   "source": [
    "[mean_absolute_error(y_holdout, cv.predict(X_test)) for cv in linear_cvs]"
   ]
  },
  {
   "cell_type": "code",
   "execution_count": null,
   "metadata": {},
   "outputs": [],
   "source": [
    "mean_absolute_error(y_holdout, est.predict(X_test))"
   ]
  },
  {
   "cell_type": "code",
   "execution_count": 38,
   "metadata": {},
   "outputs": [
    {
     "name": "stderr",
     "output_type": "stream",
     "text": [
      "/home/ITRANSITION.CORP/d.sey/.local/lib/python3.6/site-packages/xgboost/core.py:587: FutureWarning: Series.base is deprecated and will be removed in a future version\n",
      "  if getattr(data, 'base', None) is not None and \\\n"
     ]
    },
    {
     "name": "stdout",
     "output_type": "stream",
     "text": [
      "[17:14:08] WARNING: /workspace/src/objective/regression_obj.cu:152: reg:linear is now deprecated in favor of reg:squarederror.\n"
     ]
    },
    {
     "data": {
      "text/plain": [
       "XGBRegressor(base_score=0.5, booster='gbtree', colsample_bylevel=1,\n",
       "             colsample_bynode=1, colsample_bytree=1, gamma=0,\n",
       "             importance_type='gain', learning_rate=0.1, max_delta_step=0,\n",
       "             max_depth=3, min_child_weight=1, missing=None, n_estimators=100,\n",
       "             n_jobs=1, nthread=None, objective='reg:linear', random_state=0,\n",
       "             reg_alpha=0, reg_lambda=1, scale_pos_weight=1, seed=None,\n",
       "             silent=None, subsample=1, verbosity=1)"
      ]
     },
     "execution_count": 38,
     "metadata": {},
     "output_type": "execute_result"
    }
   ],
   "source": [
    "from xgboost import XGBRegressor\n",
    "\n",
    "xg_reg = XGBRegressor(objective='reg:squarederror')\n",
    "xg_reg.fit(X_train, y_train)"
   ]
  },
  {
   "cell_type": "code",
   "execution_count": 41,
   "metadata": {},
   "outputs": [
    {
     "data": {
      "text/plain": [
       "3.016452912990249"
      ]
     },
     "execution_count": 41,
     "metadata": {},
     "output_type": "execute_result"
    }
   ],
   "source": [
    "mean_absolute_error(y_holdout, xg_reg.predict(X_test))"
   ]
  },
  {
   "cell_type": "markdown",
   "metadata": {},
   "source": [
    "Features to add:\n",
    "* amount of answers +\n",
    "* questsion score +\n",
    "* show that seasonality dos't influence score\n",
    "* question tag top topic?\n",
    "* amount of users's questions +"
   ]
  },
  {
   "cell_type": "code",
   "execution_count": 44,
   "metadata": {},
   "outputs": [],
   "source": [
    "tags_df = read_csv_from_s3('data/Tags.csv')\n",
    "questions_df = read_csv_from_s3('data/Questions.csv')\n",
    "top_quoted_df = read_parquet_from_s3('out/top_quote')\n",
    "top_quoted = tags_df[tags_df['Tag'].isin(top_quoted_df)]"
   ]
  },
  {
   "cell_type": "code",
   "execution_count": 137,
   "metadata": {},
   "outputs": [],
   "source": [
    "amount_of_answers = df['OwnerUserId'].value_counts()[df['OwnerUserId']]\n",
    "amount_of_questions = questions_df['OwnerUserId'].value_counts()[df['OwnerUserId']]\n",
    "amount_of_questions = amount_of_answers.fillna(np.mean(amount_of_questions))\n",
    "merged_df =pd.merge(\n",
    "    df, \n",
    "    questions_df,\n",
    "    left_on='ParentId',\n",
    "    right_on='Id',\n",
    "    how='left',\n",
    "    suffixes=('_answer', '_question')\n",
    ")\n",
    "question_scores = merged_df['Score_question']\n",
    "top_topic = merged_df['Id_question'].isin(top_quoted['Id'])"
   ]
  },
  {
   "cell_type": "code",
   "execution_count": 141,
   "metadata": {},
   "outputs": [
    {
     "data": {
      "text/plain": [
       "(987122, 987122, 987122, 987122, 987122)"
      ]
     },
     "execution_count": 141,
     "metadata": {},
     "output_type": "execute_result"
    }
   ],
   "source": [
    "len(df), len(amount_of_answers), len(amount_of_questions), len(question_scores), len(top_topic)"
   ]
  },
  {
   "cell_type": "code",
   "execution_count": 142,
   "metadata": {
    "scrolled": true
   },
   "outputs": [
    {
     "data": {
      "text/html": [
       "<div>\n",
       "<style scoped>\n",
       "    .dataframe tbody tr th:only-of-type {\n",
       "        vertical-align: middle;\n",
       "    }\n",
       "\n",
       "    .dataframe tbody tr th {\n",
       "        vertical-align: top;\n",
       "    }\n",
       "\n",
       "    .dataframe thead th {\n",
       "        text-align: right;\n",
       "    }\n",
       "</style>\n",
       "<table border=\"1\" class=\"dataframe\">\n",
       "  <thead>\n",
       "    <tr style=\"text-align: right;\">\n",
       "      <th></th>\n",
       "      <th>Id</th>\n",
       "      <th>Tag</th>\n",
       "    </tr>\n",
       "  </thead>\n",
       "  <tbody>\n",
       "    <tr>\n",
       "      <th>29448</th>\n",
       "      <td>1480183</td>\n",
       "      <td>host</td>\n",
       "    </tr>\n",
       "    <tr>\n",
       "      <th>53713</th>\n",
       "      <td>2326797</td>\n",
       "      <td>host</td>\n",
       "    </tr>\n",
       "    <tr>\n",
       "      <th>108613</th>\n",
       "      <td>4093999</td>\n",
       "      <td>host</td>\n",
       "    </tr>\n",
       "    <tr>\n",
       "      <th>290363</th>\n",
       "      <td>10061904</td>\n",
       "      <td>host</td>\n",
       "    </tr>\n",
       "    <tr>\n",
       "      <th>339177</th>\n",
       "      <td>11490634</td>\n",
       "      <td>host</td>\n",
       "    </tr>\n",
       "    <tr>\n",
       "      <th>354203</th>\n",
       "      <td>11910295</td>\n",
       "      <td>host</td>\n",
       "    </tr>\n",
       "    <tr>\n",
       "      <th>363407</th>\n",
       "      <td>12169261</td>\n",
       "      <td>host</td>\n",
       "    </tr>\n",
       "    <tr>\n",
       "      <th>500096</th>\n",
       "      <td>15958249</td>\n",
       "      <td>host</td>\n",
       "    </tr>\n",
       "    <tr>\n",
       "      <th>513442</th>\n",
       "      <td>16291476</td>\n",
       "      <td>host</td>\n",
       "    </tr>\n",
       "    <tr>\n",
       "      <th>600987</th>\n",
       "      <td>18414331</td>\n",
       "      <td>host</td>\n",
       "    </tr>\n",
       "    <tr>\n",
       "      <th>854480</th>\n",
       "      <td>23863806</td>\n",
       "      <td>host</td>\n",
       "    </tr>\n",
       "    <tr>\n",
       "      <th>857262</th>\n",
       "      <td>23924914</td>\n",
       "      <td>host</td>\n",
       "    </tr>\n",
       "    <tr>\n",
       "      <th>901388</th>\n",
       "      <td>24808972</td>\n",
       "      <td>host</td>\n",
       "    </tr>\n",
       "    <tr>\n",
       "      <th>902969</th>\n",
       "      <td>24838740</td>\n",
       "      <td>host</td>\n",
       "    </tr>\n",
       "    <tr>\n",
       "      <th>1032006</th>\n",
       "      <td>27340286</td>\n",
       "      <td>host</td>\n",
       "    </tr>\n",
       "    <tr>\n",
       "      <th>1047123</th>\n",
       "      <td>27628174</td>\n",
       "      <td>host</td>\n",
       "    </tr>\n",
       "    <tr>\n",
       "      <th>1097923</th>\n",
       "      <td>28534937</td>\n",
       "      <td>host</td>\n",
       "    </tr>\n",
       "    <tr>\n",
       "      <th>1106874</th>\n",
       "      <td>28693081</td>\n",
       "      <td>host</td>\n",
       "    </tr>\n",
       "    <tr>\n",
       "      <th>1127805</th>\n",
       "      <td>29045276</td>\n",
       "      <td>host</td>\n",
       "    </tr>\n",
       "    <tr>\n",
       "      <th>1261684</th>\n",
       "      <td>31324343</td>\n",
       "      <td>host</td>\n",
       "    </tr>\n",
       "    <tr>\n",
       "      <th>1273037</th>\n",
       "      <td>31505847</td>\n",
       "      <td>host</td>\n",
       "    </tr>\n",
       "    <tr>\n",
       "      <th>1275146</th>\n",
       "      <td>31541109</td>\n",
       "      <td>host</td>\n",
       "    </tr>\n",
       "    <tr>\n",
       "      <th>1277412</th>\n",
       "      <td>31576272</td>\n",
       "      <td>host</td>\n",
       "    </tr>\n",
       "    <tr>\n",
       "      <th>1335992</th>\n",
       "      <td>32541203</td>\n",
       "      <td>host</td>\n",
       "    </tr>\n",
       "    <tr>\n",
       "      <th>1377168</th>\n",
       "      <td>33201675</td>\n",
       "      <td>host</td>\n",
       "    </tr>\n",
       "    <tr>\n",
       "      <th>1405552</th>\n",
       "      <td>33619886</td>\n",
       "      <td>host</td>\n",
       "    </tr>\n",
       "    <tr>\n",
       "      <th>1438569</th>\n",
       "      <td>34074630</td>\n",
       "      <td>host</td>\n",
       "    </tr>\n",
       "    <tr>\n",
       "      <th>1483054</th>\n",
       "      <td>34736964</td>\n",
       "      <td>host</td>\n",
       "    </tr>\n",
       "    <tr>\n",
       "      <th>1730300</th>\n",
       "      <td>38166331</td>\n",
       "      <td>host</td>\n",
       "    </tr>\n",
       "    <tr>\n",
       "      <th>1821058</th>\n",
       "      <td>39350666</td>\n",
       "      <td>host</td>\n",
       "    </tr>\n",
       "  </tbody>\n",
       "</table>\n",
       "</div>"
      ],
      "text/plain": [
       "               Id   Tag\n",
       "29448     1480183  host\n",
       "53713     2326797  host\n",
       "108613    4093999  host\n",
       "290363   10061904  host\n",
       "339177   11490634  host\n",
       "354203   11910295  host\n",
       "363407   12169261  host\n",
       "500096   15958249  host\n",
       "513442   16291476  host\n",
       "600987   18414331  host\n",
       "854480   23863806  host\n",
       "857262   23924914  host\n",
       "901388   24808972  host\n",
       "902969   24838740  host\n",
       "1032006  27340286  host\n",
       "1047123  27628174  host\n",
       "1097923  28534937  host\n",
       "1106874  28693081  host\n",
       "1127805  29045276  host\n",
       "1261684  31324343  host\n",
       "1273037  31505847  host\n",
       "1275146  31541109  host\n",
       "1277412  31576272  host\n",
       "1335992  32541203  host\n",
       "1377168  33201675  host\n",
       "1405552  33619886  host\n",
       "1438569  34074630  host\n",
       "1483054  34736964  host\n",
       "1730300  38166331  host\n",
       "1821058  39350666  host"
      ]
     },
     "execution_count": 142,
     "metadata": {},
     "output_type": "execute_result"
    }
   ],
   "source": [
    "top_quoted"
   ]
  },
  {
   "cell_type": "code",
   "execution_count": 143,
   "metadata": {},
   "outputs": [],
   "source": [
    "top_quoted = tags_df[tags_df['Tag'].isin(top_quoted_df)]"
   ]
  },
  {
   "cell_type": "code",
   "execution_count": 144,
   "metadata": {
    "scrolled": true
   },
   "outputs": [
    {
     "data": {
      "text/html": [
       "<div>\n",
       "<style scoped>\n",
       "    .dataframe tbody tr th:only-of-type {\n",
       "        vertical-align: middle;\n",
       "    }\n",
       "\n",
       "    .dataframe tbody tr th {\n",
       "        vertical-align: top;\n",
       "    }\n",
       "\n",
       "    .dataframe thead th {\n",
       "        text-align: right;\n",
       "    }\n",
       "</style>\n",
       "<table border=\"1\" class=\"dataframe\">\n",
       "  <thead>\n",
       "    <tr style=\"text-align: right;\">\n",
       "      <th></th>\n",
       "      <th>Id</th>\n",
       "      <th>Tag</th>\n",
       "    </tr>\n",
       "  </thead>\n",
       "  <tbody>\n",
       "    <tr>\n",
       "      <th>29448</th>\n",
       "      <td>1480183</td>\n",
       "      <td>host</td>\n",
       "    </tr>\n",
       "    <tr>\n",
       "      <th>53713</th>\n",
       "      <td>2326797</td>\n",
       "      <td>host</td>\n",
       "    </tr>\n",
       "    <tr>\n",
       "      <th>108613</th>\n",
       "      <td>4093999</td>\n",
       "      <td>host</td>\n",
       "    </tr>\n",
       "    <tr>\n",
       "      <th>290363</th>\n",
       "      <td>10061904</td>\n",
       "      <td>host</td>\n",
       "    </tr>\n",
       "    <tr>\n",
       "      <th>339177</th>\n",
       "      <td>11490634</td>\n",
       "      <td>host</td>\n",
       "    </tr>\n",
       "    <tr>\n",
       "      <th>354203</th>\n",
       "      <td>11910295</td>\n",
       "      <td>host</td>\n",
       "    </tr>\n",
       "    <tr>\n",
       "      <th>363407</th>\n",
       "      <td>12169261</td>\n",
       "      <td>host</td>\n",
       "    </tr>\n",
       "    <tr>\n",
       "      <th>500096</th>\n",
       "      <td>15958249</td>\n",
       "      <td>host</td>\n",
       "    </tr>\n",
       "    <tr>\n",
       "      <th>513442</th>\n",
       "      <td>16291476</td>\n",
       "      <td>host</td>\n",
       "    </tr>\n",
       "    <tr>\n",
       "      <th>600987</th>\n",
       "      <td>18414331</td>\n",
       "      <td>host</td>\n",
       "    </tr>\n",
       "    <tr>\n",
       "      <th>854480</th>\n",
       "      <td>23863806</td>\n",
       "      <td>host</td>\n",
       "    </tr>\n",
       "    <tr>\n",
       "      <th>857262</th>\n",
       "      <td>23924914</td>\n",
       "      <td>host</td>\n",
       "    </tr>\n",
       "    <tr>\n",
       "      <th>901388</th>\n",
       "      <td>24808972</td>\n",
       "      <td>host</td>\n",
       "    </tr>\n",
       "    <tr>\n",
       "      <th>902969</th>\n",
       "      <td>24838740</td>\n",
       "      <td>host</td>\n",
       "    </tr>\n",
       "    <tr>\n",
       "      <th>1032006</th>\n",
       "      <td>27340286</td>\n",
       "      <td>host</td>\n",
       "    </tr>\n",
       "    <tr>\n",
       "      <th>1047123</th>\n",
       "      <td>27628174</td>\n",
       "      <td>host</td>\n",
       "    </tr>\n",
       "    <tr>\n",
       "      <th>1097923</th>\n",
       "      <td>28534937</td>\n",
       "      <td>host</td>\n",
       "    </tr>\n",
       "    <tr>\n",
       "      <th>1106874</th>\n",
       "      <td>28693081</td>\n",
       "      <td>host</td>\n",
       "    </tr>\n",
       "    <tr>\n",
       "      <th>1127805</th>\n",
       "      <td>29045276</td>\n",
       "      <td>host</td>\n",
       "    </tr>\n",
       "    <tr>\n",
       "      <th>1261684</th>\n",
       "      <td>31324343</td>\n",
       "      <td>host</td>\n",
       "    </tr>\n",
       "    <tr>\n",
       "      <th>1273037</th>\n",
       "      <td>31505847</td>\n",
       "      <td>host</td>\n",
       "    </tr>\n",
       "    <tr>\n",
       "      <th>1275146</th>\n",
       "      <td>31541109</td>\n",
       "      <td>host</td>\n",
       "    </tr>\n",
       "    <tr>\n",
       "      <th>1277412</th>\n",
       "      <td>31576272</td>\n",
       "      <td>host</td>\n",
       "    </tr>\n",
       "    <tr>\n",
       "      <th>1335992</th>\n",
       "      <td>32541203</td>\n",
       "      <td>host</td>\n",
       "    </tr>\n",
       "    <tr>\n",
       "      <th>1377168</th>\n",
       "      <td>33201675</td>\n",
       "      <td>host</td>\n",
       "    </tr>\n",
       "    <tr>\n",
       "      <th>1405552</th>\n",
       "      <td>33619886</td>\n",
       "      <td>host</td>\n",
       "    </tr>\n",
       "    <tr>\n",
       "      <th>1438569</th>\n",
       "      <td>34074630</td>\n",
       "      <td>host</td>\n",
       "    </tr>\n",
       "    <tr>\n",
       "      <th>1483054</th>\n",
       "      <td>34736964</td>\n",
       "      <td>host</td>\n",
       "    </tr>\n",
       "    <tr>\n",
       "      <th>1730300</th>\n",
       "      <td>38166331</td>\n",
       "      <td>host</td>\n",
       "    </tr>\n",
       "    <tr>\n",
       "      <th>1821058</th>\n",
       "      <td>39350666</td>\n",
       "      <td>host</td>\n",
       "    </tr>\n",
       "  </tbody>\n",
       "</table>\n",
       "</div>"
      ],
      "text/plain": [
       "               Id   Tag\n",
       "29448     1480183  host\n",
       "53713     2326797  host\n",
       "108613    4093999  host\n",
       "290363   10061904  host\n",
       "339177   11490634  host\n",
       "354203   11910295  host\n",
       "363407   12169261  host\n",
       "500096   15958249  host\n",
       "513442   16291476  host\n",
       "600987   18414331  host\n",
       "854480   23863806  host\n",
       "857262   23924914  host\n",
       "901388   24808972  host\n",
       "902969   24838740  host\n",
       "1032006  27340286  host\n",
       "1047123  27628174  host\n",
       "1097923  28534937  host\n",
       "1106874  28693081  host\n",
       "1127805  29045276  host\n",
       "1261684  31324343  host\n",
       "1273037  31505847  host\n",
       "1275146  31541109  host\n",
       "1277412  31576272  host\n",
       "1335992  32541203  host\n",
       "1377168  33201675  host\n",
       "1405552  33619886  host\n",
       "1438569  34074630  host\n",
       "1483054  34736964  host\n",
       "1730300  38166331  host\n",
       "1821058  39350666  host"
      ]
     },
     "execution_count": 144,
     "metadata": {},
     "output_type": "execute_result"
    }
   ],
   "source": [
    "top_quoted"
   ]
  },
  {
   "cell_type": "code",
   "execution_count": 145,
   "metadata": {},
   "outputs": [],
   "source": [
    "daily_stat = read_parquet_from_s3('out/daily_statistics')"
   ]
  },
  {
   "cell_type": "code",
   "execution_count": null,
   "metadata": {},
   "outputs": [],
   "source": []
  }
 ],
 "metadata": {
  "kernelspec": {
   "display_name": "Python 3",
   "language": "python",
   "name": "python3"
  },
  "language_info": {
   "codemirror_mode": {
    "name": "ipython",
    "version": 3
   },
   "file_extension": ".py",
   "mimetype": "text/x-python",
   "name": "python",
   "nbconvert_exporter": "python",
   "pygments_lexer": "ipython3",
   "version": "3.6.8"
  }
 },
 "nbformat": 4,
 "nbformat_minor": 2
}
