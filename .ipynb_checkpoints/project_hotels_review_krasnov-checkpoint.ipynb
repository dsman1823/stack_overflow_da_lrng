{
 "cells": [
  {
   "cell_type": "markdown",
   "metadata": {
    "colab_type": "text",
    "id": "TdIkb5-JsdjV"
   },
   "source": [
    "<center>\n",
    "## Открытый курс по машинному обучению. Сессия № 3\n",
    "\n",
    "### <center> Автор материала: Краснов Дмитрий Анатольевич"
   ]
  },
  {
   "cell_type": "markdown",
   "metadata": {
    "colab_type": "text",
    "id": "77JBtOljsdjX"
   },
   "source": [
    "## <center> Индивидуальный проект по анализу данных </center>"
   ]
  },
  {
   "cell_type": "markdown",
   "metadata": {},
   "source": [
    "## <center> Прогнозирование рейтинга отеля </center>"
   ]
  },
  {
   "cell_type": "code",
   "execution_count": 1,
   "metadata": {
    "colab": {
     "autoexec": {
      "startup": false,
      "wait_interval": 0
     }
    },
    "colab_type": "code",
    "id": "DgD1UFu_sdjY"
   },
   "outputs": [],
   "source": [
    "import random\n",
    "import re\n",
    "from collections import Counter\n",
    "\n",
    "import numpy as np\n",
    "import pandas as pd\n",
    "\n",
    "from scipy import stats\n",
    "from scipy.sparse import csr_matrix, hstack\n",
    "\n",
    "from sklearn.linear_model import Ridge, Lasso\n",
    "from sklearn.model_selection import TimeSeriesSplit, GridSearchCV, learning_curve\n",
    "from sklearn.preprocessing import StandardScaler, LabelEncoder, OneHotEncoder\n",
    "from sklearn.metrics import mean_absolute_error\n",
    "from sklearn.feature_extraction.text import CountVectorizer\n",
    "import lightgbm as lgb\n",
    "\n",
    "import warnings\n",
    "warnings.filterwarnings(\"ignore\")\n",
    "\n",
    "from matplotlib import pyplot as plt\n",
    "import seaborn as sns\n",
    "\n",
    "%matplotlib inline\n",
    "sns.set(rc={'figure.figsize':(15,10)})\n",
    "sns.set_style(\"darkgrid\")\n",
    "random.seed(42)"
   ]
  },
  {
   "cell_type": "markdown",
   "metadata": {
    "colab_type": "text",
    "id": "Jgnfr7Gosdjc"
   },
   "source": [
    "###  Часть 1. Описание набора данных и признаков"
   ]
  },
  {
   "cell_type": "markdown",
   "metadata": {
    "colab_type": "text",
    "id": "0xQOM47d9YSq"
   },
   "source": [
    " В интернете существует множество различных сайтов с рейтингами и рекомендательных систем - что логично, ведь гораздо лучше узнать качество услуги/товара пользуясь чужими ошибками, а не своими. Например, планируя путешествие разумно будет изучить рейтинги отелей, чтобы не оказаться в ситуации когда отпуск будет испорчен ужасными условиями проживания. Такой рейтинг можно найти например на сайтах, которые предлагают услуги бронирования. И как можно догадаться, именно отзывы посетителей будут анализироваться в данном индивидуальном проекте - [Jason Liu](https://www.kaggle.com/jiashenliu/datasets) любезно выложил на kaggle датасет с отзывами. Этот набор данных содержит 515,000 оценок отзывов посетителей 1493 отелей в европе. Изначально данные получены путем скраппинга сайта booking.com, сам датасет был скачан [по этой ссылке](https://www.kaggle.com/jiashenliu/515k-hotel-reviews-data-in-europe).\n",
    " \n",
    "В исходном файле содержатся 17 признаков - \n",
    "\n",
    "*   Hotel_Address: Адрес отеля\n",
    "*   Review_Date: Дата написания отзыва\n",
    "*   Average_Score: Средняя оценка отеля, рассчитанная на основе комментариев за прошлый год.\n",
    "*   Hotel_Name: Название отеля\n",
    "*   Reviewer_Nationality: Национальность посетителя\n",
    "*   Negative_Review: Негативный отзыв, оставленный посетителем. Если автор не оставил негативный отзыв, значением будет 'No Negative'\n",
    "*   Review_Total_Negative_Word_Counts: Количество слов в негативном отзыве.\n",
    "*   Positive_Review: Положительный отзыв, оставленный посетителем. Если автор не оставил положительный отзыв, значением будет 'No Positive'\n",
    "*   Review_Total_Positive_Word_Counts: Количество слов в позитивном отзыве.\n",
    "*   Reviewer_Score: Оценка, которую автор дал посещенному отелю, основываясь на своем опыте.\n",
    "*   Total_Number_of_Reviews_Reviewer_Has_Given: Число отзывов, которые автор оставлял ранее\n",
    "*   Total_Number_of_Reviews: Число отзывов, оставленных отелю\n",
    "*   Tags: Тэги проставленные отдыхающим\n",
    "*   days_since_review: Количество дней которое прошло между датой отзыва и датой сбора данных\n",
    "*   Additional_Number_of_Scoring: Некоторые люди не пишут отзыв, а просто ставят оценку. Данный параметр показывает сколько таких оценок (без сопутствующего отзыва) было проставленно отелю.\n",
    "*   lat: Широта, на которой находится отель\n",
    "*   lng: Долгота, на которой находится отель\n",
    "\n",
    "\n",
    "\n",
    "\n",
    "\n",
    "Текст был очищен от знаков препинания и символов юникода, а так же приведен к нижнему регистру автором датасета.\n",
    "\n",
    "При этом не все признаки будут использоваться в анализе - например, \"days_since_review\" абсолютно неинформативный признак, учитывая что у нас и так есть дата написания отзыва.\n",
    "\n",
    "Целевым признаком очевидно будет оценка пользователем отеля - ее мы и будем предсказывать.\n",
    "Ну что же - посмотрим, какие интересные закономерности мы найдем в процессе исследования датасета, а так же получится ли предсказать оценку которую посетитель оставит отелю.\n",
    "\n"
   ]
  },
  {
   "cell_type": "markdown",
   "metadata": {
    "colab_type": "text",
    "id": "OyHoB07Usdjf"
   },
   "source": [
    "###  Часть 2. Первичный анализ признаков"
   ]
  },
  {
   "cell_type": "markdown",
   "metadata": {
    "colab_type": "text",
    "id": "5q1ZdJ1B_Nsp"
   },
   "source": [
    "Загрузим данные и посмотрим на них"
   ]
  },
  {
   "cell_type": "code",
   "execution_count": 2,
   "metadata": {
    "colab": {
     "autoexec": {
      "startup": false,
      "wait_interval": 0
     },
     "base_uri": "https://localhost:8080/",
     "height": 598
    },
    "colab_type": "code",
    "executionInfo": {
     "elapsed": 66536,
     "status": "ok",
     "timestamp": 1524163567233,
     "user": {
      "displayName": "Дмитрий Краснов",
      "photoUrl": "https://lh3.googleusercontent.com/a/default-user=s128",
      "userId": "112989222800173850643"
     },
     "user_tz": -180
    },
    "id": "LpfKhc-e_VDr",
    "outputId": "1386330b-5eea-41c9-cfd7-b4789f8c4372"
   },
   "outputs": [
    {
     "data": {
      "text/html": [
       "<div>\n",
       "<style scoped>\n",
       "    .dataframe tbody tr th:only-of-type {\n",
       "        vertical-align: middle;\n",
       "    }\n",
       "\n",
       "    .dataframe tbody tr th {\n",
       "        vertical-align: top;\n",
       "    }\n",
       "\n",
       "    .dataframe thead th {\n",
       "        text-align: right;\n",
       "    }\n",
       "</style>\n",
       "<table border=\"1\" class=\"dataframe\">\n",
       "  <thead>\n",
       "    <tr style=\"text-align: right;\">\n",
       "      <th></th>\n",
       "      <th>Hotel_Address</th>\n",
       "      <th>Additional_Number_of_Scoring</th>\n",
       "      <th>Review_Date</th>\n",
       "      <th>Average_Score</th>\n",
       "      <th>Hotel_Name</th>\n",
       "      <th>Reviewer_Nationality</th>\n",
       "      <th>Negative_Review</th>\n",
       "      <th>Review_Total_Negative_Word_Counts</th>\n",
       "      <th>Total_Number_of_Reviews</th>\n",
       "      <th>Positive_Review</th>\n",
       "      <th>Review_Total_Positive_Word_Counts</th>\n",
       "      <th>Total_Number_of_Reviews_Reviewer_Has_Given</th>\n",
       "      <th>Reviewer_Score</th>\n",
       "      <th>Tags</th>\n",
       "      <th>days_since_review</th>\n",
       "      <th>lat</th>\n",
       "      <th>lng</th>\n",
       "    </tr>\n",
       "  </thead>\n",
       "  <tbody>\n",
       "    <tr>\n",
       "      <th>113053</th>\n",
       "      <td>225 Edgware Road Westminster Borough London W2...</td>\n",
       "      <td>1485</td>\n",
       "      <td>2015-08-04</td>\n",
       "      <td>7.5</td>\n",
       "      <td>Hilton London Metropole</td>\n",
       "      <td>United Kingdom</td>\n",
       "      <td>First day the swimming pool was not opened th...</td>\n",
       "      <td>54</td>\n",
       "      <td>6977</td>\n",
       "      <td>The hotel was clean and accessible</td>\n",
       "      <td>8</td>\n",
       "      <td>4</td>\n",
       "      <td>7.5</td>\n",
       "      <td>[' Leisure trip ', ' Group ', ' Superior Queen...</td>\n",
       "      <td>730 day</td>\n",
       "      <td>51.519569</td>\n",
       "      <td>-0.170521</td>\n",
       "    </tr>\n",
       "    <tr>\n",
       "      <th>239944</th>\n",
       "      <td>7 Rue des Petits H tels 10th arr 75010 Paris F...</td>\n",
       "      <td>125</td>\n",
       "      <td>2015-08-04</td>\n",
       "      <td>8.6</td>\n",
       "      <td>Hotel Mademoiselle</td>\n",
       "      <td>United Kingdom</td>\n",
       "      <td>No Negative</td>\n",
       "      <td>0</td>\n",
       "      <td>853</td>\n",
       "      <td>very good location breakfast was great</td>\n",
       "      <td>7</td>\n",
       "      <td>10</td>\n",
       "      <td>8.3</td>\n",
       "      <td>[' Leisure trip ', ' Group ', ' Junior Suite '...</td>\n",
       "      <td>730 day</td>\n",
       "      <td>48.877249</td>\n",
       "      <td>2.354304</td>\n",
       "    </tr>\n",
       "    <tr>\n",
       "      <th>396823</th>\n",
       "      <td>Parkring 12a 01 Innere Stadt 1010 Vienna Austria</td>\n",
       "      <td>130</td>\n",
       "      <td>2015-08-04</td>\n",
       "      <td>8.2</td>\n",
       "      <td>Vienna Marriott Hotel</td>\n",
       "      <td>Qatar</td>\n",
       "      <td>Nothing</td>\n",
       "      <td>2</td>\n",
       "      <td>939</td>\n",
       "      <td>It was very nice excellent hotel</td>\n",
       "      <td>7</td>\n",
       "      <td>4</td>\n",
       "      <td>10.0</td>\n",
       "      <td>[' Family with young children ', ' Executive D...</td>\n",
       "      <td>730 day</td>\n",
       "      <td>48.205097</td>\n",
       "      <td>16.377093</td>\n",
       "    </tr>\n",
       "    <tr>\n",
       "      <th>320201</th>\n",
       "      <td>Europaboulevard 10 Zuideramstel 1083 AD Amster...</td>\n",
       "      <td>341</td>\n",
       "      <td>2015-08-04</td>\n",
       "      <td>7.8</td>\n",
       "      <td>Novotel Amsterdam City</td>\n",
       "      <td>Austria</td>\n",
       "      <td>No Negative</td>\n",
       "      <td>0</td>\n",
       "      <td>2501</td>\n",
       "      <td>Slightly out of the city center but very easy...</td>\n",
       "      <td>27</td>\n",
       "      <td>34</td>\n",
       "      <td>9.6</td>\n",
       "      <td>[' Leisure trip ', ' Group ', ' Standard Room ...</td>\n",
       "      <td>730 day</td>\n",
       "      <td>52.333803</td>\n",
       "      <td>4.888471</td>\n",
       "    </tr>\n",
       "    <tr>\n",
       "      <th>345928</th>\n",
       "      <td>Holland Park Avenue Kensington and Chelsea Lon...</td>\n",
       "      <td>843</td>\n",
       "      <td>2015-08-04</td>\n",
       "      <td>7.8</td>\n",
       "      <td>Hilton London Kensington Hotel</td>\n",
       "      <td>Qatar</td>\n",
       "      <td>No Negative</td>\n",
       "      <td>0</td>\n",
       "      <td>3801</td>\n",
       "      <td>Great easy to reAch location</td>\n",
       "      <td>6</td>\n",
       "      <td>5</td>\n",
       "      <td>7.5</td>\n",
       "      <td>[' Leisure trip ', ' Solo traveler ', ' Double...</td>\n",
       "      <td>730 day</td>\n",
       "      <td>51.505108</td>\n",
       "      <td>-0.213266</td>\n",
       "    </tr>\n",
       "  </tbody>\n",
       "</table>\n",
       "</div>"
      ],
      "text/plain": [
       "                                            Hotel_Address  \\\n",
       "113053  225 Edgware Road Westminster Borough London W2...   \n",
       "239944  7 Rue des Petits H tels 10th arr 75010 Paris F...   \n",
       "396823   Parkring 12a 01 Innere Stadt 1010 Vienna Austria   \n",
       "320201  Europaboulevard 10 Zuideramstel 1083 AD Amster...   \n",
       "345928  Holland Park Avenue Kensington and Chelsea Lon...   \n",
       "\n",
       "        Additional_Number_of_Scoring Review_Date  Average_Score  \\\n",
       "113053                          1485  2015-08-04            7.5   \n",
       "239944                           125  2015-08-04            8.6   \n",
       "396823                           130  2015-08-04            8.2   \n",
       "320201                           341  2015-08-04            7.8   \n",
       "345928                           843  2015-08-04            7.8   \n",
       "\n",
       "                            Hotel_Name Reviewer_Nationality  \\\n",
       "113053         Hilton London Metropole      United Kingdom    \n",
       "239944              Hotel Mademoiselle      United Kingdom    \n",
       "396823           Vienna Marriott Hotel               Qatar    \n",
       "320201          Novotel Amsterdam City             Austria    \n",
       "345928  Hilton London Kensington Hotel               Qatar    \n",
       "\n",
       "                                          Negative_Review  \\\n",
       "113053   First day the swimming pool was not opened th...   \n",
       "239944                                        No Negative   \n",
       "396823                                            Nothing   \n",
       "320201                                        No Negative   \n",
       "345928                                        No Negative   \n",
       "\n",
       "        Review_Total_Negative_Word_Counts  Total_Number_of_Reviews  \\\n",
       "113053                                 54                     6977   \n",
       "239944                                  0                      853   \n",
       "396823                                  2                      939   \n",
       "320201                                  0                     2501   \n",
       "345928                                  0                     3801   \n",
       "\n",
       "                                          Positive_Review  \\\n",
       "113053                The hotel was clean and accessible    \n",
       "239944             very good location breakfast was great   \n",
       "396823                   It was very nice excellent hotel   \n",
       "320201   Slightly out of the city center but very easy...   \n",
       "345928                       Great easy to reAch location   \n",
       "\n",
       "        Review_Total_Positive_Word_Counts  \\\n",
       "113053                                  8   \n",
       "239944                                  7   \n",
       "396823                                  7   \n",
       "320201                                 27   \n",
       "345928                                  6   \n",
       "\n",
       "        Total_Number_of_Reviews_Reviewer_Has_Given  Reviewer_Score  \\\n",
       "113053                                           4             7.5   \n",
       "239944                                          10             8.3   \n",
       "396823                                           4            10.0   \n",
       "320201                                          34             9.6   \n",
       "345928                                           5             7.5   \n",
       "\n",
       "                                                     Tags days_since_review  \\\n",
       "113053  [' Leisure trip ', ' Group ', ' Superior Queen...           730 day   \n",
       "239944  [' Leisure trip ', ' Group ', ' Junior Suite '...           730 day   \n",
       "396823  [' Family with young children ', ' Executive D...           730 day   \n",
       "320201  [' Leisure trip ', ' Group ', ' Standard Room ...           730 day   \n",
       "345928  [' Leisure trip ', ' Solo traveler ', ' Double...           730 day   \n",
       "\n",
       "              lat        lng  \n",
       "113053  51.519569  -0.170521  \n",
       "239944  48.877249   2.354304  \n",
       "396823  48.205097  16.377093  \n",
       "320201  52.333803   4.888471  \n",
       "345928  51.505108  -0.213266  "
      ]
     },
     "execution_count": 2,
     "metadata": {},
     "output_type": "execute_result"
    }
   ],
   "source": [
    "df = pd.read_csv('/home/ITRANSITION.CORP/d.sey/dev/crs/mlcourse.ai/mlcourse.ai/data/Hotel_Reviews.csv', parse_dates=['Review_Date'])\n",
    "df = df.sort_values(by='Review_Date')\n",
    "df.head()"
   ]
  },
  {
   "cell_type": "code",
   "execution_count": 3,
   "metadata": {
    "colab": {
     "autoexec": {
      "startup": false,
      "wait_interval": 0
     },
     "base_uri": "https://localhost:8080/",
     "height": 317
    },
    "colab_type": "code",
    "executionInfo": {
     "elapsed": 1523,
     "status": "ok",
     "timestamp": 1524163727425,
     "user": {
      "displayName": "Дмитрий Краснов",
      "photoUrl": "https://lh3.googleusercontent.com/a/default-user=s128",
      "userId": "112989222800173850643"
     },
     "user_tz": -180
    },
    "id": "KoyrJqJC_fN4",
    "outputId": "682b9ece-62cd-4157-c0b2-3ea6d169dda3"
   },
   "outputs": [
    {
     "data": {
      "text/html": [
       "<div>\n",
       "<style scoped>\n",
       "    .dataframe tbody tr th:only-of-type {\n",
       "        vertical-align: middle;\n",
       "    }\n",
       "\n",
       "    .dataframe tbody tr th {\n",
       "        vertical-align: top;\n",
       "    }\n",
       "\n",
       "    .dataframe thead th {\n",
       "        text-align: right;\n",
       "    }\n",
       "</style>\n",
       "<table border=\"1\" class=\"dataframe\">\n",
       "  <thead>\n",
       "    <tr style=\"text-align: right;\">\n",
       "      <th></th>\n",
       "      <th>count</th>\n",
       "      <th>unique</th>\n",
       "      <th>top</th>\n",
       "      <th>freq</th>\n",
       "      <th>first</th>\n",
       "      <th>last</th>\n",
       "      <th>mean</th>\n",
       "      <th>std</th>\n",
       "      <th>min</th>\n",
       "      <th>25%</th>\n",
       "      <th>50%</th>\n",
       "      <th>75%</th>\n",
       "      <th>max</th>\n",
       "    </tr>\n",
       "  </thead>\n",
       "  <tbody>\n",
       "    <tr>\n",
       "      <th>Hotel_Address</th>\n",
       "      <td>515738</td>\n",
       "      <td>1493</td>\n",
       "      <td>163 Marsh Wall Docklands Tower Hamlets London ...</td>\n",
       "      <td>4789</td>\n",
       "      <td>NaT</td>\n",
       "      <td>NaT</td>\n",
       "      <td>NaN</td>\n",
       "      <td>NaN</td>\n",
       "      <td>NaN</td>\n",
       "      <td>NaN</td>\n",
       "      <td>NaN</td>\n",
       "      <td>NaN</td>\n",
       "      <td>NaN</td>\n",
       "    </tr>\n",
       "    <tr>\n",
       "      <th>Additional_Number_of_Scoring</th>\n",
       "      <td>515738</td>\n",
       "      <td>NaN</td>\n",
       "      <td>NaN</td>\n",
       "      <td>NaN</td>\n",
       "      <td>NaT</td>\n",
       "      <td>NaT</td>\n",
       "      <td>498.082</td>\n",
       "      <td>500.538</td>\n",
       "      <td>1</td>\n",
       "      <td>169</td>\n",
       "      <td>341</td>\n",
       "      <td>660</td>\n",
       "      <td>2682</td>\n",
       "    </tr>\n",
       "    <tr>\n",
       "      <th>Review_Date</th>\n",
       "      <td>515738</td>\n",
       "      <td>731</td>\n",
       "      <td>2017-08-02 00:00:00</td>\n",
       "      <td>2585</td>\n",
       "      <td>2015-08-04</td>\n",
       "      <td>2017-08-03</td>\n",
       "      <td>NaN</td>\n",
       "      <td>NaN</td>\n",
       "      <td>NaN</td>\n",
       "      <td>NaN</td>\n",
       "      <td>NaN</td>\n",
       "      <td>NaN</td>\n",
       "      <td>NaN</td>\n",
       "    </tr>\n",
       "    <tr>\n",
       "      <th>Average_Score</th>\n",
       "      <td>515738</td>\n",
       "      <td>NaN</td>\n",
       "      <td>NaN</td>\n",
       "      <td>NaN</td>\n",
       "      <td>NaT</td>\n",
       "      <td>NaT</td>\n",
       "      <td>8.39749</td>\n",
       "      <td>0.548048</td>\n",
       "      <td>5.2</td>\n",
       "      <td>8.1</td>\n",
       "      <td>8.4</td>\n",
       "      <td>8.8</td>\n",
       "      <td>9.8</td>\n",
       "    </tr>\n",
       "    <tr>\n",
       "      <th>Hotel_Name</th>\n",
       "      <td>515738</td>\n",
       "      <td>1492</td>\n",
       "      <td>Britannia International Hotel Canary Wharf</td>\n",
       "      <td>4789</td>\n",
       "      <td>NaT</td>\n",
       "      <td>NaT</td>\n",
       "      <td>NaN</td>\n",
       "      <td>NaN</td>\n",
       "      <td>NaN</td>\n",
       "      <td>NaN</td>\n",
       "      <td>NaN</td>\n",
       "      <td>NaN</td>\n",
       "      <td>NaN</td>\n",
       "    </tr>\n",
       "    <tr>\n",
       "      <th>Reviewer_Nationality</th>\n",
       "      <td>515738</td>\n",
       "      <td>227</td>\n",
       "      <td>United Kingdom</td>\n",
       "      <td>245246</td>\n",
       "      <td>NaT</td>\n",
       "      <td>NaT</td>\n",
       "      <td>NaN</td>\n",
       "      <td>NaN</td>\n",
       "      <td>NaN</td>\n",
       "      <td>NaN</td>\n",
       "      <td>NaN</td>\n",
       "      <td>NaN</td>\n",
       "      <td>NaN</td>\n",
       "    </tr>\n",
       "    <tr>\n",
       "      <th>Negative_Review</th>\n",
       "      <td>515738</td>\n",
       "      <td>330011</td>\n",
       "      <td>No Negative</td>\n",
       "      <td>127890</td>\n",
       "      <td>NaT</td>\n",
       "      <td>NaT</td>\n",
       "      <td>NaN</td>\n",
       "      <td>NaN</td>\n",
       "      <td>NaN</td>\n",
       "      <td>NaN</td>\n",
       "      <td>NaN</td>\n",
       "      <td>NaN</td>\n",
       "      <td>NaN</td>\n",
       "    </tr>\n",
       "    <tr>\n",
       "      <th>Review_Total_Negative_Word_Counts</th>\n",
       "      <td>515738</td>\n",
       "      <td>NaN</td>\n",
       "      <td>NaN</td>\n",
       "      <td>NaN</td>\n",
       "      <td>NaT</td>\n",
       "      <td>NaT</td>\n",
       "      <td>18.5395</td>\n",
       "      <td>29.6908</td>\n",
       "      <td>0</td>\n",
       "      <td>2</td>\n",
       "      <td>9</td>\n",
       "      <td>23</td>\n",
       "      <td>408</td>\n",
       "    </tr>\n",
       "    <tr>\n",
       "      <th>Total_Number_of_Reviews</th>\n",
       "      <td>515738</td>\n",
       "      <td>NaN</td>\n",
       "      <td>NaN</td>\n",
       "      <td>NaN</td>\n",
       "      <td>NaT</td>\n",
       "      <td>NaT</td>\n",
       "      <td>2743.74</td>\n",
       "      <td>2317.46</td>\n",
       "      <td>43</td>\n",
       "      <td>1161</td>\n",
       "      <td>2134</td>\n",
       "      <td>3613</td>\n",
       "      <td>16670</td>\n",
       "    </tr>\n",
       "    <tr>\n",
       "      <th>Positive_Review</th>\n",
       "      <td>515738</td>\n",
       "      <td>412601</td>\n",
       "      <td>No Positive</td>\n",
       "      <td>35946</td>\n",
       "      <td>NaT</td>\n",
       "      <td>NaT</td>\n",
       "      <td>NaN</td>\n",
       "      <td>NaN</td>\n",
       "      <td>NaN</td>\n",
       "      <td>NaN</td>\n",
       "      <td>NaN</td>\n",
       "      <td>NaN</td>\n",
       "      <td>NaN</td>\n",
       "    </tr>\n",
       "    <tr>\n",
       "      <th>Review_Total_Positive_Word_Counts</th>\n",
       "      <td>515738</td>\n",
       "      <td>NaN</td>\n",
       "      <td>NaN</td>\n",
       "      <td>NaN</td>\n",
       "      <td>NaT</td>\n",
       "      <td>NaT</td>\n",
       "      <td>17.7765</td>\n",
       "      <td>21.8042</td>\n",
       "      <td>0</td>\n",
       "      <td>5</td>\n",
       "      <td>11</td>\n",
       "      <td>22</td>\n",
       "      <td>395</td>\n",
       "    </tr>\n",
       "    <tr>\n",
       "      <th>Total_Number_of_Reviews_Reviewer_Has_Given</th>\n",
       "      <td>515738</td>\n",
       "      <td>NaN</td>\n",
       "      <td>NaN</td>\n",
       "      <td>NaN</td>\n",
       "      <td>NaT</td>\n",
       "      <td>NaT</td>\n",
       "      <td>7.166</td>\n",
       "      <td>11.0402</td>\n",
       "      <td>1</td>\n",
       "      <td>1</td>\n",
       "      <td>3</td>\n",
       "      <td>8</td>\n",
       "      <td>355</td>\n",
       "    </tr>\n",
       "    <tr>\n",
       "      <th>Reviewer_Score</th>\n",
       "      <td>515738</td>\n",
       "      <td>NaN</td>\n",
       "      <td>NaN</td>\n",
       "      <td>NaN</td>\n",
       "      <td>NaT</td>\n",
       "      <td>NaT</td>\n",
       "      <td>8.39508</td>\n",
       "      <td>1.63786</td>\n",
       "      <td>2.5</td>\n",
       "      <td>7.5</td>\n",
       "      <td>8.8</td>\n",
       "      <td>9.6</td>\n",
       "      <td>10</td>\n",
       "    </tr>\n",
       "    <tr>\n",
       "      <th>Tags</th>\n",
       "      <td>515738</td>\n",
       "      <td>55242</td>\n",
       "      <td>[' Leisure trip ', ' Couple ', ' Double Room '...</td>\n",
       "      <td>5101</td>\n",
       "      <td>NaT</td>\n",
       "      <td>NaT</td>\n",
       "      <td>NaN</td>\n",
       "      <td>NaN</td>\n",
       "      <td>NaN</td>\n",
       "      <td>NaN</td>\n",
       "      <td>NaN</td>\n",
       "      <td>NaN</td>\n",
       "      <td>NaN</td>\n",
       "    </tr>\n",
       "    <tr>\n",
       "      <th>days_since_review</th>\n",
       "      <td>515738</td>\n",
       "      <td>731</td>\n",
       "      <td>1 days</td>\n",
       "      <td>2585</td>\n",
       "      <td>NaT</td>\n",
       "      <td>NaT</td>\n",
       "      <td>NaN</td>\n",
       "      <td>NaN</td>\n",
       "      <td>NaN</td>\n",
       "      <td>NaN</td>\n",
       "      <td>NaN</td>\n",
       "      <td>NaN</td>\n",
       "      <td>NaN</td>\n",
       "    </tr>\n",
       "    <tr>\n",
       "      <th>lat</th>\n",
       "      <td>512470</td>\n",
       "      <td>NaN</td>\n",
       "      <td>NaN</td>\n",
       "      <td>NaN</td>\n",
       "      <td>NaT</td>\n",
       "      <td>NaT</td>\n",
       "      <td>49.4424</td>\n",
       "      <td>3.46633</td>\n",
       "      <td>41.3284</td>\n",
       "      <td>48.2147</td>\n",
       "      <td>51.5</td>\n",
       "      <td>51.5163</td>\n",
       "      <td>52.4002</td>\n",
       "    </tr>\n",
       "    <tr>\n",
       "      <th>lng</th>\n",
       "      <td>512470</td>\n",
       "      <td>NaN</td>\n",
       "      <td>NaN</td>\n",
       "      <td>NaN</td>\n",
       "      <td>NaT</td>\n",
       "      <td>NaT</td>\n",
       "      <td>2.8238</td>\n",
       "      <td>4.57943</td>\n",
       "      <td>-0.369758</td>\n",
       "      <td>-0.143372</td>\n",
       "      <td>0.010607</td>\n",
       "      <td>4.83444</td>\n",
       "      <td>16.4292</td>\n",
       "    </tr>\n",
       "  </tbody>\n",
       "</table>\n",
       "</div>"
      ],
      "text/plain": [
       "                                             count  unique  \\\n",
       "Hotel_Address                               515738    1493   \n",
       "Additional_Number_of_Scoring                515738     NaN   \n",
       "Review_Date                                 515738     731   \n",
       "Average_Score                               515738     NaN   \n",
       "Hotel_Name                                  515738    1492   \n",
       "Reviewer_Nationality                        515738     227   \n",
       "Negative_Review                             515738  330011   \n",
       "Review_Total_Negative_Word_Counts           515738     NaN   \n",
       "Total_Number_of_Reviews                     515738     NaN   \n",
       "Positive_Review                             515738  412601   \n",
       "Review_Total_Positive_Word_Counts           515738     NaN   \n",
       "Total_Number_of_Reviews_Reviewer_Has_Given  515738     NaN   \n",
       "Reviewer_Score                              515738     NaN   \n",
       "Tags                                        515738   55242   \n",
       "days_since_review                           515738     731   \n",
       "lat                                         512470     NaN   \n",
       "lng                                         512470     NaN   \n",
       "\n",
       "                                                                                          top  \\\n",
       "Hotel_Address                               163 Marsh Wall Docklands Tower Hamlets London ...   \n",
       "Additional_Number_of_Scoring                                                              NaN   \n",
       "Review_Date                                                               2017-08-02 00:00:00   \n",
       "Average_Score                                                                             NaN   \n",
       "Hotel_Name                                         Britannia International Hotel Canary Wharf   \n",
       "Reviewer_Nationality                                                          United Kingdom    \n",
       "Negative_Review                                                                   No Negative   \n",
       "Review_Total_Negative_Word_Counts                                                         NaN   \n",
       "Total_Number_of_Reviews                                                                   NaN   \n",
       "Positive_Review                                                                   No Positive   \n",
       "Review_Total_Positive_Word_Counts                                                         NaN   \n",
       "Total_Number_of_Reviews_Reviewer_Has_Given                                                NaN   \n",
       "Reviewer_Score                                                                            NaN   \n",
       "Tags                                        [' Leisure trip ', ' Couple ', ' Double Room '...   \n",
       "days_since_review                                                                      1 days   \n",
       "lat                                                                                       NaN   \n",
       "lng                                                                                       NaN   \n",
       "\n",
       "                                              freq      first       last  \\\n",
       "Hotel_Address                                 4789        NaT        NaT   \n",
       "Additional_Number_of_Scoring                   NaN        NaT        NaT   \n",
       "Review_Date                                   2585 2015-08-04 2017-08-03   \n",
       "Average_Score                                  NaN        NaT        NaT   \n",
       "Hotel_Name                                    4789        NaT        NaT   \n",
       "Reviewer_Nationality                        245246        NaT        NaT   \n",
       "Negative_Review                             127890        NaT        NaT   \n",
       "Review_Total_Negative_Word_Counts              NaN        NaT        NaT   \n",
       "Total_Number_of_Reviews                        NaN        NaT        NaT   \n",
       "Positive_Review                              35946        NaT        NaT   \n",
       "Review_Total_Positive_Word_Counts              NaN        NaT        NaT   \n",
       "Total_Number_of_Reviews_Reviewer_Has_Given     NaN        NaT        NaT   \n",
       "Reviewer_Score                                 NaN        NaT        NaT   \n",
       "Tags                                          5101        NaT        NaT   \n",
       "days_since_review                             2585        NaT        NaT   \n",
       "lat                                            NaN        NaT        NaT   \n",
       "lng                                            NaN        NaT        NaT   \n",
       "\n",
       "                                               mean       std       min  \\\n",
       "Hotel_Address                                   NaN       NaN       NaN   \n",
       "Additional_Number_of_Scoring                498.082   500.538         1   \n",
       "Review_Date                                     NaN       NaN       NaN   \n",
       "Average_Score                               8.39749  0.548048       5.2   \n",
       "Hotel_Name                                      NaN       NaN       NaN   \n",
       "Reviewer_Nationality                            NaN       NaN       NaN   \n",
       "Negative_Review                                 NaN       NaN       NaN   \n",
       "Review_Total_Negative_Word_Counts           18.5395   29.6908         0   \n",
       "Total_Number_of_Reviews                     2743.74   2317.46        43   \n",
       "Positive_Review                                 NaN       NaN       NaN   \n",
       "Review_Total_Positive_Word_Counts           17.7765   21.8042         0   \n",
       "Total_Number_of_Reviews_Reviewer_Has_Given    7.166   11.0402         1   \n",
       "Reviewer_Score                              8.39508   1.63786       2.5   \n",
       "Tags                                            NaN       NaN       NaN   \n",
       "days_since_review                               NaN       NaN       NaN   \n",
       "lat                                         49.4424   3.46633   41.3284   \n",
       "lng                                          2.8238   4.57943 -0.369758   \n",
       "\n",
       "                                                 25%       50%      75%  \\\n",
       "Hotel_Address                                    NaN       NaN      NaN   \n",
       "Additional_Number_of_Scoring                     169       341      660   \n",
       "Review_Date                                      NaN       NaN      NaN   \n",
       "Average_Score                                    8.1       8.4      8.8   \n",
       "Hotel_Name                                       NaN       NaN      NaN   \n",
       "Reviewer_Nationality                             NaN       NaN      NaN   \n",
       "Negative_Review                                  NaN       NaN      NaN   \n",
       "Review_Total_Negative_Word_Counts                  2         9       23   \n",
       "Total_Number_of_Reviews                         1161      2134     3613   \n",
       "Positive_Review                                  NaN       NaN      NaN   \n",
       "Review_Total_Positive_Word_Counts                  5        11       22   \n",
       "Total_Number_of_Reviews_Reviewer_Has_Given         1         3        8   \n",
       "Reviewer_Score                                   7.5       8.8      9.6   \n",
       "Tags                                             NaN       NaN      NaN   \n",
       "days_since_review                                NaN       NaN      NaN   \n",
       "lat                                          48.2147      51.5  51.5163   \n",
       "lng                                        -0.143372  0.010607  4.83444   \n",
       "\n",
       "                                                max  \n",
       "Hotel_Address                                   NaN  \n",
       "Additional_Number_of_Scoring                   2682  \n",
       "Review_Date                                     NaN  \n",
       "Average_Score                                   9.8  \n",
       "Hotel_Name                                      NaN  \n",
       "Reviewer_Nationality                            NaN  \n",
       "Negative_Review                                 NaN  \n",
       "Review_Total_Negative_Word_Counts               408  \n",
       "Total_Number_of_Reviews                       16670  \n",
       "Positive_Review                                 NaN  \n",
       "Review_Total_Positive_Word_Counts               395  \n",
       "Total_Number_of_Reviews_Reviewer_Has_Given      355  \n",
       "Reviewer_Score                                   10  \n",
       "Tags                                            NaN  \n",
       "days_since_review                               NaN  \n",
       "lat                                         52.4002  \n",
       "lng                                         16.4292  "
      ]
     },
     "execution_count": 3,
     "metadata": {},
     "output_type": "execute_result"
    }
   ],
   "source": [
    "df.describe(include = \"all\").T"
   ]
  },
  {
   "cell_type": "markdown",
   "metadata": {
    "colab_type": "text",
    "id": "8KWSJCdU_yoY"
   },
   "source": [
    "Как видим, пропусков почти нет, но все же удалим строки с незаполненными данными . Количество уникальных значений наименований отеля меньше на один, чем количство адресов - скорее всего какой то адрес был записан с ошибкой в одном из наблюдений, или потерялся символ при предобработке датасета. Данные получены в промежутке с 4 августа 2015 по 3 августа 2017. Средннее значение рейтинга отеля почти точно повторяет среднее пользовательских рейтингов, хотя и с меньшей дисперисией - что логично. Видны выбросы в параметре \"количество оценок, оставленных посетителем\" - при медиане в 3 кто-то сумел настрочить 395 отзывов. Впоследствии мы всех кто много путешествует (количество отзывов > 30) объединим в одну группу."
   ]
  },
  {
   "cell_type": "code",
   "execution_count": 4,
   "metadata": {},
   "outputs": [
    {
     "name": "stdout",
     "output_type": "stream",
     "text": [
      "<class 'pandas.core.frame.DataFrame'>\n",
      "Int64Index: 515738 entries, 113053 to 0\n",
      "Data columns (total 17 columns):\n",
      "Hotel_Address                                 515738 non-null object\n",
      "Additional_Number_of_Scoring                  515738 non-null int64\n",
      "Review_Date                                   515738 non-null datetime64[ns]\n",
      "Average_Score                                 515738 non-null float64\n",
      "Hotel_Name                                    515738 non-null object\n",
      "Reviewer_Nationality                          515738 non-null object\n",
      "Negative_Review                               515738 non-null object\n",
      "Review_Total_Negative_Word_Counts             515738 non-null int64\n",
      "Total_Number_of_Reviews                       515738 non-null int64\n",
      "Positive_Review                               515738 non-null object\n",
      "Review_Total_Positive_Word_Counts             515738 non-null int64\n",
      "Total_Number_of_Reviews_Reviewer_Has_Given    515738 non-null int64\n",
      "Reviewer_Score                                515738 non-null float64\n",
      "Tags                                          515738 non-null object\n",
      "days_since_review                             515738 non-null object\n",
      "lat                                           512470 non-null float64\n",
      "lng                                           512470 non-null float64\n",
      "dtypes: datetime64[ns](1), float64(4), int64(5), object(7)\n",
      "memory usage: 70.8+ MB\n"
     ]
    }
   ],
   "source": [
    "df.info()"
   ]
  },
  {
   "cell_type": "code",
   "execution_count": 5,
   "metadata": {
    "colab": {
     "autoexec": {
      "startup": false,
      "wait_interval": 0
     },
     "base_uri": "https://localhost:8080/",
     "height": 34
    },
    "colab_type": "code",
    "executionInfo": {
     "elapsed": 1137,
     "status": "ok",
     "timestamp": 1524159762395,
     "user": {
      "displayName": "Дмитрий Краснов",
      "photoUrl": "https://lh3.googleusercontent.com/a/default-user=s128",
      "userId": "112989222800173850643"
     },
     "user_tz": -180
    },
    "id": "5a1QvPQN_6vh",
    "outputId": "708a1291-d681-48c0-dc4a-c844783feaa6"
   },
   "outputs": [
    {
     "data": {
      "text/plain": [
       "(512470, 17)"
      ]
     },
     "execution_count": 5,
     "metadata": {},
     "output_type": "execute_result"
    }
   ],
   "source": [
    "df = df.dropna()\n",
    "df.shape"
   ]
  },
  {
   "cell_type": "markdown",
   "metadata": {
    "colab_type": "text",
    "id": "oQNgObnTPifW"
   },
   "source": [
    "\n",
    "Выделим численные признаки и посмотрим, как они связаны между собой."
   ]
  },
  {
   "cell_type": "code",
   "execution_count": 6,
   "metadata": {
    "colab": {
     "autoexec": {
      "startup": false,
      "wait_interval": 0
     }
    },
    "colab_type": "code",
    "id": "ogJjA4ggPjdS",
    "scrolled": true
   },
   "outputs": [
    {
     "data": {
      "text/html": [
       "<div>\n",
       "<style scoped>\n",
       "    .dataframe tbody tr th:only-of-type {\n",
       "        vertical-align: middle;\n",
       "    }\n",
       "\n",
       "    .dataframe tbody tr th {\n",
       "        vertical-align: top;\n",
       "    }\n",
       "\n",
       "    .dataframe thead th {\n",
       "        text-align: right;\n",
       "    }\n",
       "</style>\n",
       "<table border=\"1\" class=\"dataframe\">\n",
       "  <thead>\n",
       "    <tr style=\"text-align: right;\">\n",
       "      <th></th>\n",
       "      <th>Additional_Number_of_Scoring</th>\n",
       "      <th>Average_Score</th>\n",
       "      <th>Review_Total_Negative_Word_Counts</th>\n",
       "      <th>Total_Number_of_Reviews</th>\n",
       "      <th>Review_Total_Positive_Word_Counts</th>\n",
       "      <th>Total_Number_of_Reviews_Reviewer_Has_Given</th>\n",
       "      <th>Reviewer_Score</th>\n",
       "      <th>lat</th>\n",
       "      <th>lng</th>\n",
       "    </tr>\n",
       "  </thead>\n",
       "  <tbody>\n",
       "    <tr>\n",
       "      <th>Additional_Number_of_Scoring</th>\n",
       "      <td>1.000000</td>\n",
       "      <td>-0.153779</td>\n",
       "      <td>0.029226</td>\n",
       "      <td>0.825215</td>\n",
       "      <td>-0.052953</td>\n",
       "      <td>-0.071664</td>\n",
       "      <td>-0.061973</td>\n",
       "      <td>0.336295</td>\n",
       "      <td>-0.295732</td>\n",
       "    </tr>\n",
       "    <tr>\n",
       "      <th>Average_Score</th>\n",
       "      <td>-0.153779</td>\n",
       "      <td>1.000000</td>\n",
       "      <td>-0.112634</td>\n",
       "      <td>-0.180101</td>\n",
       "      <td>0.106992</td>\n",
       "      <td>0.036870</td>\n",
       "      <td>0.364967</td>\n",
       "      <td>-0.108642</td>\n",
       "      <td>0.106078</td>\n",
       "    </tr>\n",
       "    <tr>\n",
       "      <th>Review_Total_Negative_Word_Counts</th>\n",
       "      <td>0.029226</td>\n",
       "      <td>-0.112634</td>\n",
       "      <td>1.000000</td>\n",
       "      <td>0.035158</td>\n",
       "      <td>0.119116</td>\n",
       "      <td>0.003019</td>\n",
       "      <td>-0.382574</td>\n",
       "      <td>0.019112</td>\n",
       "      <td>-0.020002</td>\n",
       "    </tr>\n",
       "    <tr>\n",
       "      <th>Total_Number_of_Reviews</th>\n",
       "      <td>0.825215</td>\n",
       "      <td>-0.180101</td>\n",
       "      <td>0.035158</td>\n",
       "      <td>1.000000</td>\n",
       "      <td>-0.029974</td>\n",
       "      <td>-0.024983</td>\n",
       "      <td>-0.073081</td>\n",
       "      <td>0.100295</td>\n",
       "      <td>-0.014141</td>\n",
       "    </tr>\n",
       "    <tr>\n",
       "      <th>Review_Total_Positive_Word_Counts</th>\n",
       "      <td>-0.052953</td>\n",
       "      <td>0.106992</td>\n",
       "      <td>0.119116</td>\n",
       "      <td>-0.029974</td>\n",
       "      <td>1.000000</td>\n",
       "      <td>0.026451</td>\n",
       "      <td>0.220734</td>\n",
       "      <td>-0.037567</td>\n",
       "      <td>0.035471</td>\n",
       "    </tr>\n",
       "    <tr>\n",
       "      <th>Total_Number_of_Reviews_Reviewer_Has_Given</th>\n",
       "      <td>-0.071664</td>\n",
       "      <td>0.036870</td>\n",
       "      <td>0.003019</td>\n",
       "      <td>-0.024983</td>\n",
       "      <td>0.026451</td>\n",
       "      <td>1.000000</td>\n",
       "      <td>0.002985</td>\n",
       "      <td>-0.059793</td>\n",
       "      <td>0.110810</td>\n",
       "    </tr>\n",
       "    <tr>\n",
       "      <th>Reviewer_Score</th>\n",
       "      <td>-0.061973</td>\n",
       "      <td>0.364967</td>\n",
       "      <td>-0.382574</td>\n",
       "      <td>-0.073081</td>\n",
       "      <td>0.220734</td>\n",
       "      <td>0.002985</td>\n",
       "      <td>1.000000</td>\n",
       "      <td>-0.036562</td>\n",
       "      <td>0.034001</td>\n",
       "    </tr>\n",
       "    <tr>\n",
       "      <th>lat</th>\n",
       "      <td>0.336295</td>\n",
       "      <td>-0.108642</td>\n",
       "      <td>0.019112</td>\n",
       "      <td>0.100295</td>\n",
       "      <td>-0.037567</td>\n",
       "      <td>-0.059793</td>\n",
       "      <td>-0.036562</td>\n",
       "      <td>1.000000</td>\n",
       "      <td>-0.304524</td>\n",
       "    </tr>\n",
       "    <tr>\n",
       "      <th>lng</th>\n",
       "      <td>-0.295732</td>\n",
       "      <td>0.106078</td>\n",
       "      <td>-0.020002</td>\n",
       "      <td>-0.014141</td>\n",
       "      <td>0.035471</td>\n",
       "      <td>0.110810</td>\n",
       "      <td>0.034001</td>\n",
       "      <td>-0.304524</td>\n",
       "      <td>1.000000</td>\n",
       "    </tr>\n",
       "  </tbody>\n",
       "</table>\n",
       "</div>"
      ],
      "text/plain": [
       "                                            Additional_Number_of_Scoring  \\\n",
       "Additional_Number_of_Scoring                                    1.000000   \n",
       "Average_Score                                                  -0.153779   \n",
       "Review_Total_Negative_Word_Counts                               0.029226   \n",
       "Total_Number_of_Reviews                                         0.825215   \n",
       "Review_Total_Positive_Word_Counts                              -0.052953   \n",
       "Total_Number_of_Reviews_Reviewer_Has_Given                     -0.071664   \n",
       "Reviewer_Score                                                 -0.061973   \n",
       "lat                                                             0.336295   \n",
       "lng                                                            -0.295732   \n",
       "\n",
       "                                            Average_Score  \\\n",
       "Additional_Number_of_Scoring                    -0.153779   \n",
       "Average_Score                                    1.000000   \n",
       "Review_Total_Negative_Word_Counts               -0.112634   \n",
       "Total_Number_of_Reviews                         -0.180101   \n",
       "Review_Total_Positive_Word_Counts                0.106992   \n",
       "Total_Number_of_Reviews_Reviewer_Has_Given       0.036870   \n",
       "Reviewer_Score                                   0.364967   \n",
       "lat                                             -0.108642   \n",
       "lng                                              0.106078   \n",
       "\n",
       "                                            Review_Total_Negative_Word_Counts  \\\n",
       "Additional_Number_of_Scoring                                         0.029226   \n",
       "Average_Score                                                       -0.112634   \n",
       "Review_Total_Negative_Word_Counts                                    1.000000   \n",
       "Total_Number_of_Reviews                                              0.035158   \n",
       "Review_Total_Positive_Word_Counts                                    0.119116   \n",
       "Total_Number_of_Reviews_Reviewer_Has_Given                           0.003019   \n",
       "Reviewer_Score                                                      -0.382574   \n",
       "lat                                                                  0.019112   \n",
       "lng                                                                 -0.020002   \n",
       "\n",
       "                                            Total_Number_of_Reviews  \\\n",
       "Additional_Number_of_Scoring                               0.825215   \n",
       "Average_Score                                             -0.180101   \n",
       "Review_Total_Negative_Word_Counts                          0.035158   \n",
       "Total_Number_of_Reviews                                    1.000000   \n",
       "Review_Total_Positive_Word_Counts                         -0.029974   \n",
       "Total_Number_of_Reviews_Reviewer_Has_Given                -0.024983   \n",
       "Reviewer_Score                                            -0.073081   \n",
       "lat                                                        0.100295   \n",
       "lng                                                       -0.014141   \n",
       "\n",
       "                                            Review_Total_Positive_Word_Counts  \\\n",
       "Additional_Number_of_Scoring                                        -0.052953   \n",
       "Average_Score                                                        0.106992   \n",
       "Review_Total_Negative_Word_Counts                                    0.119116   \n",
       "Total_Number_of_Reviews                                             -0.029974   \n",
       "Review_Total_Positive_Word_Counts                                    1.000000   \n",
       "Total_Number_of_Reviews_Reviewer_Has_Given                           0.026451   \n",
       "Reviewer_Score                                                       0.220734   \n",
       "lat                                                                 -0.037567   \n",
       "lng                                                                  0.035471   \n",
       "\n",
       "                                            Total_Number_of_Reviews_Reviewer_Has_Given  \\\n",
       "Additional_Number_of_Scoring                                                 -0.071664   \n",
       "Average_Score                                                                 0.036870   \n",
       "Review_Total_Negative_Word_Counts                                             0.003019   \n",
       "Total_Number_of_Reviews                                                      -0.024983   \n",
       "Review_Total_Positive_Word_Counts                                             0.026451   \n",
       "Total_Number_of_Reviews_Reviewer_Has_Given                                    1.000000   \n",
       "Reviewer_Score                                                                0.002985   \n",
       "lat                                                                          -0.059793   \n",
       "lng                                                                           0.110810   \n",
       "\n",
       "                                            Reviewer_Score       lat       lng  \n",
       "Additional_Number_of_Scoring                     -0.061973  0.336295 -0.295732  \n",
       "Average_Score                                     0.364967 -0.108642  0.106078  \n",
       "Review_Total_Negative_Word_Counts                -0.382574  0.019112 -0.020002  \n",
       "Total_Number_of_Reviews                          -0.073081  0.100295 -0.014141  \n",
       "Review_Total_Positive_Word_Counts                 0.220734 -0.037567  0.035471  \n",
       "Total_Number_of_Reviews_Reviewer_Has_Given        0.002985 -0.059793  0.110810  \n",
       "Reviewer_Score                                    1.000000 -0.036562  0.034001  \n",
       "lat                                              -0.036562  1.000000 -0.304524  \n",
       "lng                                               0.034001 -0.304524  1.000000  "
      ]
     },
     "execution_count": 6,
     "metadata": {},
     "output_type": "execute_result"
    }
   ],
   "source": [
    "numeric_cols = [\n",
    "    'Additional_Number_of_Scoring',\n",
    "    'Average_Score',\n",
    "    'Review_Total_Negative_Word_Counts',\n",
    "    'Total_Number_of_Reviews',\n",
    "    'Review_Total_Positive_Word_Counts',\n",
    "    'Total_Number_of_Reviews_Reviewer_Has_Given',\n",
    "    'Reviewer_Score',\n",
    "    'lat',\n",
    "    'lng'\n",
    "]\n",
    "corr_data = df[numeric_cols].corr()\n",
    "corr_data"
   ]
  },
  {
   "cell_type": "code",
   "execution_count": 7,
   "metadata": {},
   "outputs": [
    {
     "data": {
      "text/plain": [
       "<matplotlib.axes._subplots.AxesSubplot at 0x7efdb80d9048>"
      ]
     },
     "execution_count": 7,
     "metadata": {},
     "output_type": "execute_result"
    },
    {
     "data": {
      "image/png": "[encoded data removed]",
      "text/plain": [
       "<Figure size 648x648 with 2 Axes>"
      ]
     },
     "metadata": {},
     "output_type": "display_data"
    }
   ],
   "source": [
    "plt.figure(figsize=(9, 9))\n",
    "sns.heatmap(corr_data)"
   ]
  },
  {
   "cell_type": "markdown",
   "metadata": {},
   "source": [
    "Как видим, между данными нет сильной корреляции - только между количеством отзывов и количеством оценок без отзывов, что вполне логично - чем популярнее отель, тем больше отзывов и оценок оставляют о нем."
   ]
  },
  {
   "cell_type": "markdown",
   "metadata": {
    "colab": {
     "autoexec": {
      "startup": false,
      "wait_interval": 0
     }
    },
    "colab_type": "code",
    "collapsed": true,
    "id": "bwiYvLtGFyTR"
   },
   "source": [
    "Выделим целевой прзнак и проведем статтесты на нормальность и скошенность"
   ]
  },
  {
   "cell_type": "code",
   "execution_count": 8,
   "metadata": {
    "colab": {
     "autoexec": {
      "startup": false,
      "wait_interval": 0
     },
     "base_uri": "https://localhost:8080/",
     "height": 170
    },
    "colab_type": "code",
    "executionInfo": {
     "elapsed": 558,
     "status": "ok",
     "timestamp": 1524162594896,
     "user": {
      "displayName": "Дмитрий Краснов",
      "photoUrl": "https://lh3.googleusercontent.com/a/default-user=s128",
      "userId": "112989222800173850643"
     },
     "user_tz": -180
    },
    "id": "pTj-Dd8Zsdjg",
    "outputId": "d5a4f594-2d96-4a1d-e1c7-01d6857d68dc",
    "scrolled": true
   },
   "outputs": [
    {
     "data": {
      "text/plain": [
       "count    512470.000000\n",
       "mean          8.395594\n",
       "std           1.638170\n",
       "min           2.500000\n",
       "25%           7.500000\n",
       "50%           8.800000\n",
       "75%           9.600000\n",
       "max          10.000000\n",
       "Name: Reviewer_Score, dtype: float64"
      ]
     },
     "execution_count": 8,
     "metadata": {},
     "output_type": "execute_result"
    }
   ],
   "source": [
    "y = df['Reviewer_Score']\n",
    "y.describe()"
   ]
  },
  {
   "cell_type": "code",
   "execution_count": 9,
   "metadata": {},
   "outputs": [
    {
     "data": {
      "text/plain": [
       "<matplotlib.axes._subplots.AxesSubplot at 0x7efd73f17ef0>"
      ]
     },
     "execution_count": 9,
     "metadata": {},
     "output_type": "execute_result"
    },
    {
     "data": {
      "image/png": "[encoded data removed]",
      "text/plain": [
       "<Figure size 432x288 with 1 Axes>"
      ]
     },
     "metadata": {},
     "output_type": "display_data"
    }
   ],
   "source": [
    "df['Reviewer_Score'].hist()"
   ]
  },
  {
   "cell_type": "code",
   "execution_count": 10,
   "metadata": {
    "colab": {
     "autoexec": {
      "startup": false,
      "wait_interval": 0
     },
     "base_uri": "https://localhost:8080/",
     "height": 51
    },
    "colab_type": "code",
    "executionInfo": {
     "elapsed": 660,
     "status": "ok",
     "timestamp": 1524162596409,
     "user": {
      "displayName": "Дмитрий Краснов",
      "photoUrl": "https://lh3.googleusercontent.com/a/default-user=s128",
      "userId": "112989222800173850643"
     },
     "user_tz": -180
    },
    "id": "bQVWhM5rK4WK",
    "outputId": "c041ab87-aa43-4fbf-8740-c5f2b55bedf3"
   },
   "outputs": [
    {
     "name": "stdout",
     "output_type": "stream",
     "text": [
      "NormaltestResult(statistic=87916.84221853649, pvalue=0.0)\n",
      "-1.1937089053972578\n"
     ]
    }
   ],
   "source": [
    "print(stats.normaltest(y))\n",
    "print(stats.skew(y))"
   ]
  },
  {
   "cell_type": "markdown",
   "metadata": {
    "colab_type": "text",
    "id": "cwibIs9sHwiy"
   },
   "source": [
    "Как мы видим, гипотеза о нормальности отвергается, распеределение имеет левостороннюю ассиметрию - ну это было ясно из среднего в 8.4. Такие значения соответсвуют интуитивному представлению о том, как люди распределяют оценки - редко какие оценки (от школьных до различных рейтингов) распределяются равномерно, почти всегда они распределены вокруг оценки \"хорошо\" - ну или вокруг оценки \"плохо\" если это антирейтинг (например, сайт с плохими отзывами о работодателях). Попробуем получить больше информации с помощью визуализаций."
   ]
  },
  {
   "cell_type": "markdown",
   "metadata": {
    "colab_type": "text",
    "id": "iz_W6OAXsdji"
   },
   "source": [
    "###  Часть 3. Первичный визуальный анализ признаков"
   ]
  },
  {
   "cell_type": "markdown",
   "metadata": {},
   "source": [
    "Начнем с того, что построим графики распределений оценок"
   ]
  },
  {
   "cell_type": "code",
   "execution_count": 11,
   "metadata": {},
   "outputs": [
    {
     "data": {
      "image/png": "[encoded data removed]",
      "text/plain": [
       "<Figure size 432x288 with 1 Axes>"
      ]
     },
     "metadata": {},
     "output_type": "display_data"
    }
   ],
   "source": [
    "\n",
    "sns.distplot(y,kde=False, bins=20);"
   ]
  },
  {
   "cell_type": "code",
   "execution_count": 12,
   "metadata": {},
   "outputs": [
    {
     "data": {
      "text/plain": [
       "<matplotlib.axes._subplots.AxesSubplot at 0x7efd73dd3b70>"
      ]
     },
     "execution_count": 12,
     "metadata": {},
     "output_type": "execute_result"
    },
    {
     "data": {
      "image/png": "[encoded data removed]",
      "text/plain": [
       "<Figure size 432x288 with 1 Axes>"
      ]
     },
     "metadata": {},
     "output_type": "display_data"
    }
   ],
   "source": [
    "data_plot = df[[\"Hotel_Name\",\"Average_Score\"]].drop_duplicates()\n",
    "\n",
    "sns.countplot(x='Average_Score',data=data_plot)"
   ]
  },
  {
   "cell_type": "markdown",
   "metadata": {},
   "source": [
    "Как видим, люди склонны ставить максимальные оценки отелям после посещений. Из графика мы можем явно убедиться, что распеределение не  является нормальным. В тоже время распределине средних оценок отелей уже гораздо более похоже на нормальное - центральная предельная теорема в деле. \n",
    "Визуализурием матрицу корреляций."
   ]
  },
  {
   "cell_type": "code",
   "execution_count": 13,
   "metadata": {},
   "outputs": [
    {
     "data": {
      "text/plain": [
       "<matplotlib.axes._subplots.AxesSubplot at 0x7efd65fd91d0>"
      ]
     },
     "execution_count": 13,
     "metadata": {},
     "output_type": "execute_result"
    },
    {
     "data": {
      "image/png": "[encoded data removed]",
      "text/plain": [
       "<Figure size 432x288 with 2 Axes>"
      ]
     },
     "metadata": {},
     "output_type": "display_data"
    }
   ],
   "source": [
    "sns.heatmap(corr_data, annot=True, fmt = '.2f')"
   ]
  },
  {
   "cell_type": "markdown",
   "metadata": {},
   "source": [
    "Никакой новой информации по сравнению с табличным представлением на мой взгляд не появилось. Разве что стало хорошо видно, что единстванная переменная которая значимо коррелирует с целевой - это средний рейтинг отеля, что думаю вполне очиведно.  \n",
    "Посмотрим, как менялись оценки людей со временем."
   ]
  },
  {
   "cell_type": "code",
   "execution_count": 14,
   "metadata": {},
   "outputs": [
    {
     "data": {
      "image/png": "[encoded data removed]",
      "text/plain": [
       "<Figure size 432x288 with 1 Axes>"
      ]
     },
     "metadata": {},
     "output_type": "display_data"
    }
   ],
   "source": [
    "time_data = df.groupby(\"Review_Date\")[\"Reviewer_Score\"].mean().sort_index()\n",
    "fig, ax = plt.subplots()\n",
    "sns.tsplot(time=time_data.index, data=time_data.values, ax=ax)\n",
    "ax.set_xticklabels(time_data.index[::104])\n",
    "fig.autofmt_xdate()\n",
    "plt.show()"
   ]
  },
  {
   "cell_type": "markdown",
   "metadata": {},
   "source": [
    "На общем графике видна сезонность по месяцам, по годам рейтинги выглядят похожими. Проверим это, взглянув на распределение по годам и месяцам. Будем строить отчитывать график не с нуля, а с 7 - чтобы было лучше видно разницу "
   ]
  },
  {
   "cell_type": "code",
   "execution_count": 15,
   "metadata": {},
   "outputs": [],
   "source": [
    "df['year'] = df['Review_Date'].dt.year\n",
    "df['month'] = df['Review_Date'].dt.month"
   ]
  },
  {
   "cell_type": "code",
   "execution_count": 16,
   "metadata": {},
   "outputs": [
    {
     "data": {
      "text/plain": [
       "<matplotlib.axes._subplots.AxesSubplot at 0x7efd65e96978>"
      ]
     },
     "execution_count": 16,
     "metadata": {},
     "output_type": "execute_result"
    },
    {
     "data": {
      "image/png": "[encoded data removed]",
      "text/plain": [
       "<Figure size 432x288 with 2 Axes>"
      ]
     },
     "metadata": {},
     "output_type": "display_data"
    }
   ],
   "source": [
    "month_hist = df.groupby(\"month\")['Reviewer_Score'].mean().sort_index()\n",
    "year_hist = df.groupby(\"year\")['Reviewer_Score'].mean().sort_index()\n",
    "\n",
    "fig, axs = plt.subplots(ncols=2)\n",
    "axs[0].set_ylim(7,9)\n",
    "axs[1].set_ylim(7,9)\n",
    "\n",
    "sns.barplot(x=year_hist.index, y=year_hist.values, ax=axs[0])\n",
    "sns.barplot(x=month_hist.index, y=month_hist.values, ax=axs[1])"
   ]
  },
  {
   "cell_type": "markdown",
   "metadata": {},
   "source": [
    "Как видно, колебания небольшие, при этом от года к году они особенно малы. "
   ]
  },
  {
   "cell_type": "markdown",
   "metadata": {
    "collapsed": true
   },
   "source": [
    "Посмотрим на текстовые данные. Визуализировать их будем при помощи облака тегов - может найдет что-нибудь интересное"
   ]
  },
  {
   "cell_type": "code",
   "execution_count": 17,
   "metadata": {},
   "outputs": [
    {
     "ename": "ModuleNotFoundError",
     "evalue": "No module named 'wordcloud'",
     "output_type": "error",
     "traceback": [
      "\u001b[0;31m---------------------------------------------------------------------------\u001b[0m",
      "\u001b[0;31mModuleNotFoundError\u001b[0m                       Traceback (most recent call last)",
      "\u001b[0;32m<ipython-input-17-12ff859b4067>\u001b[0m in \u001b[0;36m<module>\u001b[0;34m()\u001b[0m\n\u001b[0;32m----> 1\u001b[0;31m \u001b[0;32mfrom\u001b[0m \u001b[0mwordcloud\u001b[0m \u001b[0;32mimport\u001b[0m \u001b[0mWordCloud\u001b[0m\u001b[0;34m\u001b[0m\u001b[0;34m\u001b[0m\u001b[0m\n\u001b[0m\u001b[1;32m      2\u001b[0m \u001b[0mwc_params\u001b[0m \u001b[0;34m=\u001b[0m \u001b[0;34m{\u001b[0m\u001b[0;34m'background_color'\u001b[0m\u001b[0;34m:\u001b[0m \u001b[0;34m'white'\u001b[0m\u001b[0;34m,\u001b[0m \u001b[0;34m'width'\u001b[0m\u001b[0;34m:\u001b[0m \u001b[0;36m600\u001b[0m\u001b[0;34m,\u001b[0m \u001b[0;34m'height'\u001b[0m\u001b[0;34m:\u001b[0m \u001b[0;36m300\u001b[0m\u001b[0;34m,\u001b[0m \u001b[0;34m'max_font_size'\u001b[0m\u001b[0;34m:\u001b[0m \u001b[0;36m300\u001b[0m\u001b[0;34m,\u001b[0m \u001b[0;34m'max_words'\u001b[0m\u001b[0;34m:\u001b[0m \u001b[0;36m40\u001b[0m\u001b[0;34m}\u001b[0m\u001b[0;34m\u001b[0m\u001b[0;34m\u001b[0m\u001b[0m\n",
      "\u001b[0;31mModuleNotFoundError\u001b[0m: No module named 'wordcloud'"
     ]
    }
   ],
   "source": [
    "from wordcloud import WordCloud\n",
    "wc_params = {'background_color': 'white', 'width': 600, 'height': 300, 'max_font_size': 300, 'max_words': 40}"
   ]
  },
  {
   "cell_type": "code",
   "execution_count": 18,
   "metadata": {},
   "outputs": [
    {
     "ename": "NameError",
     "evalue": "name 'WordCloud' is not defined",
     "output_type": "error",
     "traceback": [
      "\u001b[0;31m---------------------------------------------------------------------------\u001b[0m",
      "\u001b[0;31mNameError\u001b[0m                                 Traceback (most recent call last)",
      "\u001b[0;32m<ipython-input-18-f5d8450fee3f>\u001b[0m in \u001b[0;36m<module>\u001b[0;34m()\u001b[0m\n\u001b[0;32m----> 1\u001b[0;31m \u001b[0mwordcloud\u001b[0m \u001b[0;34m=\u001b[0m \u001b[0mWordCloud\u001b[0m\u001b[0;34m(\u001b[0m\u001b[0;34m**\u001b[0m\u001b[0mwc_params\u001b[0m\u001b[0;34m)\u001b[0m\u001b[0;34m.\u001b[0m\u001b[0mgenerate_from_frequencies\u001b[0m\u001b[0;34m(\u001b[0m\u001b[0mdf\u001b[0m\u001b[0;34m[\u001b[0m\u001b[0;34m'Negative_Review'\u001b[0m\u001b[0;34m]\u001b[0m\u001b[0;34m.\u001b[0m\u001b[0mvalue_counts\u001b[0m\u001b[0;34m(\u001b[0m\u001b[0;34m)\u001b[0m\u001b[0;34m)\u001b[0m\u001b[0;34m\u001b[0m\u001b[0;34m\u001b[0m\u001b[0m\n\u001b[0m\u001b[1;32m      2\u001b[0m \u001b[0mplt\u001b[0m\u001b[0;34m.\u001b[0m\u001b[0mimshow\u001b[0m\u001b[0;34m(\u001b[0m\u001b[0mwordcloud\u001b[0m\u001b[0;34m)\u001b[0m\u001b[0;34m\u001b[0m\u001b[0;34m\u001b[0m\u001b[0m\n\u001b[1;32m      3\u001b[0m \u001b[0mplt\u001b[0m\u001b[0;34m.\u001b[0m\u001b[0mtitle\u001b[0m\u001b[0;34m(\u001b[0m\u001b[0;34m\"Негативные отзывы\"\u001b[0m\u001b[0;34m)\u001b[0m\u001b[0;34m\u001b[0m\u001b[0;34m\u001b[0m\u001b[0m\n\u001b[1;32m      4\u001b[0m \u001b[0mplt\u001b[0m\u001b[0;34m.\u001b[0m\u001b[0maxis\u001b[0m\u001b[0;34m(\u001b[0m\u001b[0;34m\"off\"\u001b[0m\u001b[0;34m)\u001b[0m\u001b[0;34m\u001b[0m\u001b[0;34m\u001b[0m\u001b[0m\n\u001b[1;32m      5\u001b[0m \u001b[0mplt\u001b[0m\u001b[0;34m.\u001b[0m\u001b[0mshow\u001b[0m\u001b[0;34m(\u001b[0m\u001b[0;34m)\u001b[0m\u001b[0;34m\u001b[0m\u001b[0;34m\u001b[0m\u001b[0m\n",
      "\u001b[0;31mNameError\u001b[0m: name 'WordCloud' is not defined"
     ]
    }
   ],
   "source": [
    "wordcloud = WordCloud(**wc_params).generate_from_frequencies(df['Negative_Review'].value_counts())\n",
    "plt.imshow(wordcloud)\n",
    "plt.title(\"Негативные отзывы\")\n",
    "plt.axis(\"off\")\n",
    "plt.show()"
   ]
  },
  {
   "cell_type": "code",
   "execution_count": 19,
   "metadata": {
    "scrolled": false
   },
   "outputs": [
    {
     "ename": "NameError",
     "evalue": "name 'WordCloud' is not defined",
     "output_type": "error",
     "traceback": [
      "\u001b[0;31m---------------------------------------------------------------------------\u001b[0m",
      "\u001b[0;31mNameError\u001b[0m                                 Traceback (most recent call last)",
      "\u001b[0;32m<ipython-input-19-99dfcc528cd2>\u001b[0m in \u001b[0;36m<module>\u001b[0;34m()\u001b[0m\n\u001b[0;32m----> 1\u001b[0;31m \u001b[0mwordcloud\u001b[0m \u001b[0;34m=\u001b[0m \u001b[0mWordCloud\u001b[0m\u001b[0;34m(\u001b[0m\u001b[0;34m**\u001b[0m\u001b[0mwc_params\u001b[0m\u001b[0;34m)\u001b[0m\u001b[0;34m.\u001b[0m\u001b[0mgenerate_from_frequencies\u001b[0m\u001b[0;34m(\u001b[0m\u001b[0mdf\u001b[0m\u001b[0;34m[\u001b[0m\u001b[0;34m'Positive_Review'\u001b[0m\u001b[0;34m]\u001b[0m\u001b[0;34m.\u001b[0m\u001b[0mvalue_counts\u001b[0m\u001b[0;34m(\u001b[0m\u001b[0;34m)\u001b[0m\u001b[0;34m)\u001b[0m\u001b[0;34m\u001b[0m\u001b[0;34m\u001b[0m\u001b[0m\n\u001b[0m\u001b[1;32m      2\u001b[0m \u001b[0mplt\u001b[0m\u001b[0;34m.\u001b[0m\u001b[0mimshow\u001b[0m\u001b[0;34m(\u001b[0m\u001b[0mwordcloud\u001b[0m\u001b[0;34m)\u001b[0m\u001b[0;34m\u001b[0m\u001b[0;34m\u001b[0m\u001b[0m\n\u001b[1;32m      3\u001b[0m \u001b[0mplt\u001b[0m\u001b[0;34m.\u001b[0m\u001b[0mtitle\u001b[0m\u001b[0;34m(\u001b[0m\u001b[0;34m\"Положительные отзывы\"\u001b[0m\u001b[0;34m)\u001b[0m\u001b[0;34m\u001b[0m\u001b[0;34m\u001b[0m\u001b[0m\n\u001b[1;32m      4\u001b[0m \u001b[0mplt\u001b[0m\u001b[0;34m.\u001b[0m\u001b[0maxis\u001b[0m\u001b[0;34m(\u001b[0m\u001b[0;34m\"off\"\u001b[0m\u001b[0;34m)\u001b[0m\u001b[0;34m\u001b[0m\u001b[0;34m\u001b[0m\u001b[0m\n\u001b[1;32m      5\u001b[0m \u001b[0mplt\u001b[0m\u001b[0;34m.\u001b[0m\u001b[0mshow\u001b[0m\u001b[0;34m(\u001b[0m\u001b[0;34m)\u001b[0m\u001b[0;34m\u001b[0m\u001b[0;34m\u001b[0m\u001b[0m\n",
      "\u001b[0;31mNameError\u001b[0m: name 'WordCloud' is not defined"
     ]
    }
   ],
   "source": [
    "wordcloud = WordCloud(**wc_params).generate_from_frequencies(df['Positive_Review'].value_counts())\n",
    "plt.imshow(wordcloud)\n",
    "plt.title(\"Положительные отзывы\")\n",
    "plt.axis(\"off\")\n",
    "plt.show()"
   ]
  },
  {
   "cell_type": "markdown",
   "metadata": {},
   "source": [
    "Удивительно, но большинство негативных отзывов - это слова о том что все хорошо) Больше всего люди жалуются на маленьке комнаты и дороговизну. Ценят же само место, персонал, чистоту и завтраки. Посмотрим, найдется ли что-либо интересное в тегах. \n",
    "\n",
    "Сначала вырежем лишние символы из тегов"
   ]
  },
  {
   "cell_type": "code",
   "execution_count": 20,
   "metadata": {},
   "outputs": [],
   "source": [
    "df['clean_tags'] = df['Tags'].apply(lambda x: ', '.join([s[2:-2] for s in x[1:-1].split(', ')]))"
   ]
  },
  {
   "cell_type": "code",
   "execution_count": 21,
   "metadata": {},
   "outputs": [
    {
     "ename": "NameError",
     "evalue": "name 'WordCloud' is not defined",
     "output_type": "error",
     "traceback": [
      "\u001b[0;31m---------------------------------------------------------------------------\u001b[0m",
      "\u001b[0;31mNameError\u001b[0m                                 Traceback (most recent call last)",
      "\u001b[0;32m<ipython-input-21-c388a54f0e1d>\u001b[0m in \u001b[0;36m<module>\u001b[0;34m()\u001b[0m\n\u001b[1;32m      3\u001b[0m     \u001b[0mtags\u001b[0m\u001b[0;34m.\u001b[0m\u001b[0mextend\u001b[0m\u001b[0;34m(\u001b[0m\u001b[0mdf\u001b[0m\u001b[0;34m[\u001b[0m\u001b[0;34m\"clean_tags\"\u001b[0m\u001b[0;34m]\u001b[0m\u001b[0;34m.\u001b[0m\u001b[0mvalues\u001b[0m\u001b[0;34m[\u001b[0m\u001b[0mi\u001b[0m\u001b[0;34m]\u001b[0m\u001b[0;34m.\u001b[0m\u001b[0msplit\u001b[0m\u001b[0;34m(\u001b[0m\u001b[0;34m', '\u001b[0m\u001b[0;34m)\u001b[0m\u001b[0;34m)\u001b[0m\u001b[0;34m\u001b[0m\u001b[0;34m\u001b[0m\u001b[0m\n\u001b[1;32m      4\u001b[0m \u001b[0;34m\u001b[0m\u001b[0m\n\u001b[0;32m----> 5\u001b[0;31m \u001b[0mwordcloud\u001b[0m \u001b[0;34m=\u001b[0m \u001b[0mWordCloud\u001b[0m\u001b[0;34m(\u001b[0m\u001b[0;34m**\u001b[0m\u001b[0mwc_params\u001b[0m\u001b[0;34m)\u001b[0m\u001b[0;34m.\u001b[0m\u001b[0mgenerate_from_frequencies\u001b[0m\u001b[0;34m(\u001b[0m\u001b[0mCounter\u001b[0m\u001b[0;34m(\u001b[0m\u001b[0mtags\u001b[0m\u001b[0;34m)\u001b[0m\u001b[0;34m)\u001b[0m\u001b[0;34m\u001b[0m\u001b[0;34m\u001b[0m\u001b[0m\n\u001b[0m\u001b[1;32m      6\u001b[0m \u001b[0mplt\u001b[0m\u001b[0;34m.\u001b[0m\u001b[0mimshow\u001b[0m\u001b[0;34m(\u001b[0m\u001b[0mwordcloud\u001b[0m\u001b[0;34m)\u001b[0m\u001b[0;34m\u001b[0m\u001b[0;34m\u001b[0m\u001b[0m\n\u001b[1;32m      7\u001b[0m \u001b[0mplt\u001b[0m\u001b[0;34m.\u001b[0m\u001b[0mtitle\u001b[0m\u001b[0;34m(\u001b[0m\u001b[0;34m\"Теги\"\u001b[0m\u001b[0;34m)\u001b[0m\u001b[0;34m\u001b[0m\u001b[0;34m\u001b[0m\u001b[0m\n",
      "\u001b[0;31mNameError\u001b[0m: name 'WordCloud' is not defined"
     ]
    }
   ],
   "source": [
    "tags = []\n",
    "for i in range(df.shape[0]):\n",
    "    tags.extend(df[\"clean_tags\"].values[i].split(', '))\n",
    "\n",
    "wordcloud = WordCloud(**wc_params).generate_from_frequencies(Counter(tags))\n",
    "plt.imshow(wordcloud)\n",
    "plt.title(\"Теги\")\n",
    "plt.axis(\"off\")\n",
    "plt.show()"
   ]
  },
  {
   "cell_type": "markdown",
   "metadata": {},
   "source": [
    "Что же, тут больше информации - можно будет вытащить инофрмацию о количестве дней, количестве человек (один/с семьей/группой) и тип путешествия - деловой/отпуск\n",
    "\n",
    "Посмотрим, что по национальностями. Для этого найдем и построим график для топ 10 самых позитивных и негативных наций (возьмеем только те, что представлены более чем 100 представителями) - увидим, есть ли между различие."
   ]
  },
  {
   "cell_type": "code",
   "execution_count": null,
   "metadata": {},
   "outputs": [],
   "source": [
    "df['Reviewer_Nationality'] = df['Reviewer_Nationality'].str.strip()\n",
    "\n",
    "agg_data = df.groupby(\"Reviewer_Nationality\")['Reviewer_Score'].agg(['mean','count'])\n",
    "top_natons_reviews = agg_data[agg_data['count'] > 100]['mean'].sort_values()\n",
    "top_natons_reviews = pd.concat((top_natons_reviews[:10], top_natons_reviews[-10:]))"
   ]
  },
  {
   "cell_type": "code",
   "execution_count": 22,
   "metadata": {},
   "outputs": [
    {
     "ename": "NameError",
     "evalue": "name 'top_natons_reviews' is not defined",
     "output_type": "error",
     "traceback": [
      "\u001b[0;31m---------------------------------------------------------------------------\u001b[0m",
      "\u001b[0;31mNameError\u001b[0m                                 Traceback (most recent call last)",
      "\u001b[0;32m<ipython-input-22-2472ef6fcc6e>\u001b[0m in \u001b[0;36m<module>\u001b[0;34m()\u001b[0m\n\u001b[0;32m----> 1\u001b[0;31m \u001b[0mg\u001b[0m \u001b[0;34m=\u001b[0m \u001b[0msns\u001b[0m\u001b[0;34m.\u001b[0m\u001b[0mbarplot\u001b[0m\u001b[0;34m(\u001b[0m\u001b[0my\u001b[0m\u001b[0;34m=\u001b[0m\u001b[0mtop_natons_reviews\u001b[0m\u001b[0;34m.\u001b[0m\u001b[0mindex\u001b[0m\u001b[0;34m,\u001b[0m\u001b[0mx\u001b[0m\u001b[0;34m=\u001b[0m\u001b[0mtop_natons_reviews\u001b[0m\u001b[0;34m.\u001b[0m\u001b[0mvalues\u001b[0m\u001b[0;34m)\u001b[0m\u001b[0;34m\u001b[0m\u001b[0;34m\u001b[0m\u001b[0m\n\u001b[0m\u001b[1;32m      2\u001b[0m \u001b[0mg\u001b[0m\u001b[0;34m.\u001b[0m\u001b[0mset_xlim\u001b[0m\u001b[0;34m(\u001b[0m\u001b[0;36m7\u001b[0m\u001b[0;34m,\u001b[0m\u001b[0;36m9\u001b[0m\u001b[0;34m)\u001b[0m\u001b[0;34m\u001b[0m\u001b[0;34m\u001b[0m\u001b[0m\n",
      "\u001b[0;31mNameError\u001b[0m: name 'top_natons_reviews' is not defined"
     ]
    }
   ],
   "source": [
    "g = sns.barplot(y=top_natons_reviews.index,x=top_natons_reviews.values)\n",
    "g.set_xlim(7,9)"
   ]
  },
  {
   "cell_type": "markdown",
   "metadata": {},
   "source": [
    "Как видим, люди разной национальности оценивают отели по раному. Что характерно, ниже всего ставят оценки представители исламских стран, а самые высокие ставят люди из стран Нового света. Посмотрим для интереса отзывы людей из России"
   ]
  },
  {
   "cell_type": "code",
   "execution_count": 22,
   "metadata": {},
   "outputs": [
    {
     "data": {
      "text/plain": [
       "mean        8.273517\n",
       "count    3844.000000\n",
       "Name: Russia, dtype: float64"
      ]
     },
     "execution_count": 22,
     "metadata": {},
     "output_type": "execute_result"
    }
   ],
   "source": [
    "agg_data.loc['Russia']"
   ]
  },
  {
   "cell_type": "markdown",
   "metadata": {},
   "source": [
    "Чуть меньше среднего в 8.4\n",
    "\n",
    "Посмотрим, меняется ли средняя оценка с увеличением количества написанных отзывов? Как отмечось ранее, этот параметр распределен очень неравномерно, поэтому выделим тех кто написал больше 30 отзывов в одну же группу. Так и график будет лучше читаться, и для построения модели мы избавимся от выбросов. В целом же логично выделить тех кто очень много пишет в отдельную группу - неважно, человек написал 50 или 100 отзывов - все равно эти два человека больше похожи друг на друга этим параметром, чем на остальную массу людей"
   ]
  },
  {
   "cell_type": "code",
   "execution_count": 23,
   "metadata": {},
   "outputs": [
    {
     "data": {
      "text/plain": [
       "(7, 9)"
      ]
     },
     "execution_count": 23,
     "metadata": {},
     "output_type": "execute_result"
    },
    {
     "data": {
      "image/png": "[encoded data removed]",
      "text/plain": [
       "<Figure size 1080x720 with 1 Axes>"
      ]
     },
     "metadata": {},
     "output_type": "display_data"
    }
   ],
   "source": [
    "reviews = df[[\"Total_Number_of_Reviews_Reviewer_Has_Given\", 'Reviewer_Score']]\n",
    "reviews['Total_Number_of_Reviews_Reviewer_Has_Given'][reviews[\"Total_Number_of_Reviews_Reviewer_Has_Given\"]  > 30] = 31\n",
    "agg_data = reviews.groupby(\"Total_Number_of_Reviews_Reviewer_Has_Given\")['Reviewer_Score'].mean().sort_index()\n",
    "g = sns.barplot(x=agg_data.index,y=agg_data.values)\n",
    "g.set_ylim(7,9)"
   ]
  },
  {
   "cell_type": "markdown",
   "metadata": {},
   "source": [
    "Никакой зависимости не видно. Посмотрим, что получится из количества слов в положительных и отрицательных отзывах"
   ]
  },
  {
   "cell_type": "code",
   "execution_count": 24,
   "metadata": {},
   "outputs": [
    {
     "data": {
      "text/plain": [
       "(6, 10)"
      ]
     },
     "execution_count": 24,
     "metadata": {},
     "output_type": "execute_result"
    },
    {
     "data": {
      "image/png": "[encoded data removed]",
      "text/plain": [
       "<Figure size 1080x720 with 1 Axes>"
      ]
     },
     "metadata": {},
     "output_type": "display_data"
    }
   ],
   "source": [
    "agg_data = df.groupby(\"Review_Total_Negative_Word_Counts\")['Reviewer_Score'].agg(['mean','count'])\n",
    "top_natons_reviews = agg_data[agg_data['count'] > 1000]['mean'].sort_index()\n",
    "g = sns.barplot(x=top_natons_reviews.index,y=top_natons_reviews.values)\n",
    "g.set_ylim(6,10)"
   ]
  },
  {
   "cell_type": "code",
   "execution_count": 25,
   "metadata": {},
   "outputs": [
    {
     "data": {
      "image/png": "[encoded data removed]",
      "text/plain": [
       "<Figure size 1080x720 with 1 Axes>"
      ]
     },
     "metadata": {},
     "output_type": "display_data"
    }
   ],
   "source": [
    "agg_data = df.groupby(\"Review_Total_Positive_Word_Counts\")['Reviewer_Score'].agg(['mean','count'])\n",
    "top_natons_reviews = agg_data[agg_data['count'] > 1000]['mean'].sort_index()\n",
    "g = sns.barplot(x=top_natons_reviews.index,y=top_natons_reviews.values)"
   ]
  },
  {
   "cell_type": "markdown",
   "metadata": {},
   "source": [
    "А тут уже очень хорошо видно зависимость - чем меньше негативных слов, тем выше оценка - и наоборот. Причем ля негативных отзывов связь особенно сильная."
   ]
  },
  {
   "cell_type": "markdown",
   "metadata": {
    "colab_type": "text",
    "id": "IyfhlBqssdjl"
   },
   "source": [
    "###  Часть 4. Закономерности, \"инсайты\", особенности данных"
   ]
  },
  {
   "cell_type": "markdown",
   "metadata": {
    "colab": {
     "autoexec": {
      "startup": false,
      "wait_interval": 0
     }
    },
    "colab_type": "code",
    "collapsed": true,
    "id": "a3bqi3Iwsdjm"
   },
   "source": [
    "Подытожим найденные закономерности. Во первых, датасет практически без пропусков и больших выбросов. Сильных корреляций признаков между собой нет, что хорошо - это означает независимую природу данных. Единственно исключение - количество отзывов и оценок без отзывов сильно коррелируют между собой, т.к они обе по сути завязаны на популярность. Зависимость оценки от многих переменных сильно скошена в одну из сторон - что в принципе логично, когда человек оставляет отзыв он как правило либо доволен, либо не доволен, и эмоции сильно сдвигают оценку вниз или вверх. Был найден слабый тренд по месяцам, так что будем использовать номер месяца как признак для построения модели. Так же найдена зависимость между национальностью и оценкой, что тоже объяснимо - люди из разных культур по разном смотрят на мир. Именно из культур, а не конкретных стран (хотя от конкретной страны тоже многое зависит)- топ 10 по положительным и отрицательным оценкам можно легко разбить на две логичные группы, например. Самая хорошая зависимость была найдена между количеством слов  - негативных и положительных - и общей оценкой. Причем инересно, насколько сильно отсутсвие негативных слов влияет на оценку - видимо, тот, кто едет отдыхать, по умолчанию готов поставить отелю высший бал - главное ничего не испортить. Корелляция между целевой переменной и положительными отзывами думаю и так понятна. Так же много информации содержится в тегах - если ее извлечь, можно сформировать множество признаков.\n"
   ]
  },
  {
   "cell_type": "markdown",
   "metadata": {},
   "source": [
    "###  Часть 5. Выбор метрики"
   ]
  },
  {
   "cell_type": "markdown",
   "metadata": {},
   "source": [
    "Так как у нас задача регрессии, то основными метриками будет средняя абсолютная ошибка и среднеквадратичная ошибка. Так у нас целевая переменная сильно скошена, то будем использовать MAE. При этом среднюю абсолютную ошибку в какой то степени проще интерпретировать - легче будет сравнить с бейзлайном (безлайном можем считать среднюю оценку отеля)"
   ]
  },
  {
   "cell_type": "markdown",
   "metadata": {},
   "source": [
    "###  Часть 6. Выбор модели "
   ]
  },
  {
   "cell_type": "markdown",
   "metadata": {},
   "source": [
    "В качестве первой модели, попробуем линейную модель - так как у нас много информации содержится в тексктовых полях (негативный\\позитивный отзыв, теги, название отеля) то после преобразования мы получим много разреженных матриц. Решающие деревья\\леса скорее всего плохо зайдут на таких данных. Основные модели для линейной регрессии - Ridge и Lasso. Проверим, какая из них покажет лучший результат."
   ]
  },
  {
   "cell_type": "markdown",
   "metadata": {
    "colab_type": "text",
    "id": "oWFmnz2xsdjp"
   },
   "source": [
    "###  Часть 7. Предобработка данных "
   ]
  },
  {
   "cell_type": "markdown",
   "metadata": {
    "colab": {
     "autoexec": {
      "startup": false,
      "wait_interval": 0
     }
    },
    "colab_type": "code",
    "collapsed": true,
    "id": "HkR5KoNtsdjp"
   },
   "source": [
    "Начнем предобработку данных. Выделим целевую переменную, сформируем holdout выборку. Так как у нас данные упорядоченны во времени, тренировать мы будем на старых данных, а предсказывать на новых. Отложим примерно 20% - так, чтобы в трейне было 400000 наблюдений. Уберем целевую переменную и 'Additional_Number_of_Scoring' из списка числовых столбцов - они не понядобятся нам для построения модели. Random seed был зафиксирован изначально, так что можно его не задавать для каждой отдельной операции"
   ]
  },
  {
   "cell_type": "code",
   "execution_count": 27,
   "metadata": {},
   "outputs": [],
   "source": [
    "def split_to_holdout(df, index=400000):\n",
    "    y = df['Reviewer_Score']\n",
    "    X = df.drop(['Reviewer_Score'], axis=1)\n",
    "    return X.iloc[:index], X.iloc[index:], y.iloc[:index], y.iloc[index:]\n",
    "\n",
    "numeric_cols_linear = list(set(numeric_cols) - set(('Reviewer_Score','Additional_Number_of_Scoring')))\n",
    "X, X_hold, y, y_hold = split_to_holdout(df)"
   ]
  },
  {
   "cell_type": "markdown",
   "metadata": {},
   "source": [
    "Отмасштабируем числовые признаки, применим CountVectorizer к текстовым, закодируем OHE национальность и месяц. Национальность при этом сначала преобразуем при помощи LabelEncoder. "
   ]
  },
  {
   "cell_type": "code",
   "execution_count": 28,
   "metadata": {},
   "outputs": [],
   "source": [
    "sc = StandardScaler()\n",
    "X_scaled = sc.fit_transform(X[numeric_cols_linear])\n",
    "X_hold_scaled = sc.transform(X_hold[numeric_cols_linear])"
   ]
  },
  {
   "cell_type": "code",
   "execution_count": 29,
   "metadata": {},
   "outputs": [
    {
     "ename": "KeyError",
     "evalue": "'clean_tags'",
     "output_type": "error",
     "traceback": [
      "\u001b[0;31m---------------------------------------------------------------------------\u001b[0m",
      "\u001b[0;31mKeyError\u001b[0m                                  Traceback (most recent call last)",
      "\u001b[0;32m/home/ITRANSITION.CORP/d.sey/.local/lib/python3.6/site-packages/pandas/core/indexes/base.py\u001b[0m in \u001b[0;36mget_loc\u001b[0;34m(self, key, method, tolerance)\u001b[0m\n\u001b[1;32m   2896\u001b[0m             \u001b[0;32mtry\u001b[0m\u001b[0;34m:\u001b[0m\u001b[0;34m\u001b[0m\u001b[0;34m\u001b[0m\u001b[0m\n\u001b[0;32m-> 2897\u001b[0;31m                 \u001b[0;32mreturn\u001b[0m \u001b[0mself\u001b[0m\u001b[0;34m.\u001b[0m\u001b[0m_engine\u001b[0m\u001b[0;34m.\u001b[0m\u001b[0mget_loc\u001b[0m\u001b[0;34m(\u001b[0m\u001b[0mkey\u001b[0m\u001b[0;34m)\u001b[0m\u001b[0;34m\u001b[0m\u001b[0;34m\u001b[0m\u001b[0m\n\u001b[0m\u001b[1;32m   2898\u001b[0m             \u001b[0;32mexcept\u001b[0m \u001b[0mKeyError\u001b[0m\u001b[0;34m:\u001b[0m\u001b[0;34m\u001b[0m\u001b[0;34m\u001b[0m\u001b[0m\n",
      "\u001b[0;32mpandas/_libs/index.pyx\u001b[0m in \u001b[0;36mpandas._libs.index.IndexEngine.get_loc\u001b[0;34m()\u001b[0m\n",
      "\u001b[0;32mpandas/_libs/index.pyx\u001b[0m in \u001b[0;36mpandas._libs.index.IndexEngine.get_loc\u001b[0;34m()\u001b[0m\n",
      "\u001b[0;32mpandas/_libs/hashtable_class_helper.pxi\u001b[0m in \u001b[0;36mpandas._libs.hashtable.PyObjectHashTable.get_item\u001b[0;34m()\u001b[0m\n",
      "\u001b[0;32mpandas/_libs/hashtable_class_helper.pxi\u001b[0m in \u001b[0;36mpandas._libs.hashtable.PyObjectHashTable.get_item\u001b[0;34m()\u001b[0m\n",
      "\u001b[0;31mKeyError\u001b[0m: 'clean_tags'",
      "\nDuring handling of the above exception, another exception occurred:\n",
      "\u001b[0;31mKeyError\u001b[0m                                  Traceback (most recent call last)",
      "\u001b[0;32m<ipython-input-29-503405b4169c>\u001b[0m in \u001b[0;36m<module>\u001b[0;34m()\u001b[0m\n\u001b[1;32m      3\u001b[0m \u001b[0;32mfor\u001b[0m \u001b[0mcol\u001b[0m \u001b[0;32min\u001b[0m \u001b[0;34m[\u001b[0m\u001b[0;34m'Hotel_Address'\u001b[0m\u001b[0;34m,\u001b[0m \u001b[0;34m'Hotel_Name'\u001b[0m\u001b[0;34m,\u001b[0m \u001b[0;34m'Negative_Review'\u001b[0m\u001b[0;34m,\u001b[0m \u001b[0;34m'Positive_Review'\u001b[0m\u001b[0;34m,\u001b[0m \u001b[0;34m'clean_tags'\u001b[0m\u001b[0;34m]\u001b[0m\u001b[0;34m:\u001b[0m\u001b[0;34m\u001b[0m\u001b[0;34m\u001b[0m\u001b[0m\n\u001b[1;32m      4\u001b[0m     \u001b[0mcv\u001b[0m \u001b[0;34m=\u001b[0m \u001b[0mCountVectorizer\u001b[0m\u001b[0;34m(\u001b[0m\u001b[0mmax_features\u001b[0m\u001b[0;34m=\u001b[0m\u001b[0;36m50000\u001b[0m\u001b[0;34m,\u001b[0m \u001b[0mngram_range\u001b[0m\u001b[0;34m=\u001b[0m\u001b[0;34m(\u001b[0m\u001b[0;36m1\u001b[0m\u001b[0;34m,\u001b[0m\u001b[0;36m2\u001b[0m\u001b[0;34m)\u001b[0m\u001b[0;34m)\u001b[0m\u001b[0;34m\u001b[0m\u001b[0;34m\u001b[0m\u001b[0m\n\u001b[0;32m----> 5\u001b[0;31m     \u001b[0mX_counts\u001b[0m\u001b[0;34m[\u001b[0m\u001b[0mcol\u001b[0m\u001b[0;34m]\u001b[0m \u001b[0;34m=\u001b[0m \u001b[0mcv\u001b[0m\u001b[0;34m.\u001b[0m\u001b[0mfit_transform\u001b[0m\u001b[0;34m(\u001b[0m\u001b[0mX\u001b[0m\u001b[0;34m[\u001b[0m\u001b[0mcol\u001b[0m\u001b[0;34m]\u001b[0m\u001b[0;34m)\u001b[0m\u001b[0;34m\u001b[0m\u001b[0;34m\u001b[0m\u001b[0m\n\u001b[0m\u001b[1;32m      6\u001b[0m     \u001b[0mX_hold_counts\u001b[0m\u001b[0;34m[\u001b[0m\u001b[0mcol\u001b[0m\u001b[0;34m]\u001b[0m \u001b[0;34m=\u001b[0m \u001b[0mcv\u001b[0m\u001b[0;34m.\u001b[0m\u001b[0mtransform\u001b[0m\u001b[0;34m(\u001b[0m\u001b[0mX_hold\u001b[0m\u001b[0;34m[\u001b[0m\u001b[0mcol\u001b[0m\u001b[0;34m]\u001b[0m\u001b[0;34m)\u001b[0m\u001b[0;34m\u001b[0m\u001b[0;34m\u001b[0m\u001b[0m\n",
      "\u001b[0;32m/home/ITRANSITION.CORP/d.sey/.local/lib/python3.6/site-packages/pandas/core/frame.py\u001b[0m in \u001b[0;36m__getitem__\u001b[0;34m(self, key)\u001b[0m\n\u001b[1;32m   2993\u001b[0m             \u001b[0;32mif\u001b[0m \u001b[0mself\u001b[0m\u001b[0;34m.\u001b[0m\u001b[0mcolumns\u001b[0m\u001b[0;34m.\u001b[0m\u001b[0mnlevels\u001b[0m \u001b[0;34m>\u001b[0m \u001b[0;36m1\u001b[0m\u001b[0;34m:\u001b[0m\u001b[0;34m\u001b[0m\u001b[0;34m\u001b[0m\u001b[0m\n\u001b[1;32m   2994\u001b[0m                 \u001b[0;32mreturn\u001b[0m \u001b[0mself\u001b[0m\u001b[0;34m.\u001b[0m\u001b[0m_getitem_multilevel\u001b[0m\u001b[0;34m(\u001b[0m\u001b[0mkey\u001b[0m\u001b[0;34m)\u001b[0m\u001b[0;34m\u001b[0m\u001b[0;34m\u001b[0m\u001b[0m\n\u001b[0;32m-> 2995\u001b[0;31m             \u001b[0mindexer\u001b[0m \u001b[0;34m=\u001b[0m \u001b[0mself\u001b[0m\u001b[0;34m.\u001b[0m\u001b[0mcolumns\u001b[0m\u001b[0;34m.\u001b[0m\u001b[0mget_loc\u001b[0m\u001b[0;34m(\u001b[0m\u001b[0mkey\u001b[0m\u001b[0;34m)\u001b[0m\u001b[0;34m\u001b[0m\u001b[0;34m\u001b[0m\u001b[0m\n\u001b[0m\u001b[1;32m   2996\u001b[0m             \u001b[0;32mif\u001b[0m \u001b[0mis_integer\u001b[0m\u001b[0;34m(\u001b[0m\u001b[0mindexer\u001b[0m\u001b[0;34m)\u001b[0m\u001b[0;34m:\u001b[0m\u001b[0;34m\u001b[0m\u001b[0;34m\u001b[0m\u001b[0m\n\u001b[1;32m   2997\u001b[0m                 \u001b[0mindexer\u001b[0m \u001b[0;34m=\u001b[0m \u001b[0;34m[\u001b[0m\u001b[0mindexer\u001b[0m\u001b[0;34m]\u001b[0m\u001b[0;34m\u001b[0m\u001b[0;34m\u001b[0m\u001b[0m\n",
      "\u001b[0;32m/home/ITRANSITION.CORP/d.sey/.local/lib/python3.6/site-packages/pandas/core/indexes/base.py\u001b[0m in \u001b[0;36mget_loc\u001b[0;34m(self, key, method, tolerance)\u001b[0m\n\u001b[1;32m   2897\u001b[0m                 \u001b[0;32mreturn\u001b[0m \u001b[0mself\u001b[0m\u001b[0;34m.\u001b[0m\u001b[0m_engine\u001b[0m\u001b[0;34m.\u001b[0m\u001b[0mget_loc\u001b[0m\u001b[0;34m(\u001b[0m\u001b[0mkey\u001b[0m\u001b[0;34m)\u001b[0m\u001b[0;34m\u001b[0m\u001b[0;34m\u001b[0m\u001b[0m\n\u001b[1;32m   2898\u001b[0m             \u001b[0;32mexcept\u001b[0m \u001b[0mKeyError\u001b[0m\u001b[0;34m:\u001b[0m\u001b[0;34m\u001b[0m\u001b[0;34m\u001b[0m\u001b[0m\n\u001b[0;32m-> 2899\u001b[0;31m                 \u001b[0;32mreturn\u001b[0m \u001b[0mself\u001b[0m\u001b[0;34m.\u001b[0m\u001b[0m_engine\u001b[0m\u001b[0;34m.\u001b[0m\u001b[0mget_loc\u001b[0m\u001b[0;34m(\u001b[0m\u001b[0mself\u001b[0m\u001b[0;34m.\u001b[0m\u001b[0m_maybe_cast_indexer\u001b[0m\u001b[0;34m(\u001b[0m\u001b[0mkey\u001b[0m\u001b[0;34m)\u001b[0m\u001b[0;34m)\u001b[0m\u001b[0;34m\u001b[0m\u001b[0;34m\u001b[0m\u001b[0m\n\u001b[0m\u001b[1;32m   2900\u001b[0m         \u001b[0mindexer\u001b[0m \u001b[0;34m=\u001b[0m \u001b[0mself\u001b[0m\u001b[0;34m.\u001b[0m\u001b[0mget_indexer\u001b[0m\u001b[0;34m(\u001b[0m\u001b[0;34m[\u001b[0m\u001b[0mkey\u001b[0m\u001b[0;34m]\u001b[0m\u001b[0;34m,\u001b[0m \u001b[0mmethod\u001b[0m\u001b[0;34m=\u001b[0m\u001b[0mmethod\u001b[0m\u001b[0;34m,\u001b[0m \u001b[0mtolerance\u001b[0m\u001b[0;34m=\u001b[0m\u001b[0mtolerance\u001b[0m\u001b[0;34m)\u001b[0m\u001b[0;34m\u001b[0m\u001b[0;34m\u001b[0m\u001b[0m\n\u001b[1;32m   2901\u001b[0m         \u001b[0;32mif\u001b[0m \u001b[0mindexer\u001b[0m\u001b[0;34m.\u001b[0m\u001b[0mndim\u001b[0m \u001b[0;34m>\u001b[0m \u001b[0;36m1\u001b[0m \u001b[0;32mor\u001b[0m \u001b[0mindexer\u001b[0m\u001b[0;34m.\u001b[0m\u001b[0msize\u001b[0m \u001b[0;34m>\u001b[0m \u001b[0;36m1\u001b[0m\u001b[0;34m:\u001b[0m\u001b[0;34m\u001b[0m\u001b[0;34m\u001b[0m\u001b[0m\n",
      "\u001b[0;32mpandas/_libs/index.pyx\u001b[0m in \u001b[0;36mpandas._libs.index.IndexEngine.get_loc\u001b[0;34m()\u001b[0m\n",
      "\u001b[0;32mpandas/_libs/index.pyx\u001b[0m in \u001b[0;36mpandas._libs.index.IndexEngine.get_loc\u001b[0;34m()\u001b[0m\n",
      "\u001b[0;32mpandas/_libs/hashtable_class_helper.pxi\u001b[0m in \u001b[0;36mpandas._libs.hashtable.PyObjectHashTable.get_item\u001b[0;34m()\u001b[0m\n",
      "\u001b[0;32mpandas/_libs/hashtable_class_helper.pxi\u001b[0m in \u001b[0;36mpandas._libs.hashtable.PyObjectHashTable.get_item\u001b[0;34m()\u001b[0m\n",
      "\u001b[0;31mKeyError\u001b[0m: 'clean_tags'"
     ]
    }
   ],
   "source": [
    "X_counts = {}\n",
    "X_hold_counts = {}\n",
    "for col in ['Hotel_Address', 'Hotel_Name', 'Negative_Review', 'Positive_Review', 'clean_tags']:\n",
    "    cv = CountVectorizer(max_features=50000, ngram_range=(1,2))\n",
    "    X_counts[col] = cv.fit_transform(X[col])\n",
    "    X_hold_counts[col] = cv.transform(X_hold[col])"
   ]
  },
  {
   "cell_type": "code",
   "execution_count": 30,
   "metadata": {},
   "outputs": [],
   "source": [
    "le = LabelEncoder()\n",
    "le.fit(df['Reviewer_Nationality'])\n",
    "X['reviewer'] = le.transform(X['Reviewer_Nationality'])\n",
    "X_hold['reviewer'] = le.transform(X_hold['Reviewer_Nationality'])"
   ]
  },
  {
   "cell_type": "code",
   "execution_count": 31,
   "metadata": {},
   "outputs": [],
   "source": [
    "ohe = OneHotEncoder()\n",
    "X_ohe = ohe.fit_transform(X[['month', 'reviewer']])\n",
    "X_hold_ohe = ohe.transform(X_hold[['month', 'reviewer']])"
   ]
  },
  {
   "cell_type": "markdown",
   "metadata": {},
   "source": [
    "Соберем признаки в один массив"
   ]
  },
  {
   "cell_type": "code",
   "execution_count": 36,
   "metadata": {},
   "outputs": [],
   "source": [
    "X_train = hstack([hstack(list(X_counts.values())), X_ohe, X_scaled])\n",
    "X_test = hstack([hstack(list(X_hold_counts.values())), X_hold_ohe, X_hold_scaled])"
   ]
  },
  {
   "cell_type": "markdown",
   "metadata": {},
   "source": [
    "Посмотрим, что смогут сделать линейные модели без настройки гиперпараметров"
   ]
  },
  {
   "cell_type": "code",
   "execution_count": 33,
   "metadata": {
    "collapsed": true
   },
   "outputs": [],
   "source": [
    "ridge = Ridge(random_state=42)\n",
    "ridge.fit(X_train, y)\n",
    "ridge_pred = ridge.predict(X_test)\n",
    "ridge_error = mean_absolute_error(y_hold, ridge_pred)"
   ]
  },
  {
   "cell_type": "code",
   "execution_count": 34,
   "metadata": {},
   "outputs": [],
   "source": [
    "lasso = Lasso(random_state=42)\n",
    "lasso.fit(X_train, y)\n",
    "lasso_pred = lasso.predict(X_test)\n",
    "lasso_error = mean_absolute_error(y_hold, lasso_pred)"
   ]
  },
  {
   "cell_type": "code",
   "execution_count": 35,
   "metadata": {},
   "outputs": [
    {
     "name": "stdout",
     "output_type": "stream",
     "text": [
      "0.8826733487745574\n",
      "1.3434500158833602\n"
     ]
    }
   ],
   "source": [
    "print(ridge_error)\n",
    "print(lasso_error)"
   ]
  },
  {
   "cell_type": "markdown",
   "metadata": {},
   "source": [
    "Сравним это с бейзлайном - предсказывать в качестве оценки среднюю оценку отеля"
   ]
  },
  {
   "cell_type": "code",
   "execution_count": 38,
   "metadata": {},
   "outputs": [
    {
     "name": "stdout",
     "output_type": "stream",
     "text": [
      "average_error - 1.2185507246376812\n",
      "relative_lasso_error - 0.7243632381713184\n",
      "relative_ridge_error - 1.1024982290194083\n"
     ]
    }
   ],
   "source": [
    "average_error = mean_absolute_error(y_hold, X_hold['Average_Score'])\n",
    "print('average_error - {}'.format(average_error))\n",
    "print('relative_lasso_error - {}'.format(ridge_error/average_error))\n",
    "print('relative_ridge_error - {}'.format(lasso_error/average_error))"
   ]
  },
  {
   "cell_type": "markdown",
   "metadata": {},
   "source": [
    "Между Lasso и Ridge оказалась большая разница - Lasso даже не смогла побить наш простейший бейзлайн. Ridge же вполне смогла улучшить качество предсказания, даже без настройки гиперпараметров. Можно было бы продолжить улучшать эти модели, но на самом деле есть одна проблема. Изначально мы хотели сделать рекомендательный сервис, а в тех данных что у нас есть - лик. Мы уже знаем, что написал пользователь в отзыве (как положительном, так и отрицательном) - но такой информации перед бронированием отеля у нас не будет. Поэтому отбросим признаки, связанные с отзывами - и попробуем новую модель. Без эти признаков у нас уже будет не такие разреженные данные, общее количество признаков будет небольшим, данные разнородные (как категориональные, так и количественные). Можно догадаться, что я собираюсь применять в такой ситуации - градиентный бустинг над решающими деревьями. Лично я решил попробовать в этой задаче lightGBM. Для lightGBM-модели мы поменяем предобработку признаков, а так же выделим новые признаки - иначе без отзывов мы не получим хороший результат, так как останется слишком мало параметров."
   ]
  },
  {
   "cell_type": "markdown",
   "metadata": {
    "colab_type": "text",
    "id": "A1-BC4Hysdjs"
   },
   "source": [
    "###  Часть 8. Создание новых признаков и описание этого процесса"
   ]
  },
  {
   "cell_type": "markdown",
   "metadata": {},
   "source": [
    "Начнем с выделения данных из тегов. Выделим тип поездки (по делу или на отдых), каким составом поедет пользователь (один, с семьей и т.д) а так же на сколько дней планирует оставаться. Если в теге нет нужной информации, то мы ставим -1: отрицательные значения в категориональных признаках свидельствуют о пропуске в даннных (в реализации lightGBM)"
   ]
  },
  {
   "cell_type": "code",
   "execution_count": 39,
   "metadata": {},
   "outputs": [],
   "source": [
    "def find_type(x):\n",
    "    if 'leisure' in x['clean_tags'].lower():\n",
    "        return 1\n",
    "    if 'business' in x['clean_tags'].lower():\n",
    "        return 0\n",
    "    return -1\n",
    "\n",
    "df[\"type\"] = df.apply(func=find_type, axis=1)"
   ]
  },
  {
   "cell_type": "code",
   "execution_count": 40,
   "metadata": {
    "collapsed": true
   },
   "outputs": [],
   "source": [
    "def find_group(x):\n",
    "    if 'solo' in x['clean_tags'].lower():\n",
    "        return 1\n",
    "    if 'couple' in x['clean_tags'].lower():\n",
    "        return 2\n",
    "    if 'family' in x['clean_tags'].lower():\n",
    "        return 3\n",
    "    if 'group' in x['clean_tags'].lower():\n",
    "        return 0\n",
    "    return -1\n",
    "\n",
    "df[\"group\"] = df.apply(func=find_group, axis=1)"
   ]
  },
  {
   "cell_type": "code",
   "execution_count": 41,
   "metadata": {
    "collapsed": true
   },
   "outputs": [],
   "source": [
    "def find_days(x):\n",
    "    if 'stayed' in x['clean_tags'].lower():\n",
    "        tags =  x['clean_tags'].lower().split(', ')\n",
    "        for tag in tags:\n",
    "            if 'stayed' in tag:\n",
    "                try:\n",
    "                    res = int(re.sub(\"\\D\", \"\", tag))\n",
    "                except ValueError:\n",
    "                    res = -1\n",
    "                return res\n",
    "    return -1\n",
    "\n",
    "df[\"days\"] = df.apply(func=find_days, axis=1)"
   ]
  },
  {
   "cell_type": "markdown",
   "metadata": {},
   "source": [
    "Так же выделим страну, в которой находится отель из адреса."
   ]
  },
  {
   "cell_type": "code",
   "execution_count": 42,
   "metadata": {
    "collapsed": true
   },
   "outputs": [],
   "source": [
    "df['hotel_country'] = df[\"Hotel_Address\"].apply(lambda x: x.split()[-1])"
   ]
  },
  {
   "cell_type": "markdown",
   "metadata": {
    "colab_type": "text",
    "id": "7Ybs3ctcsdjw"
   },
   "source": [
    "###  Часть 9. Кросс-валидация, подбор параметров"
   ]
  },
  {
   "cell_type": "markdown",
   "metadata": {},
   "source": [
    "Сфоррмируем выборки еще раз."
   ]
  },
  {
   "cell_type": "code",
   "execution_count": 43,
   "metadata": {
    "collapsed": true
   },
   "outputs": [],
   "source": [
    "X, X_hold, y, y_hold = split_to_holdout(df)"
   ]
  },
  {
   "cell_type": "markdown",
   "metadata": {},
   "source": [
    "Так как мы будем проводить кросс-валидацию и поиск гиперпараметров - неплохо было бы объединить эти действия в одно. Для этого будем использовать GridSearchCV. Масштабировать признаки не будем - в целом, деревьям решений нет дела до масштаба. One-hot encoding тоже не нужен, будем делать только преобразование категориональных признаков из текста в числа - lightGBM работает лучше без OHE. Разбивать выбоку для кросс-валидации будем как и раньше, при помощи TimeSeriesSplit."
   ]
  },
  {
   "cell_type": "code",
   "execution_count": 44,
   "metadata": {},
   "outputs": [],
   "source": [
    "le = LabelEncoder()\n",
    "le.fit(df['Reviewer_Nationality'])\n",
    "X['nation'] = le.transform(X['Reviewer_Nationality'])\n",
    "X_hold['nation'] = le.transform(X_hold['Reviewer_Nationality'])\n",
    "X['country'] = le.fit_transform(X['hotel_country'])\n",
    "X_hold['country'] = le.transform(X_hold['hotel_country'])\n",
    "categorical_cols = ['nation','month','country', 'days', 'type', 'group']"
   ]
  },
  {
   "cell_type": "code",
   "execution_count": 45,
   "metadata": {},
   "outputs": [],
   "source": [
    "numeric_cols_tree = list(set(numeric_cols_linear) - set(('Review_Total_Positive_Word_Counts','Review_Total_Negative_Word_Counts')))"
   ]
  },
  {
   "cell_type": "code",
   "execution_count": 46,
   "metadata": {},
   "outputs": [],
   "source": [
    "X_train = X[categorical_cols + numeric_cols_tree]"
   ]
  },
  {
   "cell_type": "code",
   "execution_count": 47,
   "metadata": {
    "collapsed": true
   },
   "outputs": [],
   "source": [
    "X_test = X_hold[categorical_cols + numeric_cols_tree]"
   ]
  },
  {
   "cell_type": "code",
   "execution_count": 48,
   "metadata": {},
   "outputs": [],
   "source": [
    "tss = TimeSeriesSplit(n_splits=5)"
   ]
  },
  {
   "cell_type": "markdown",
   "metadata": {},
   "source": [
    "Тюнить мы будем стандартные гиперпараметры. learning_rate - это скорость обучения, по дефолту равна 0.1 - возьмем чуть меньше и чуть больше, num_iterations - так называется n_estimators в LGBM, это количество построенных деревьев. Дефолтное значение - 100, мы возьмем чуть меньше и намного больше - учитывая количество данных, большое число вполне может быть оправданным. Ну и num_leaves - это аналог параметра max_depth (такой, что num_leaves = 2^(max_depth)). В LGBM используется другой алгоритм построения дерева - leaf-wise вместо max_depth (по сравнению с другими библиотеками, тем же XGBoost). По умолчанию значение 31, мы попробуем еще 15 и 63."
   ]
  },
  {
   "cell_type": "code",
   "execution_count": 49,
   "metadata": {},
   "outputs": [],
   "source": [
    "grid = {\n",
    "        'learning_rate': [.05,.1,.2],\n",
    "    'num_iterations': [40, 100, 500, 1000],\n",
    "    'num_leaves': [15,31,63]\n",
    "    }\n",
    "clf = lgb.LGBMRegressor(application='neg_mean_absolute_error', categorical_feature=list(range(len(categorical_cols))))\n",
    "gs = GridSearchCV(clf, grid, cv=tss, verbose=2, scoring='neg_mean_absolute_error')"
   ]
  },
  {
   "cell_type": "code",
   "execution_count": 50,
   "metadata": {},
   "outputs": [
    {
     "name": "stdout",
     "output_type": "stream",
     "text": [
      "Fitting 5 folds for each of 36 candidates, totalling 180 fits\n",
      "[CV] num_leaves=15, learning_rate=0.05, num_iterations=40 ............\n",
      "[CV]  num_leaves=15, learning_rate=0.05, num_iterations=40, total=   0.5s\n",
      "[CV] num_leaves=15, learning_rate=0.05, num_iterations=40 ............\n"
     ]
    },
    {
     "name": "stderr",
     "output_type": "stream",
     "text": [
      "[Parallel(n_jobs=1)]: Done   1 out of   1 | elapsed:    0.6s remaining:    0.0s\n"
     ]
    },
    {
     "name": "stdout",
     "output_type": "stream",
     "text": [
      "[CV]  num_leaves=15, learning_rate=0.05, num_iterations=40, total=   0.6s\n",
      "[CV] num_leaves=15, learning_rate=0.05, num_iterations=40 ............\n",
      "[CV]  num_leaves=15, learning_rate=0.05, num_iterations=40, total=   0.8s\n",
      "[CV] num_leaves=15, learning_rate=0.05, num_iterations=40 ............\n",
      "[CV]  num_leaves=15, learning_rate=0.05, num_iterations=40, total=   0.9s\n",
      "[CV] num_leaves=15, learning_rate=0.05, num_iterations=40 ............\n",
      "[CV]  num_leaves=15, learning_rate=0.05, num_iterations=40, total=   1.2s\n",
      "[CV] num_leaves=31, learning_rate=0.05, num_iterations=40 ............\n",
      "[CV]  num_leaves=31, learning_rate=0.05, num_iterations=40, total=   0.5s\n",
      "[CV] num_leaves=31, learning_rate=0.05, num_iterations=40 ............\n",
      "[CV]  num_leaves=31, learning_rate=0.05, num_iterations=40, total=   0.6s\n",
      "[CV] num_leaves=31, learning_rate=0.05, num_iterations=40 ............\n",
      "[CV]  num_leaves=31, learning_rate=0.05, num_iterations=40, total=   0.9s\n",
      "[CV] num_leaves=31, learning_rate=0.05, num_iterations=40 ............\n",
      "[CV]  num_leaves=31, learning_rate=0.05, num_iterations=40, total=   1.2s\n",
      "[CV] num_leaves=31, learning_rate=0.05, num_iterations=40 ............\n",
      "[CV]  num_leaves=31, learning_rate=0.05, num_iterations=40, total=   1.8s\n",
      "[CV] num_leaves=63, learning_rate=0.05, num_iterations=40 ............\n",
      "[CV]  num_leaves=63, learning_rate=0.05, num_iterations=40, total=   0.5s\n",
      "[CV] num_leaves=63, learning_rate=0.05, num_iterations=40 ............\n",
      "[CV]  num_leaves=63, learning_rate=0.05, num_iterations=40, total=   0.8s\n",
      "[CV] num_leaves=63, learning_rate=0.05, num_iterations=40 ............\n",
      "[CV]  num_leaves=63, learning_rate=0.05, num_iterations=40, total=   1.1s\n",
      "[CV] num_leaves=63, learning_rate=0.05, num_iterations=40 ............\n",
      "[CV]  num_leaves=63, learning_rate=0.05, num_iterations=40, total=   1.3s\n",
      "[CV] num_leaves=63, learning_rate=0.05, num_iterations=40 ............\n",
      "[CV]  num_leaves=63, learning_rate=0.05, num_iterations=40, total=   1.8s\n",
      "[CV] num_leaves=15, learning_rate=0.05, num_iterations=100 ...........\n",
      "[CV]  num_leaves=15, learning_rate=0.05, num_iterations=100, total=   0.7s\n",
      "[CV] num_leaves=15, learning_rate=0.05, num_iterations=100 ...........\n",
      "[CV]  num_leaves=15, learning_rate=0.05, num_iterations=100, total=   1.5s\n",
      "[CV] num_leaves=15, learning_rate=0.05, num_iterations=100 ...........\n",
      "[CV]  num_leaves=15, learning_rate=0.05, num_iterations=100, total=   1.7s\n",
      "[CV] num_leaves=15, learning_rate=0.05, num_iterations=100 ...........\n",
      "[CV]  num_leaves=15, learning_rate=0.05, num_iterations=100, total=   2.1s\n",
      "[CV] num_leaves=15, learning_rate=0.05, num_iterations=100 ...........\n",
      "[CV]  num_leaves=15, learning_rate=0.05, num_iterations=100, total=   2.8s\n",
      "[CV] num_leaves=31, learning_rate=0.05, num_iterations=100 ...........\n",
      "[CV]  num_leaves=31, learning_rate=0.05, num_iterations=100, total=   1.1s\n",
      "[CV] num_leaves=31, learning_rate=0.05, num_iterations=100 ...........\n",
      "[CV]  num_leaves=31, learning_rate=0.05, num_iterations=100, total=   1.3s\n",
      "[CV] num_leaves=31, learning_rate=0.05, num_iterations=100 ...........\n",
      "[CV]  num_leaves=31, learning_rate=0.05, num_iterations=100, total=   2.1s\n",
      "[CV] num_leaves=31, learning_rate=0.05, num_iterations=100 ...........\n",
      "[CV]  num_leaves=31, learning_rate=0.05, num_iterations=100, total=   2.6s\n",
      "[CV] num_leaves=31, learning_rate=0.05, num_iterations=100 ...........\n",
      "[CV]  num_leaves=31, learning_rate=0.05, num_iterations=100, total=   3.7s\n",
      "[CV] num_leaves=63, learning_rate=0.05, num_iterations=100 ...........\n",
      "[CV]  num_leaves=63, learning_rate=0.05, num_iterations=100, total=   1.2s\n",
      "[CV] num_leaves=63, learning_rate=0.05, num_iterations=100 ...........\n",
      "[CV]  num_leaves=63, learning_rate=0.05, num_iterations=100, total=   1.8s\n",
      "[CV] num_leaves=63, learning_rate=0.05, num_iterations=100 ...........\n",
      "[CV]  num_leaves=63, learning_rate=0.05, num_iterations=100, total=   2.4s\n",
      "[CV] num_leaves=63, learning_rate=0.05, num_iterations=100 ...........\n",
      "[CV]  num_leaves=63, learning_rate=0.05, num_iterations=100, total=   3.1s\n",
      "[CV] num_leaves=63, learning_rate=0.05, num_iterations=100 ...........\n",
      "[CV]  num_leaves=63, learning_rate=0.05, num_iterations=100, total=   4.0s\n",
      "[CV] num_leaves=15, learning_rate=0.05, num_iterations=500 ...........\n",
      "[CV]  num_leaves=15, learning_rate=0.05, num_iterations=500, total=   2.4s\n",
      "[CV] num_leaves=15, learning_rate=0.05, num_iterations=500 ...........\n",
      "[CV]  num_leaves=15, learning_rate=0.05, num_iterations=500, total=   4.0s\n",
      "[CV] num_leaves=15, learning_rate=0.05, num_iterations=500 ...........\n",
      "[CV]  num_leaves=15, learning_rate=0.05, num_iterations=500, total=   5.8s\n",
      "[CV] num_leaves=15, learning_rate=0.05, num_iterations=500 ...........\n",
      "[CV]  num_leaves=15, learning_rate=0.05, num_iterations=500, total=   7.4s\n",
      "[CV] num_leaves=15, learning_rate=0.05, num_iterations=500 ...........\n",
      "[CV]  num_leaves=15, learning_rate=0.05, num_iterations=500, total=   8.0s\n",
      "[CV] num_leaves=31, learning_rate=0.05, num_iterations=500 ...........\n",
      "[CV]  num_leaves=31, learning_rate=0.05, num_iterations=500, total=   3.8s\n",
      "[CV] num_leaves=31, learning_rate=0.05, num_iterations=500 ...........\n",
      "[CV]  num_leaves=31, learning_rate=0.05, num_iterations=500, total=   4.1s\n",
      "[CV] num_leaves=31, learning_rate=0.05, num_iterations=500 ...........\n",
      "[CV]  num_leaves=31, learning_rate=0.05, num_iterations=500, total=   5.4s\n",
      "[CV] num_leaves=31, learning_rate=0.05, num_iterations=500 ...........\n",
      "[CV]  num_leaves=31, learning_rate=0.05, num_iterations=500, total=   7.6s\n",
      "[CV] num_leaves=31, learning_rate=0.05, num_iterations=500 ...........\n",
      "[CV]  num_leaves=31, learning_rate=0.05, num_iterations=500, total=   9.4s\n",
      "[CV] num_leaves=63, learning_rate=0.05, num_iterations=500 ...........\n",
      "[CV]  num_leaves=63, learning_rate=0.05, num_iterations=500, total=   4.3s\n",
      "[CV] num_leaves=63, learning_rate=0.05, num_iterations=500 ...........\n",
      "[CV]  num_leaves=63, learning_rate=0.05, num_iterations=500, total=   5.4s\n",
      "[CV] num_leaves=63, learning_rate=0.05, num_iterations=500 ...........\n",
      "[CV]  num_leaves=63, learning_rate=0.05, num_iterations=500, total=   7.0s\n",
      "[CV] num_leaves=63, learning_rate=0.05, num_iterations=500 ...........\n",
      "[CV]  num_leaves=63, learning_rate=0.05, num_iterations=500, total=  11.4s\n",
      "[CV] num_leaves=63, learning_rate=0.05, num_iterations=500 ...........\n",
      "[CV]  num_leaves=63, learning_rate=0.05, num_iterations=500, total=  23.7s\n",
      "[CV] num_leaves=15, learning_rate=0.05, num_iterations=1000 ..........\n",
      "[CV]  num_leaves=15, learning_rate=0.05, num_iterations=1000, total=   9.3s\n",
      "[CV] num_leaves=15, learning_rate=0.05, num_iterations=1000 ..........\n",
      "[CV]  num_leaves=15, learning_rate=0.05, num_iterations=1000, total=  23.0s\n",
      "[CV] num_leaves=15, learning_rate=0.05, num_iterations=1000 ..........\n",
      "[CV]  num_leaves=15, learning_rate=0.05, num_iterations=1000, total=  39.4s\n",
      "[CV] num_leaves=15, learning_rate=0.05, num_iterations=1000 ..........\n",
      "[CV]  num_leaves=15, learning_rate=0.05, num_iterations=1000, total=  20.5s\n",
      "[CV] num_leaves=15, learning_rate=0.05, num_iterations=1000 ..........\n",
      "[CV]  num_leaves=15, learning_rate=0.05, num_iterations=1000, total=  29.3s\n",
      "[CV] num_leaves=31, learning_rate=0.05, num_iterations=1000 ..........\n",
      "[CV]  num_leaves=31, learning_rate=0.05, num_iterations=1000, total=  13.6s\n",
      "[CV] num_leaves=31, learning_rate=0.05, num_iterations=1000 ..........\n",
      "[CV]  num_leaves=31, learning_rate=0.05, num_iterations=1000, total=  18.6s\n",
      "[CV] num_leaves=31, learning_rate=0.05, num_iterations=1000 ..........\n",
      "[CV]  num_leaves=31, learning_rate=0.05, num_iterations=1000, total=  21.7s\n",
      "[CV] num_leaves=31, learning_rate=0.05, num_iterations=1000 ..........\n",
      "[CV]  num_leaves=31, learning_rate=0.05, num_iterations=1000, total=  37.0s\n",
      "[CV] num_leaves=31, learning_rate=0.05, num_iterations=1000 ..........\n",
      "[CV]  num_leaves=31, learning_rate=0.05, num_iterations=1000, total=  17.2s\n",
      "[CV] num_leaves=63, learning_rate=0.05, num_iterations=1000 ..........\n",
      "[CV]  num_leaves=63, learning_rate=0.05, num_iterations=1000, total=   8.7s\n",
      "[CV] num_leaves=63, learning_rate=0.05, num_iterations=1000 ..........\n",
      "[CV]  num_leaves=63, learning_rate=0.05, num_iterations=1000, total=  10.2s\n",
      "[CV] num_leaves=63, learning_rate=0.05, num_iterations=1000 ..........\n",
      "[CV]  num_leaves=63, learning_rate=0.05, num_iterations=1000, total=  14.3s\n",
      "[CV] num_leaves=63, learning_rate=0.05, num_iterations=1000 ..........\n",
      "[CV]  num_leaves=63, learning_rate=0.05, num_iterations=1000, total=  17.3s\n",
      "[CV] num_leaves=63, learning_rate=0.05, num_iterations=1000 ..........\n",
      "[CV]  num_leaves=63, learning_rate=0.05, num_iterations=1000, total=  20.0s\n",
      "[CV] num_leaves=15, learning_rate=0.1, num_iterations=40 .............\n",
      "[CV]  num_leaves=15, learning_rate=0.1, num_iterations=40, total=   0.5s\n",
      "[CV] num_leaves=15, learning_rate=0.1, num_iterations=40 .............\n",
      "[CV]  num_leaves=15, learning_rate=0.1, num_iterations=40, total=   0.6s\n",
      "[CV] num_leaves=15, learning_rate=0.1, num_iterations=40 .............\n",
      "[CV]  num_leaves=15, learning_rate=0.1, num_iterations=40, total=   0.9s\n",
      "[CV] num_leaves=15, learning_rate=0.1, num_iterations=40 .............\n",
      "[CV]  num_leaves=15, learning_rate=0.1, num_iterations=40, total=   1.2s\n",
      "[CV] num_leaves=15, learning_rate=0.1, num_iterations=40 .............\n",
      "[CV]  num_leaves=15, learning_rate=0.1, num_iterations=40, total=   1.4s\n",
      "[CV] num_leaves=31, learning_rate=0.1, num_iterations=40 .............\n",
      "[CV]  num_leaves=31, learning_rate=0.1, num_iterations=40, total=   0.5s\n",
      "[CV] num_leaves=31, learning_rate=0.1, num_iterations=40 .............\n",
      "[CV]  num_leaves=31, learning_rate=0.1, num_iterations=40, total=   0.8s\n",
      "[CV] num_leaves=31, learning_rate=0.1, num_iterations=40 .............\n",
      "[CV]  num_leaves=31, learning_rate=0.1, num_iterations=40, total=   1.0s\n",
      "[CV] num_leaves=31, learning_rate=0.1, num_iterations=40 .............\n",
      "[CV]  num_leaves=31, learning_rate=0.1, num_iterations=40, total=   1.3s\n",
      "[CV] num_leaves=31, learning_rate=0.1, num_iterations=40 .............\n",
      "[CV]  num_leaves=31, learning_rate=0.1, num_iterations=40, total=   1.5s\n",
      "[CV] num_leaves=63, learning_rate=0.1, num_iterations=40 .............\n",
      "[CV]  num_leaves=63, learning_rate=0.1, num_iterations=40, total=   0.5s\n",
      "[CV] num_leaves=63, learning_rate=0.1, num_iterations=40 .............\n",
      "[CV]  num_leaves=63, learning_rate=0.1, num_iterations=40, total=   0.9s\n",
      "[CV] num_leaves=63, learning_rate=0.1, num_iterations=40 .............\n",
      "[CV]  num_leaves=63, learning_rate=0.1, num_iterations=40, total=   1.0s\n",
      "[CV] num_leaves=63, learning_rate=0.1, num_iterations=40 .............\n",
      "[CV]  num_leaves=63, learning_rate=0.1, num_iterations=40, total=   1.4s\n",
      "[CV] num_leaves=63, learning_rate=0.1, num_iterations=40 .............\n",
      "[CV]  num_leaves=63, learning_rate=0.1, num_iterations=40, total=   1.7s\n",
      "[CV] num_leaves=15, learning_rate=0.1, num_iterations=100 ............\n",
      "[CV]  num_leaves=15, learning_rate=0.1, num_iterations=100, total=   0.7s\n",
      "[CV] num_leaves=15, learning_rate=0.1, num_iterations=100 ............\n",
      "[CV]  num_leaves=15, learning_rate=0.1, num_iterations=100, total=   1.1s\n",
      "[CV] num_leaves=15, learning_rate=0.1, num_iterations=100 ............\n",
      "[CV]  num_leaves=15, learning_rate=0.1, num_iterations=100, total=   1.6s\n",
      "[CV] num_leaves=15, learning_rate=0.1, num_iterations=100 ............\n",
      "[CV]  num_leaves=15, learning_rate=0.1, num_iterations=100, total=   2.1s\n",
      "[CV] num_leaves=15, learning_rate=0.1, num_iterations=100 ............\n",
      "[CV]  num_leaves=15, learning_rate=0.1, num_iterations=100, total=   2.4s\n",
      "[CV] num_leaves=31, learning_rate=0.1, num_iterations=100 ............\n",
      "[CV]  num_leaves=31, learning_rate=0.1, num_iterations=100, total=   1.0s\n",
      "[CV] num_leaves=31, learning_rate=0.1, num_iterations=100 ............\n",
      "[CV]  num_leaves=31, learning_rate=0.1, num_iterations=100, total=   1.4s\n",
      "[CV] num_leaves=31, learning_rate=0.1, num_iterations=100 ............\n",
      "[CV]  num_leaves=31, learning_rate=0.1, num_iterations=100, total=   1.7s\n",
      "[CV] num_leaves=31, learning_rate=0.1, num_iterations=100 ............\n",
      "[CV]  num_leaves=31, learning_rate=0.1, num_iterations=100, total=   2.2s\n",
      "[CV] num_leaves=31, learning_rate=0.1, num_iterations=100 ............\n",
      "[CV]  num_leaves=31, learning_rate=0.1, num_iterations=100, total=   2.7s\n",
      "[CV] num_leaves=63, learning_rate=0.1, num_iterations=100 ............\n",
      "[CV]  num_leaves=63, learning_rate=0.1, num_iterations=100, total=   1.1s\n",
      "[CV] num_leaves=63, learning_rate=0.1, num_iterations=100 ............\n",
      "[CV]  num_leaves=63, learning_rate=0.1, num_iterations=100, total=   1.7s\n",
      "[CV] num_leaves=63, learning_rate=0.1, num_iterations=100 ............\n",
      "[CV]  num_leaves=63, learning_rate=0.1, num_iterations=100, total=   2.0s\n",
      "[CV] num_leaves=63, learning_rate=0.1, num_iterations=100 ............\n",
      "[CV]  num_leaves=63, learning_rate=0.1, num_iterations=100, total=   2.8s\n",
      "[CV] num_leaves=63, learning_rate=0.1, num_iterations=100 ............\n",
      "[CV]  num_leaves=63, learning_rate=0.1, num_iterations=100, total=   3.8s\n",
      "[CV] num_leaves=15, learning_rate=0.1, num_iterations=500 ............\n",
      "[CV]  num_leaves=15, learning_rate=0.1, num_iterations=500, total=   2.6s\n",
      "[CV] num_leaves=15, learning_rate=0.1, num_iterations=500 ............\n",
      "[CV]  num_leaves=15, learning_rate=0.1, num_iterations=500, total=   3.6s\n",
      "[CV] num_leaves=15, learning_rate=0.1, num_iterations=500 ............\n",
      "[CV]  num_leaves=15, learning_rate=0.1, num_iterations=500, total=   5.1s\n",
      "[CV] num_leaves=15, learning_rate=0.1, num_iterations=500 ............\n",
      "[CV]  num_leaves=15, learning_rate=0.1, num_iterations=500, total=   6.2s\n",
      "[CV] num_leaves=15, learning_rate=0.1, num_iterations=500 ............\n",
      "[CV]  num_leaves=15, learning_rate=0.1, num_iterations=500, total=   8.4s\n",
      "[CV] num_leaves=31, learning_rate=0.1, num_iterations=500 ............\n",
      "[CV]  num_leaves=31, learning_rate=0.1, num_iterations=500, total=   2.9s\n",
      "[CV] num_leaves=31, learning_rate=0.1, num_iterations=500 ............\n",
      "[CV]  num_leaves=31, learning_rate=0.1, num_iterations=500, total=   4.2s\n",
      "[CV] num_leaves=31, learning_rate=0.1, num_iterations=500 ............\n",
      "[CV]  num_leaves=31, learning_rate=0.1, num_iterations=500, total=   5.3s\n",
      "[CV] num_leaves=31, learning_rate=0.1, num_iterations=500 ............\n",
      "[CV]  num_leaves=31, learning_rate=0.1, num_iterations=500, total=  17.5s\n",
      "[CV] num_leaves=31, learning_rate=0.1, num_iterations=500 ............\n",
      "[CV]  num_leaves=31, learning_rate=0.1, num_iterations=500, total=  25.9s\n",
      "[CV] num_leaves=63, learning_rate=0.1, num_iterations=500 ............\n",
      "[CV]  num_leaves=63, learning_rate=0.1, num_iterations=500, total=   6.8s\n",
      "[CV] num_leaves=63, learning_rate=0.1, num_iterations=500 ............\n",
      "[CV]  num_leaves=63, learning_rate=0.1, num_iterations=500, total=   6.2s\n",
      "[CV] num_leaves=63, learning_rate=0.1, num_iterations=500 ............\n",
      "[CV]  num_leaves=63, learning_rate=0.1, num_iterations=500, total=  11.8s\n",
      "[CV] num_leaves=63, learning_rate=0.1, num_iterations=500 ............\n",
      "[CV]  num_leaves=63, learning_rate=0.1, num_iterations=500, total=   9.5s\n",
      "[CV] num_leaves=63, learning_rate=0.1, num_iterations=500 ............\n",
      "[CV]  num_leaves=63, learning_rate=0.1, num_iterations=500, total=  20.9s\n",
      "[CV] num_leaves=15, learning_rate=0.1, num_iterations=1000 ...........\n",
      "[CV]  num_leaves=15, learning_rate=0.1, num_iterations=1000, total=   6.8s\n",
      "[CV] num_leaves=15, learning_rate=0.1, num_iterations=1000 ...........\n",
      "[CV]  num_leaves=15, learning_rate=0.1, num_iterations=1000, total=   8.1s\n",
      "[CV] num_leaves=15, learning_rate=0.1, num_iterations=1000 ...........\n",
      "[CV]  num_leaves=15, learning_rate=0.1, num_iterations=1000, total=  10.7s\n",
      "[CV] num_leaves=15, learning_rate=0.1, num_iterations=1000 ...........\n",
      "[CV]  num_leaves=15, learning_rate=0.1, num_iterations=1000, total=  15.3s\n",
      "[CV] num_leaves=15, learning_rate=0.1, num_iterations=1000 ...........\n",
      "[CV]  num_leaves=15, learning_rate=0.1, num_iterations=1000, total=  15.7s\n",
      "[CV] num_leaves=31, learning_rate=0.1, num_iterations=1000 ...........\n",
      "[CV]  num_leaves=31, learning_rate=0.1, num_iterations=1000, total=   6.4s\n",
      "[CV] num_leaves=31, learning_rate=0.1, num_iterations=1000 ...........\n",
      "[CV]  num_leaves=31, learning_rate=0.1, num_iterations=1000, total=   8.8s\n",
      "[CV] num_leaves=31, learning_rate=0.1, num_iterations=1000 ...........\n",
      "[CV]  num_leaves=31, learning_rate=0.1, num_iterations=1000, total=  19.3s\n",
      "[CV] num_leaves=31, learning_rate=0.1, num_iterations=1000 ...........\n",
      "[CV]  num_leaves=31, learning_rate=0.1, num_iterations=1000, total=  24.1s\n",
      "[CV] num_leaves=31, learning_rate=0.1, num_iterations=1000 ...........\n",
      "[CV]  num_leaves=31, learning_rate=0.1, num_iterations=1000, total=  19.3s\n",
      "[CV] num_leaves=63, learning_rate=0.1, num_iterations=1000 ...........\n",
      "[CV]  num_leaves=63, learning_rate=0.1, num_iterations=1000, total=   6.9s\n",
      "[CV] num_leaves=63, learning_rate=0.1, num_iterations=1000 ...........\n",
      "[CV]  num_leaves=63, learning_rate=0.1, num_iterations=1000, total=   9.4s\n",
      "[CV] num_leaves=63, learning_rate=0.1, num_iterations=1000 ...........\n",
      "[CV]  num_leaves=63, learning_rate=0.1, num_iterations=1000, total=  13.6s\n",
      "[CV] num_leaves=63, learning_rate=0.1, num_iterations=1000 ...........\n",
      "[CV]  num_leaves=63, learning_rate=0.1, num_iterations=1000, total=  19.7s\n",
      "[CV] num_leaves=63, learning_rate=0.1, num_iterations=1000 ...........\n",
      "[CV]  num_leaves=63, learning_rate=0.1, num_iterations=1000, total=  18.0s\n",
      "[CV] num_leaves=15, learning_rate=0.2, num_iterations=40 .............\n",
      "[CV]  num_leaves=15, learning_rate=0.2, num_iterations=40, total=   0.3s\n",
      "[CV] num_leaves=15, learning_rate=0.2, num_iterations=40 .............\n",
      "[CV]  num_leaves=15, learning_rate=0.2, num_iterations=40, total=   0.6s\n",
      "[CV] num_leaves=15, learning_rate=0.2, num_iterations=40 .............\n",
      "[CV]  num_leaves=15, learning_rate=0.2, num_iterations=40, total=   0.9s\n",
      "[CV] num_leaves=15, learning_rate=0.2, num_iterations=40 .............\n",
      "[CV]  num_leaves=15, learning_rate=0.2, num_iterations=40, total=   1.0s\n",
      "[CV] num_leaves=15, learning_rate=0.2, num_iterations=40 .............\n",
      "[CV]  num_leaves=15, learning_rate=0.2, num_iterations=40, total=   1.2s\n",
      "[CV] num_leaves=31, learning_rate=0.2, num_iterations=40 .............\n",
      "[CV]  num_leaves=31, learning_rate=0.2, num_iterations=40, total=   0.5s\n",
      "[CV] num_leaves=31, learning_rate=0.2, num_iterations=40 .............\n",
      "[CV]  num_leaves=31, learning_rate=0.2, num_iterations=40, total=   0.7s\n",
      "[CV] num_leaves=31, learning_rate=0.2, num_iterations=40 .............\n",
      "[CV]  num_leaves=31, learning_rate=0.2, num_iterations=40, total=   0.9s\n",
      "[CV] num_leaves=31, learning_rate=0.2, num_iterations=40 .............\n",
      "[CV]  num_leaves=31, learning_rate=0.2, num_iterations=40, total=   1.1s\n",
      "[CV] num_leaves=31, learning_rate=0.2, num_iterations=40 .............\n",
      "[CV]  num_leaves=31, learning_rate=0.2, num_iterations=40, total=   1.5s\n",
      "[CV] num_leaves=63, learning_rate=0.2, num_iterations=40 .............\n",
      "[CV]  num_leaves=63, learning_rate=0.2, num_iterations=40, total=   0.6s\n",
      "[CV] num_leaves=63, learning_rate=0.2, num_iterations=40 .............\n",
      "[CV]  num_leaves=63, learning_rate=0.2, num_iterations=40, total=   0.8s\n",
      "[CV] num_leaves=63, learning_rate=0.2, num_iterations=40 .............\n",
      "[CV]  num_leaves=63, learning_rate=0.2, num_iterations=40, total=   1.2s\n",
      "[CV] num_leaves=63, learning_rate=0.2, num_iterations=40 .............\n",
      "[CV]  num_leaves=63, learning_rate=0.2, num_iterations=40, total=   1.5s\n",
      "[CV] num_leaves=63, learning_rate=0.2, num_iterations=40 .............\n",
      "[CV]  num_leaves=63, learning_rate=0.2, num_iterations=40, total=   1.8s\n",
      "[CV] num_leaves=15, learning_rate=0.2, num_iterations=100 ............\n",
      "[CV]  num_leaves=15, learning_rate=0.2, num_iterations=100, total=   0.8s\n",
      "[CV] num_leaves=15, learning_rate=0.2, num_iterations=100 ............\n",
      "[CV]  num_leaves=15, learning_rate=0.2, num_iterations=100, total=   1.1s\n",
      "[CV] num_leaves=15, learning_rate=0.2, num_iterations=100 ............\n",
      "[CV]  num_leaves=15, learning_rate=0.2, num_iterations=100, total=   1.6s\n",
      "[CV] num_leaves=15, learning_rate=0.2, num_iterations=100 ............\n",
      "[CV]  num_leaves=15, learning_rate=0.2, num_iterations=100, total=   2.0s\n",
      "[CV] num_leaves=15, learning_rate=0.2, num_iterations=100 ............\n",
      "[CV]  num_leaves=15, learning_rate=0.2, num_iterations=100, total=   2.1s\n",
      "[CV] num_leaves=31, learning_rate=0.2, num_iterations=100 ............\n",
      "[CV]  num_leaves=31, learning_rate=0.2, num_iterations=100, total=   0.9s\n",
      "[CV] num_leaves=31, learning_rate=0.2, num_iterations=100 ............\n",
      "[CV]  num_leaves=31, learning_rate=0.2, num_iterations=100, total=   1.3s\n",
      "[CV] num_leaves=31, learning_rate=0.2, num_iterations=100 ............\n",
      "[CV]  num_leaves=31, learning_rate=0.2, num_iterations=100, total=   1.5s\n",
      "[CV] num_leaves=31, learning_rate=0.2, num_iterations=100 ............\n",
      "[CV]  num_leaves=31, learning_rate=0.2, num_iterations=100, total=   2.0s\n",
      "[CV] num_leaves=31, learning_rate=0.2, num_iterations=100 ............\n",
      "[CV]  num_leaves=31, learning_rate=0.2, num_iterations=100, total=   2.3s\n",
      "[CV] num_leaves=63, learning_rate=0.2, num_iterations=100 ............\n",
      "[CV]  num_leaves=63, learning_rate=0.2, num_iterations=100, total=   1.0s\n",
      "[CV] num_leaves=63, learning_rate=0.2, num_iterations=100 ............\n",
      "[CV]  num_leaves=63, learning_rate=0.2, num_iterations=100, total=   1.5s\n",
      "[CV] num_leaves=63, learning_rate=0.2, num_iterations=100 ............\n",
      "[CV]  num_leaves=63, learning_rate=0.2, num_iterations=100, total=   1.9s\n",
      "[CV] num_leaves=63, learning_rate=0.2, num_iterations=100 ............\n",
      "[CV]  num_leaves=63, learning_rate=0.2, num_iterations=100, total=   3.0s\n",
      "[CV] num_leaves=63, learning_rate=0.2, num_iterations=100 ............\n",
      "[CV]  num_leaves=63, learning_rate=0.2, num_iterations=100, total=   2.9s\n",
      "[CV] num_leaves=15, learning_rate=0.2, num_iterations=500 ............\n",
      "[CV]  num_leaves=15, learning_rate=0.2, num_iterations=500, total=   2.2s\n",
      "[CV] num_leaves=15, learning_rate=0.2, num_iterations=500 ............\n",
      "[CV]  num_leaves=15, learning_rate=0.2, num_iterations=500, total=   3.4s\n",
      "[CV] num_leaves=15, learning_rate=0.2, num_iterations=500 ............\n",
      "[CV]  num_leaves=15, learning_rate=0.2, num_iterations=500, total=   4.4s\n",
      "[CV] num_leaves=15, learning_rate=0.2, num_iterations=500 ............\n",
      "[CV]  num_leaves=15, learning_rate=0.2, num_iterations=500, total=   6.2s\n",
      "[CV] num_leaves=15, learning_rate=0.2, num_iterations=500 ............\n",
      "[CV]  num_leaves=15, learning_rate=0.2, num_iterations=500, total=   7.5s\n",
      "[CV] num_leaves=31, learning_rate=0.2, num_iterations=500 ............\n",
      "[CV]  num_leaves=31, learning_rate=0.2, num_iterations=500, total=   3.2s\n",
      "[CV] num_leaves=31, learning_rate=0.2, num_iterations=500 ............\n",
      "[CV]  num_leaves=31, learning_rate=0.2, num_iterations=500, total=   4.1s\n",
      "[CV] num_leaves=31, learning_rate=0.2, num_iterations=500 ............\n",
      "[CV]  num_leaves=31, learning_rate=0.2, num_iterations=500, total=   5.0s\n",
      "[CV] num_leaves=31, learning_rate=0.2, num_iterations=500 ............\n",
      "[CV]  num_leaves=31, learning_rate=0.2, num_iterations=500, total=   7.0s\n",
      "[CV] num_leaves=31, learning_rate=0.2, num_iterations=500 ............\n",
      "[CV]  num_leaves=31, learning_rate=0.2, num_iterations=500, total=   8.0s\n",
      "[CV] num_leaves=63, learning_rate=0.2, num_iterations=500 ............\n",
      "[CV]  num_leaves=63, learning_rate=0.2, num_iterations=500, total=   3.6s\n",
      "[CV] num_leaves=63, learning_rate=0.2, num_iterations=500 ............\n",
      "[CV]  num_leaves=63, learning_rate=0.2, num_iterations=500, total=   5.0s\n",
      "[CV] num_leaves=63, learning_rate=0.2, num_iterations=500 ............\n",
      "[CV]  num_leaves=63, learning_rate=0.2, num_iterations=500, total=   7.2s\n",
      "[CV] num_leaves=63, learning_rate=0.2, num_iterations=500 ............\n",
      "[CV]  num_leaves=63, learning_rate=0.2, num_iterations=500, total=   8.0s\n",
      "[CV] num_leaves=63, learning_rate=0.2, num_iterations=500 ............\n",
      "[CV]  num_leaves=63, learning_rate=0.2, num_iterations=500, total=  10.2s\n",
      "[CV] num_leaves=15, learning_rate=0.2, num_iterations=1000 ...........\n",
      "[CV]  num_leaves=15, learning_rate=0.2, num_iterations=1000, total=   4.1s\n",
      "[CV] num_leaves=15, learning_rate=0.2, num_iterations=1000 ...........\n",
      "[CV]  num_leaves=15, learning_rate=0.2, num_iterations=1000, total=   6.2s\n",
      "[CV] num_leaves=15, learning_rate=0.2, num_iterations=1000 ...........\n",
      "[CV]  num_leaves=15, learning_rate=0.2, num_iterations=1000, total=   9.9s\n",
      "[CV] num_leaves=15, learning_rate=0.2, num_iterations=1000 ...........\n",
      "[CV]  num_leaves=15, learning_rate=0.2, num_iterations=1000, total=  10.6s\n",
      "[CV] num_leaves=15, learning_rate=0.2, num_iterations=1000 ...........\n",
      "[CV]  num_leaves=15, learning_rate=0.2, num_iterations=1000, total=  13.7s\n",
      "[CV] num_leaves=31, learning_rate=0.2, num_iterations=1000 ...........\n",
      "[CV]  num_leaves=31, learning_rate=0.2, num_iterations=1000, total=   5.2s\n",
      "[CV] num_leaves=31, learning_rate=0.2, num_iterations=1000 ...........\n",
      "[CV]  num_leaves=31, learning_rate=0.2, num_iterations=1000, total=   8.6s\n",
      "[CV] num_leaves=31, learning_rate=0.2, num_iterations=1000 ...........\n",
      "[CV]  num_leaves=31, learning_rate=0.2, num_iterations=1000, total=  10.3s\n",
      "[CV] num_leaves=31, learning_rate=0.2, num_iterations=1000 ...........\n",
      "[CV]  num_leaves=31, learning_rate=0.2, num_iterations=1000, total=  13.8s\n",
      "[CV] num_leaves=31, learning_rate=0.2, num_iterations=1000 ...........\n",
      "[CV]  num_leaves=31, learning_rate=0.2, num_iterations=1000, total=  14.6s\n",
      "[CV] num_leaves=63, learning_rate=0.2, num_iterations=1000 ...........\n",
      "[CV]  num_leaves=63, learning_rate=0.2, num_iterations=1000, total=   7.0s\n",
      "[CV] num_leaves=63, learning_rate=0.2, num_iterations=1000 ...........\n",
      "[CV]  num_leaves=63, learning_rate=0.2, num_iterations=1000, total=   9.4s\n",
      "[CV] num_leaves=63, learning_rate=0.2, num_iterations=1000 ...........\n",
      "[CV]  num_leaves=63, learning_rate=0.2, num_iterations=1000, total=  12.6s\n",
      "[CV] num_leaves=63, learning_rate=0.2, num_iterations=1000 ...........\n",
      "[CV]  num_leaves=63, learning_rate=0.2, num_iterations=1000, total=  15.6s\n",
      "[CV] num_leaves=63, learning_rate=0.2, num_iterations=1000 ...........\n",
      "[CV]  num_leaves=63, learning_rate=0.2, num_iterations=1000, total=  17.8s\n"
     ]
    },
    {
     "name": "stderr",
     "output_type": "stream",
     "text": [
      "[Parallel(n_jobs=1)]: Done 180 out of 180 | elapsed: 27.0min finished\n"
     ]
    },
    {
     "data": {
      "text/plain": [
       "GridSearchCV(cv=TimeSeriesSplit(max_train_size=None, n_splits=5),\n",
       "       error_score='raise',\n",
       "       estimator=LGBMRegressor(application='neg_mean_absolute_error', boosting_type='gbdt',\n",
       "       categorical_feature=[0, 1, 2, 3, 4, 5], class_weight=None,\n",
       "       colsample_bytree=1.0, learning_rate=0.1, max_depth=-1,\n",
       "       min_child_samples=20, min_child_weight=0.001, min_split_gain=0.0,\n",
       "       n_estimators=100, n_jobs=-1, num_leaves=31, objective=None,\n",
       "       random_state=None, reg_alpha=0.0, reg_lambda=0.0, silent=True,\n",
       "       subsample=1.0, subsample_for_bin=200000, subsample_freq=1),\n",
       "       fit_params=None, iid=True, n_jobs=1,\n",
       "       param_grid={'num_leaves': [15, 31, 63], 'learning_rate': [0.05, 0.1, 0.2], 'num_iterations': [40, 100, 500, 1000]},\n",
       "       pre_dispatch='2*n_jobs', refit=True, return_train_score='warn',\n",
       "       scoring='neg_mean_absolute_error', verbose=2)"
      ]
     },
     "execution_count": 50,
     "metadata": {},
     "output_type": "execute_result"
    }
   ],
   "source": [
    "gs.fit(X_train, y)"
   ]
  },
  {
   "cell_type": "code",
   "execution_count": 55,
   "metadata": {},
   "outputs": [
    {
     "name": "stdout",
     "output_type": "stream",
     "text": [
      "{'num_leaves': 15, 'learning_rate': 0.1, 'num_iterations': 100}\n",
      "-1.15623286872393\n"
     ]
    }
   ],
   "source": [
    "print(gs.best_params_)\n",
    "print(gs.best_score_)"
   ]
  },
  {
   "cell_type": "markdown",
   "metadata": {},
   "source": [
    "Как видно, learning_rate и num_iterations лучше работают если их оставить как есть, num_leaves в нашем случае можно уменьшить - у нас мало признаков, поэтому слишком сожная модель тут не нужна. При этом видно, что уменьшив количество признаков мы сильно ухудшили качество модели - теперь она с трудом бьет бейзлайн"
   ]
  },
  {
   "cell_type": "markdown",
   "metadata": {
    "colab_type": "text",
    "id": "no7qIOgxsdj0"
   },
   "source": [
    "###  Часть 10. Построение кривых валидации и обучения "
   ]
  },
  {
   "cell_type": "markdown",
   "metadata": {},
   "source": [
    "Построим кривые для валидации и обучения. Возьмем для построения функцию из туториалов на scikit-learn.org, и посмотрим как ведет себя наша модель на обучении."
   ]
  },
  {
   "cell_type": "code",
   "execution_count": 52,
   "metadata": {
    "collapsed": true
   },
   "outputs": [],
   "source": [
    "def plot_learning_curve(estimator, title, X, y, ylim=None, cv=None,\n",
    "                        n_jobs=1, train_sizes=np.linspace(.1, 1.0, 5)):\n",
    "    '''\n",
    "    http://scikit-learn.org/stable/auto_examples/model_selection/plot_learning_curve.html\n",
    "    '''\n",
    "    \n",
    "    plt.figure()\n",
    "    plt.title(title)\n",
    "    if ylim is not None:\n",
    "        plt.ylim(*ylim)\n",
    "    plt.xlabel(\"Training examples\")\n",
    "    plt.ylabel(\"Score\")\n",
    "    train_sizes, train_scores, test_scores = learning_curve(\n",
    "        estimator, X, y, cv=cv, n_jobs=n_jobs, train_sizes=train_sizes, scoring='neg_mean_absolute_error')\n",
    "    train_scores_mean = np.mean(train_scores, axis=1)\n",
    "    train_scores_std = np.std(train_scores, axis=1)\n",
    "    test_scores_mean = np.mean(test_scores, axis=1)\n",
    "    test_scores_std = np.std(test_scores, axis=1)\n",
    "    plt.grid()\n",
    "\n",
    "    plt.fill_between(train_sizes, train_scores_mean - train_scores_std,\n",
    "                     train_scores_mean + train_scores_std, alpha=0.1,\n",
    "                     color=\"r\")\n",
    "    plt.fill_between(train_sizes, test_scores_mean - test_scores_std,\n",
    "                     test_scores_mean + test_scores_std, alpha=0.1, color=\"g\")\n",
    "    plt.plot(train_sizes, train_scores_mean, 'o-', color=\"r\",\n",
    "             label=\"Training score\")\n",
    "    plt.plot(train_sizes, test_scores_mean, 'o-', color=\"g\",\n",
    "             label=\"Cross-validation score\")\n",
    "\n",
    "    plt.legend(loc=\"best\")\n",
    "    return plt"
   ]
  },
  {
   "cell_type": "code",
   "execution_count": 53,
   "metadata": {
    "colab": {
     "autoexec": {
      "startup": false,
      "wait_interval": 0
     }
    },
    "colab_type": "code",
    "id": "pm3ki_EOsdj1"
   },
   "outputs": [],
   "source": [
    "model = lgb.LGBMRegressor(**gs.best_params_, categorical_feature=list(range(len(categorical_cols))))"
   ]
  },
  {
   "cell_type": "code",
   "execution_count": 54,
   "metadata": {
    "colab": {
     "autoexec": {
      "startup": false,
      "wait_interval": 0
     }
    },
    "colab_type": "code",
    "id": "9MwDsZQgsdj7"
   },
   "outputs": [
    {
     "data": {
      "text/plain": [
       "<Figure size 1080x720 with 0 Axes>"
      ]
     },
     "execution_count": 54,
     "metadata": {},
     "output_type": "execute_result"
    },
    {
     "data": {
      "image/png": "[encoded data removed]",
      "text/plain": [
       "<Figure size 1080x720 with 1 Axes>"
      ]
     },
     "metadata": {},
     "output_type": "display_data"
    },
    {
     "data": {
      "text/plain": [
       "<Figure size 1080x720 with 0 Axes>"
      ]
     },
     "metadata": {},
     "output_type": "display_data"
    }
   ],
   "source": [
    "plot_learning_curve(model, 'LGBM', X_train, y, cv=tss);\n",
    "plt.figure(figsize=(15, 10))"
   ]
  },
  {
   "cell_type": "markdown",
   "metadata": {},
   "source": [
    "На графике видно, что ошибка на валидации практически не уменьшается во время тренировки, только в самом начале, а затем даже начинает расти (ошибка не трейне ведет себя стандартно). Это говорит о небольшом переобучении - хотя в дальнейшем график выходит на плато. Причина в том, что у нас не хватило данных для анализа, после того как мы убрали все переменные связанные с отзывами пользователя. Алгоритм не может построить хорошее предсказание на имеющихся данных."
   ]
  },
  {
   "cell_type": "markdown",
   "metadata": {
    "colab_type": "text",
    "id": "h6Id8c_Ssdj3"
   },
   "source": [
    "###  Часть 11. Прогноз для отложенной выборки, оценка модели с описанием выбранной метрики"
   ]
  },
  {
   "cell_type": "raw",
   "metadata": {},
   "source": [
    "model = lgb.LGBMRegressor(**gs.best_params_, categorical_feature=list(range(len(categorical_cols))))\n",
    "model.fit(X_train, y)\n",
    "y_pred = model.predict(X_test)\n",
    "print(mean_absolute_error(y_pred, y_hold))"
   ]
  },
  {
   "cell_type": "markdown",
   "metadata": {},
   "source": [
    "Как видно, наша модель совсем чуть-лучше бейзлайна. Это произошло потому, что мы исключили  самые важные признаки - проверим, улучшится ли модель если мы добавим количество слов в отзыве в параметры. В принципе, то же самое мы получили и на кросс-валидации"
   ]
  },
  {
   "cell_type": "code",
   "execution_count": 66,
   "metadata": {},
   "outputs": [
    {
     "name": "stdout",
     "output_type": "stream",
     "text": [
      "0.9334705738292058\n"
     ]
    }
   ],
   "source": [
    "X_train_leaked = X[categorical_cols + numeric_cols_linear]\n",
    "X_test_leaked = X_hold[categorical_cols + numeric_cols_linear]\n",
    "model_leaked = lgb.LGBMRegressor(**gs.best_params_, categorical_feature=list(range(len(categorical_cols))))\n",
    "model_leaked.fit(X_train_leaked, y)\n",
    "y_leaked = model_leaked.predict(X_test_leaked)\n",
    "print(mean_absolute_error(y_leaked, y_hold))"
   ]
  },
  {
   "cell_type": "markdown",
   "metadata": {},
   "source": [
    "Как видим, мы почти смогли повторить показатели линейной модели. При этом надо понимать, что просто количество слов менее хороший параметр чем сам текст отзыва - например, положительный отзыв \"No positive\" и \"Everything fine\" содержат по два слова, но являются прямо противоположными по смыслу."
   ]
  },
  {
   "cell_type": "markdown",
   "metadata": {
    "colab_type": "text",
    "id": "Rk-o6QAzsdj-"
   },
   "source": [
    "### Часть 12. Выводы "
   ]
  },
  {
   "cell_type": "markdown",
   "metadata": {},
   "source": [
    "Итак, насколько же меньше ошибок совершает наша модель, по сравнению со средним значением рейтинга отеля?"
   ]
  },
  {
   "cell_type": "code",
   "execution_count": 68,
   "metadata": {
    "colab": {
     "autoexec": {
      "startup": false,
      "wait_interval": 0
     }
    },
    "colab_type": "code",
    "id": "ZU-2h7PosdkA"
   },
   "outputs": [
    {
     "name": "stdout",
     "output_type": "stream",
     "text": [
      "1.0263106859594688\n",
      "1.3053981119501636\n"
     ]
    }
   ],
   "source": [
    "print(mean_absolute_error(y_hold, X_hold['Average_Score']) /  mean_absolute_error(y_pred, y_hold))\n",
    "print(mean_absolute_error(y_hold, X_hold['Average_Score']) /  mean_absolute_error(y_leaked, y_hold))"
   ]
  },
  {
   "cell_type": "markdown",
   "metadata": {},
   "source": [
    "Итак, у нас не получилось натренировать модель, которая дает среднюю абсолютную ошибку значитльно меньше, чем если бы мы просто предсказывали среднюю оценку. Это значит, что конечный пользователь не сможет использовать получившуюся модель для того, чтобы облегчить свой выбор. В то же время, если бы задача стояла в предсказании оценки на основе отзыва - то тут ошибка падает на 30% по сравнению с бейзлайном, даже без использования текста отзыва. Но надо понимать, что такая задача наврядли может возникнуть в реальном мире, потому что раз уж у нас есть отзывы, то и оценка наверняка будет.  \n",
    "Чтобы модель заработала, нужно вводить дополнительны параметры - например, в зависимости от цены. В негативных отзывах были видны жалобы на дороговизну, так что учитывать благосостояние было бы логичным шагом. Ну и не только, ведь по сути у нас было очень мало данных связанных с личностью пользователя - если этот набор расширить, то можно заметно улучшить качество модели. Т.е можно попытаться проанализировать негативные и отрицательные отзывы, выделить самые частые и предоставить мини-анкету, чтобы понять предпочтени пользователя - и делать прогноз на их основе.  \n",
    "В любом случае, данный проект показывает важность данных в data science - если у нас данные, которые не имеют хорошей связи с целевой переменной, то какие бы продвинутые методы мы не использовали - ничего не выйдет. Правило Garbage In - Gabage Out никто не отменял."
   ]
  }
 ],
 "metadata": {
  "anaconda-cloud": {},
  "colab": {
   "default_view": {},
   "name": "project_template.ipynb",
   "provenance": [],
   "version": "0.3.2",
   "views": {}
  },
  "kernelspec": {
   "display_name": "Python 3",
   "language": "python",
   "name": "python3"
  },
  "language_info": {
   "codemirror_mode": {
    "name": "ipython",
    "version": 3
   },
   "file_extension": ".py",
   "mimetype": "text/x-python",
   "name": "python",
   "nbconvert_exporter": "python",
   "pygments_lexer": "ipython3",
   "version": "3.6.8"
  }
 },
 "nbformat": 4,
 "nbformat_minor": 1
}
